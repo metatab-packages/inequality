{
 "cells": [
  {
   "cell_type": "code",
   "execution_count": 1,
   "metadata": {},
   "outputs": [],
   "source": [
    "\n",
    "import pandas as pd\n",
    "import numpy as np\n",
    "import metapack as mp\n",
    "from pathlib import Path\n",
    "from statsmodels.formula.api import ols\n",
    "import seaborn as sns\n",
    "import matplotlib.pyplot as plt\n",
    "from sdipylib.plot import  source_attribution\n",
    "\n",
    "# /Users/eric/opt/anaconda3/envs/data/lib/python3.7/site-packages/pandas/plotting/_tools.py:307: MatplotlibDeprecationWarning: \n",
    "# The rowNum attribute was deprecated in Matplotlib 3.2 and will be removed two minor releases later. Use ax.get_subplotspec().rowspan.start instead.\n",
    "#   layout[ax.rowNum, ax.colNum] = ax.get_visible()\n",
    "import warnings\n",
    "warnings.simplefilter(\"ignore\")\n",
    "\n",
    "large = 22; med = 16; small = 12\n",
    "params = {'axes.titlesize': large,\n",
    "          'legend.fontsize': med,\n",
    "          'figure.figsize': (16, 10),\n",
    "          'axes.labelsize': med,\n",
    "          'axes.titlesize': med,\n",
    "          'xtick.labelsize': med,\n",
    "          'ytick.labelsize': med,\n",
    "          'figure.titlesize': large}\n",
    "plt.rcParams.update(params)\n",
    "plt.style.use('seaborn-whitegrid')\n",
    "sns.set_style(\"white\")\n",
    "%matplotlib inline\n",
    "\n",
    "%run weights.py\n",
    "%run lib.py \n",
    "\n",
    "source = \"Survey of Consumer Finances, 2016 and 2019 pooled\""
   ]
  },
  {
   "cell_type": "code",
   "execution_count": 2,
   "metadata": {},
   "outputs": [
    {
     "name": "stdout",
     "output_type": "stream",
     "text": [
      "Opening:  index:federalreserve.gov-consumer_finances-2016e2019-inherit\n"
     ]
    },
    {
     "data": {
      "text/html": [
       "<h1>Survey of Consumer Finances, Inheritance Extract</h1>\n",
       "<p><code>federalreserve.gov-consumer_finances-2016e2019-inherit-1.2.6</code> Last Update: 2020-12-23T22:27:54</p>\n",
       "<p><em>An Extract from the survey of consumer finances for studying networth and ineritance, from multiple years</em></p>\n",
       "<p>This is an extract of the 2016 and 2019 Survey of Consumer Finances, with extracted variables\n",
       "and recoded variables oriented toward studying inheritance.</p>\n",
       "<h2>Images</h2>\n",
       "<p><a href=\"docs/networth_race_inc.png\"><img alt=\"doc_img\" src=\"docs/networth_race_inc.png\" title=\"networth_race_inc\" /></a></p>\n",
       "<p>Net Worth by Income Percentile and Race## Notes</p>\n",
       "<ul>\n",
       "<li>Version 1.2.2 Added the Inflatable flag</li>\n",
       "<li>Version 1.2.3 Inflated dollar ammounts to current dollars</li>\n",
       "<li>Version 1.2.6 Fixed inflation error, dded non-inflated dataset.</li>\n",
       "</ul>\n",
       "<h2>Contacts</h2>\n",
       "<ul>\n",
       "<li><strong>Wrangler</strong> <a href=\"mailto:eric@civicknowledge.com\">Eric Busboom</a>, <a href=\"http://civicknowledge.com\">Civic Knowledge</a></li>\n",
       "</ul>\n",
       "<h2>Resources</h2>\n",
       "<ul>\n",
       "<li><strong> <a href=\"data/inherit_scf_16_19.csv\">inherit_scf_16_19</a></strong>. Extract of the 2016 and 2019 SCF for inheritance and networth,uninflated</li>\n",
       "<li><strong> <a href=\"data/inherit_scf_16_19_i.csv\">inherit_scf_16_19_i</a></strong>. Extract of the 2016 and 2019 SCF for inheritance and networth, inflated to 2020 dollars</li>\n",
       "</ul>\n",
       "<h2>References</h2>\n",
       "<p><ul><li> <strong>scf</string>, <em>metapack+http://library.metatab.org/federalreserve.gov-consumer_finances.csv</em>. Survey of consumer finances data packages</li><li> <strong><a href=\"https://fred.stlouisfed.org/graph/fredgraph.csv?&id=CPIAUCSL\">cpi</a></strong>. Consumer Price Index</li><ul></p>"
      ],
      "text/plain": [
       "# Survey of Consumer Finances, Inheritance Extract\n",
       "`federalreserve.gov-consumer_finances-2016e2019-inherit-1.2.6` Last Update: 2020-12-23T22:27:54\n",
       "\n",
       "_An Extract from the survey of consumer finances for studying networth and ineritance, from multiple years_\n",
       "\n",
       "\n",
       "This is an extract of the 2016 and 2019 Survey of Consumer Finances, with extracted variables\n",
       "and recoded variables oriented toward studying inheritance.\n",
       "\n",
       "\n",
       " \n",
       "## Images\n",
       "\n",
       "[![doc_img](docs/networth_race_inc.png \"networth_race_inc\")](docs/networth_race_inc.png)\n",
       "\n",
       "Net Worth by Income Percentile and Race## Notes\n",
       "\n",
       "* Version 1.2.2 Added the Inflatable flag\n",
       "* Version 1.2.3 Inflated dollar ammounts to current dollars\n",
       "* Version 1.2.6 Fixed inflation error, dded non-inflated dataset.\n",
       "## Contacts\n",
       "\n",
       "* **Wrangler** [Eric Busboom](mailto:eric@civicknowledge.com), [Civic Knowledge](http://civicknowledge.com)\n",
       "\n",
       "## Resources\n",
       "\n",
       "* ** [inherit_scf_16_19](data/inherit_scf_16_19.csv)**. Extract of the 2016 and 2019 SCF for inheritance and networth,uninflated\n",
       "* ** [inherit_scf_16_19_i](data/inherit_scf_16_19_i.csv)**. Extract of the 2016 and 2019 SCF for inheritance and networth, inflated to 2020 dollars\n",
       "\n",
       "## References\n",
       "<ul><li> <strong>scf</string>, <em>metapack+http://library.metatab.org/federalreserve.gov-consumer_finances.csv</em>. Survey of consumer finances data packages</li><li> <strong><a href=\"https://fred.stlouisfed.org/graph/fredgraph.csv?&id=CPIAUCSL\">cpi</a></strong>. Consumer Price Index</li><ul>\n"
      ]
     },
     "execution_count": 2,
     "metadata": {},
     "output_type": "execute_result"
    }
   ],
   "source": [
    "pkg = multi_open('federalreserve.gov-consumer_finances-2016e2019-inherit', print_ref=True)\n",
    "#pkg = mp.jupyter.open_source_package()\n",
    "pkg"
   ]
  },
  {
   "cell_type": "code",
   "execution_count": 6,
   "metadata": {},
   "outputs": [],
   "source": [
    "inherit_scf_16_19 = pkg.resource('inherit_scf_16_19_i').dataframe()\n",
    "\n",
    "df =   make_descriptive_df(inherit_scf_16_19)    \n",
    "dfs = df.sample(500_000, replace=True, weights=df.wt0)"
   ]
  },
  {
   "cell_type": "code",
   "execution_count": 5,
   "metadata": {},
   "outputs": [
    {
     "data": {
      "text/html": [
       "<h3><a name=\"resource-inherit_scf_16_19_i\"></a>inherit_scf_16_19_i</h3><p><a target=\"_blank\" href=\"file:///Users/eric/proj/data-projects/metatab-packages/inequality-collection/federalreserve.gov-consumer_finances-2016-inherit/_packages/federalreserve.gov-consumer_finances-2016e2019-inherit-1.2.6/data/inherit_scf_16_19_i.csv\">file:///Users/eric/proj/data-projects/metatab-packages/inequality-collection/federalreserve.gov-consumer_finances-2016-inherit/_packages/federalreserve.gov-consumer_finances-2016e2019-inherit-1.2.6/data/inherit_scf_16_19_i.csv</a></p><table>\n",
       "<tr><th>Header</th><th>Type</th><th>Description</th></tr><tr><td>year</td><td>integer</td><td>Year of the SCL reelase the record was drawn from</td></tr> \n",
       "<tr><td>case_id</td><td>integer</td><td></td></tr> \n",
       "<tr><td>record_id</td><td>integer</td><td></td></tr> \n",
       "<tr><td>implicate_id</td><td>integer</td><td>Impicate number, 1 to 5</td></tr> \n",
       "<tr><td>age_1</td><td>integer</td><td>Age of first household adult</td></tr> \n",
       "<tr><td>age_2</td><td>integer</td><td>Age of second household adult.</td></tr> \n",
       "<tr><td>hisp</td><td>integer</td><td>Is the HH Hispanic</td></tr> \n",
       "<tr><td>race</td><td>string</td><td>Simpified race for HH</td></tr> \n",
       "<tr><td>addtional_race</td><td>integer</td><td></td></tr> \n",
       "<tr><td>unusual_income</td><td>integer</td><td></td></tr> \n",
       "<tr><td>ed_1</td><td>string</td><td>Education of person 1</td></tr> \n",
       "<tr><td>ed_2</td><td>string</td><td>Education of person 2</td></tr> \n",
       "<tr><td>ed_mother_1</td><td>string</td><td>Education of person 1's mother</td></tr> \n",
       "<tr><td>ed_father_1</td><td>string</td><td>Education of person 1's father</td></tr> \n",
       "<tr><td>ed_mother_2</td><td>string</td><td>Education of person 2's mother</td></tr> \n",
       "<tr><td>ed_father_2</td><td>string</td><td>Education of person 2's father</td></tr> \n",
       "<tr><td>occ_1</td><td>integer</td><td>Occupation of person 1</td></tr> \n",
       "<tr><td>occ_2</td><td>integer</td><td>Occupation of person 2</td></tr> \n",
       "<tr><td>gi_other_value</td><td>integer</td><td></td></tr> \n",
       "<tr><td>fin_risk</td><td>integer</td><td>Tolerance for financial risk</td></tr> \n",
       "<tr><td>shop_credit</td><td>integer</td><td></td></tr> \n",
       "<tr><td>shop_credit_2</td><td>integer</td><td></td></tr> \n",
       "<tr><td>fin_know</td><td>integer</td><td></td></tr> \n",
       "<tr><td>borrow_vacation</td><td>integer</td><td>Is R willing to borrow to pay for a vacation.</td></tr> \n",
       "<tr><td>plan_horizon</td><td>integer</td><td></td></tr> \n",
       "<tr><td>spend_exceeds</td><td>integer</td><td>Does spending exceed income?</td></tr> \n",
       "<tr><td>spend_exceeds_excl_house</td><td>integer</td><td>Does spending, excluding house payments, exceed income?</td></tr> \n",
       "<tr><td>wt0</td><td>number</td><td>HH weight</td></tr> \n",
       "<tr><td>gi_type_1</td><td>string</td><td></td></tr> \n",
       "<tr><td>gi_value_1</td><td>integer</td><td></td></tr> \n",
       "<tr><td>gi_year_1</td><td>integer</td><td></td></tr> \n",
       "<tr><td>gi_from_1</td><td>integer</td><td></td></tr> \n",
       "<tr><td>gi_type_2</td><td>string</td><td></td></tr> \n",
       "<tr><td>gi_value_2</td><td>integer</td><td></td></tr> \n",
       "<tr><td>gi_year_2</td><td>integer</td><td></td></tr> \n",
       "<tr><td>gi_from_2</td><td>integer</td><td></td></tr> \n",
       "<tr><td>gi_type_3</td><td>string</td><td></td></tr> \n",
       "<tr><td>gi_value_3</td><td>integer</td><td></td></tr> \n",
       "<tr><td>gi_year_3</td><td>integer</td><td></td></tr> \n",
       "<tr><td>gi_from_3</td><td>integer</td><td></td></tr> \n",
       "<tr><td>networth</td><td>number</td><td></td></tr> \n",
       "<tr><td>income</td><td>number</td><td></td></tr> \n",
       "<tr><td>nwcat</td><td>integer</td><td></td></tr> \n",
       "<tr><td>nwpctlecat</td><td>integer</td><td>Networth percentile category</td></tr> \n",
       "<tr><td>norminc</td><td>number</td><td>Normal income</td></tr> \n",
       "<tr><td>ninccat</td><td>integer</td><td>Normal income category</td></tr> \n",
       "<tr><td>ninc2cat</td><td>integer</td><td>Normal income category, with fewer categories</td></tr> \n",
       "<tr><td>nincpctlecat</td><td>integer</td><td>Normal income percentil category</td></tr> \n",
       "<tr><td>occat1</td><td>integer</td><td>Occupational category for person 1</td></tr> \n",
       "<tr><td>occat2</td><td>integer</td><td>Occupational category for person 2</td></tr> \n",
       "<tr><td>edcl</td><td>string</td><td>Educational class</td></tr> \n",
       "<tr><td>lifecl</td><td>integer</td><td>Life stage category</td></tr> \n",
       "<tr><td>famstruct</td><td>integer</td><td>Family structure category</td></tr> \n",
       "<tr><td>married</td><td>integer</td><td>Is person 1 married?</td></tr> \n",
       "<tr><td>agecl</td><td>string</td><td>Age group category</td></tr> \n",
       "<tr><td>housecl</td><td>integer</td><td>House ownership category</td></tr> \n",
       "<tr><td>racecl</td><td>integer</td><td>Race category</td></tr> \n",
       "<tr><td>racecl4</td><td>integer</td><td>Race, with 4 categories</td></tr> \n",
       "<tr><td>asset</td><td>number</td><td></td></tr> \n",
       "<tr><td>liq</td><td>number</td><td></td></tr> \n",
       "<tr><td>bond</td><td>number</td><td></td></tr> \n",
       "<tr><td>fin</td><td>number</td><td></td></tr> \n",
       "<tr><td>nfin</td><td>number</td><td></td></tr> \n",
       "<tr><td>debt</td><td>number</td><td></td></tr> \n",
       "<tr><td>indcat</td><td>integer</td><td></td></tr> \n",
       "<tr><td>equity</td><td>number</td><td></td></tr> \n",
       "<tr><td>homeeq</td><td>number</td><td></td></tr> \n",
       "<tr><td>revpay</td><td>number</td><td></td></tr> \n",
       "<tr><td>bnkruplast5</td><td>integer</td><td></td></tr> \n",
       "<tr><td>debt2inc</td><td>number</td><td></td></tr> \n",
       "<tr><td>hsaving</td><td>integer</td><td></td></tr> \n",
       "<tr><td>saved</td><td>integer</td><td></td></tr> \n",
       "<tr><td>education</td><td>string</td><td></td></tr> \n",
       "<tr><td>occ</td><td>integer</td><td></td></tr> \n",
       "<tr><td>lt_planner</td><td>integer</td><td></td></tr> \n",
       "<tr><td>nincpctle</td><td>integer</td><td></td></tr> \n",
       "<tr><td>ninc</td><td>integer</td><td></td></tr> \n",
       "<tr><td>nwpctle</td><td>integer</td><td></td></tr> \n",
       "<tr><td>gi_sum</td><td>integer</td><td>Sum of the value of gift, trust or inheritance transfers</td></tr> \n",
       "<tr><td>n_gift</td><td>integer</td><td>Number of gift transfers</td></tr> \n",
       "<tr><td>n_inherit</td><td>integer</td><td>Number of inheritance transfers</td></tr> \n",
       "<tr><td>n_trust</td><td>integer</td><td>Number of trust transfers</td></tr> \n",
       "<tr><td>n_transfer</td><td>integer</td><td>Number of gift, trust or inheritance transfers</td></tr> \n",
       "<tr><td>any_transfer</td><td>integer</td><td>Has HH recieved any transfer?</td></tr> \n",
       "<tr><td>any_inherit</td><td>integer</td><td>Has HH recieved and inheritance?</td></tr> \n",
       "<tr><td>hhsize</td><td>integer</td><td>Household size. Actually the number of financially contributing adults in the analysis unit, either 1 or 2.</td></tr> \n",
       "<tr><td>networthpc</td><td>number</td><td>Networth divided by hhsize</td></tr> \n",
       "<tr><td>assetpc</td><td>number</td><td>Assets divided by hhsize</td></tr> \n",
       "<tr><td>gi_pv_10</td><td>number</td><td>Value of each gift or transfer, compounded ot the present at 10%</td></tr> \n",
       "<tr><td>gi_pv_7</td><td>number</td><td>Value of each gift or transfer, compounded ot the present at 7%</td></tr> \n",
       "<tr><td>gi_pv_5</td><td>number</td><td>Value of each gift or transfer, compounded ot the present at 5%</td></tr> \n",
       "<tr><td>gi_value_cd</td><td>number</td><td>Sum of transfers, with each transfer inflated to current dollars</td></tr> </table>"
      ],
      "text/plain": [
       "<Resource: metadata.csv 38:1 root.datafile data/inherit_scf_16_19_i.csv ['inherit_scf_16_19_i', 'Extract of the 2016 and 2019 SCF for inheritance and networth, inflated to 2020 dollars', 'inherit_scf_16_19']>"
      ]
     },
     "execution_count": 5,
     "metadata": {},
     "output_type": "execute_result"
    }
   ],
   "source": [
    "pkg.resource('inherit_scf_16_19_i')"
   ]
  },
  {
   "cell_type": "code",
   "execution_count": 18,
   "metadata": {},
   "outputs": [
    {
     "data": {
      "text/plain": [
       "0.2609673474416501"
      ]
     },
     "execution_count": 18,
     "metadata": {},
     "output_type": "execute_result"
    }
   ],
   "source": [
    "(dfs.gi_pv_5/dfs.networth).clip(0,10).mean()"
   ]
  },
  {
   "cell_type": "code",
   "execution_count": 40,
   "metadata": {},
   "outputs": [
    {
     "data": {
      "text/plain": [
       "0.007479052970515488"
      ]
     },
     "execution_count": 40,
     "metadata": {},
     "output_type": "execute_result"
    }
   ],
   "source": [
    "t = dfs[dfs.year == 2016].copy()\n",
    "(t.gi_pv_5/t.networth).clip(None, 1).mean()"
   ]
  },
  {
   "cell_type": "code",
   "execution_count": 85,
   "metadata": {},
   "outputs": [
    {
     "data": {
      "text/plain": [
       "(-inf, 0.0]         194590\n",
       "(0.896, 1.384]        5498\n",
       "(0.0815, 0.15]        5498\n",
       "(1.384, 2.879]        5497\n",
       "(0.377, 0.587]        5494\n",
       "(0.15, 0.249]         5494\n",
       "(2.879, inf]          5487\n",
       "(0.0263, 0.0815]      5486\n",
       "(0.249, 0.377]        5485\n",
       "(0.587, 0.896]        5477\n",
       "(0.0, 0.0263]         3230\n",
       "dtype: int64"
      ]
     },
     "execution_count": 85,
     "metadata": {},
     "output_type": "execute_result"
    }
   ],
   "source": [
    "# Roughtly equal count bins, on ratio of inheritance to total net worth\n",
    "bins = [-np.inf,  0, 2.62840016e-02,  8.15457002e-02,  1.50200150e-01,\n",
    "        2.48793776e-01,  3.77233895e-01,  5.86701327e-01,  8.96220638e-01,\n",
    "        1.38364909e+00,  2.87914355e+00,  np.inf]\n",
    "t = dfs[dfs.year == 2016].copy()\n",
    "#t.loc[t.gi_pv_5 == 0,'gi_pv_5'] = np.random.rand(len(t[t.gi_pv_5 == 0]))\n",
    "pd.cut((t.gi_pv_5/t.networth), bins).value_counts()"
   ]
  },
  {
   "cell_type": "code",
   "execution_count": 106,
   "metadata": {},
   "outputs": [
    {
     "data": {
      "text/plain": [
       "<matplotlib.axes._subplots.AxesSubplot at 0x7fcde82f84d0>"
      ]
     },
     "execution_count": 106,
     "metadata": {},
     "output_type": "execute_result"
    },
    {
     "data": {
      "image/png": "[encoded data removed]",
      "text/plain": [
       "<Figure size 432x288 with 1 Axes>"
      ]
     },
     "metadata": {
      "needs_background": "light"
     },
     "output_type": "display_data"
    }
   ],
   "source": [
    "t = dfs[dfs.year == 2016].copy()\n",
    "t.loc[t.gi_pv_5 == 0,'gi_pv_5'] = np.random.rand(len(t[t.gi_pv_5 == 0]))\n",
    "t['gi_nw_r'] = (t.gi_pv_5/t.networth).clip(-1e6, 1e6)\n",
    "\n",
    "#t = t[ (t.gi_nw_r >= 0 ) & (t.gi_nw_r < 3) ]\n",
    "t.gi_nw_r.hist(bins=100)"
   ]
  },
  {
   "cell_type": "code",
   "execution_count": 111,
   "metadata": {},
   "outputs": [
    {
     "data": {
      "text/plain": [
       "2126.5431425669226"
      ]
     },
     "execution_count": 111,
     "metadata": {},
     "output_type": "execute_result"
    }
   ],
   "source": [
    "t.gi_nw_r.mean()"
   ]
  },
  {
   "cell_type": "code",
   "execution_count": 110,
   "metadata": {},
   "outputs": [
    {
     "data": {
      "text/plain": [
       "<matplotlib.axes._subplots.AxesSubplot at 0x7fd089b09d10>"
      ]
     },
     "execution_count": 110,
     "metadata": {},
     "output_type": "execute_result"
    },
    {
     "data": {
      "image/png": "[encoded data removed]",
      "text/plain": [
       "<Figure size 432x288 with 1 Axes>"
      ]
     },
     "metadata": {
      "needs_background": "light"
     },
     "output_type": "display_data"
    }
   ],
   "source": [
    "sns.kdeplot(t[t.gi_nw_r>1].gi_nw_r)"
   ]
  },
  {
   "cell_type": "code",
   "execution_count": null,
   "metadata": {},
   "outputs": [],
   "source": []
  }
 ],
 "metadata": {
  "kernelspec": {
   "display_name": "Python 3",
   "language": "python",
   "name": "python3"
  },
  "language_info": {
   "codemirror_mode": {
    "name": "ipython",
    "version": 3
   },
   "file_extension": ".py",
   "mimetype": "text/x-python",
   "name": "python",
   "nbconvert_exporter": "python",
   "pygments_lexer": "ipython3",
   "version": "3.7.6"
  }
 },
 "nbformat": 4,
 "nbformat_minor": 4
}
