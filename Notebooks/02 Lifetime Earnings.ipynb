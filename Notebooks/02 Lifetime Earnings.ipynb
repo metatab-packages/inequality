{
 "cells": [
  {
   "cell_type": "code",
   "execution_count": 1,
   "metadata": {},
   "outputs": [],
   "source": [
    "%matplotlib inline\n",
    "import pandas as pd\n",
    "import numpy as np\n",
    "import metapack as mp\n",
    "from pathlib import Path\n",
    "from statsmodels.formula.api import ols\n",
    "import seaborn as sns\n",
    "import matplotlib.pyplot as plt \n",
    "\n",
    "import numpy as np\n",
    "import statsmodels.api as sm\n",
    "\n",
    "lowess = sm.nonparametric.lowess\n",
    "\n",
    "%run ./lib.py\n",
    "%run ./weights.py\n",
    "\n",
    "age_duration = {\n",
    "    '-35': 12,    # 1\n",
    "    '35-44': 10,  # 2 \n",
    "    '45-54': 10,  # 3\n",
    "    '55-64': 10 , # 4\n",
    "    '65-74': 0,   # 5\n",
    "    '75+': 0      # 6\n",
    "}\n",
    "\n",
    "\n",
    "source = \"Survey of Consumer Finances, 2016 and 2019 pooled\"\n"
   ]
  },
  {
   "cell_type": "code",
   "execution_count": 2,
   "metadata": {},
   "outputs": [
    {
     "name": "stdout",
     "output_type": "stream",
     "text": [
      "Opening:  index:federalreserve.gov-consumer_finances-2016e2019-inherit\n"
     ]
    },
    {
     "data": {
      "text/html": [
       "<h1>Survey of Consumer Finances, Inheritance Extract</h1>\n",
       "<p><code>federalreserve.gov-consumer_finances-2016e2019-inherit-1.2.5</code> Last Update: 2020-12-11T04:21:02</p>\n",
       "<p><em>An Extract from the survey of consumer finances for studying networth and ineritance, from multiple years</em></p>\n",
       "<p>This is an extract of the 2016 and 2019 Survey of Consumer Finances, with extracted variables\n",
       "and recoded variables oriented toward studying inheritance.</p>\n",
       "<h2>Images</h2>\n",
       "<p><a href=\"docs/networth_race_inc.png\"><img alt=\"doc_img\" src=\"docs/networth_race_inc.png\" title=\"networth_race_inc\" /></a></p>\n",
       "<p>Net Worth by Income Percentile and Race## Notes</p>\n",
       "<ul>\n",
       "<li>Version 1.2.2 Added the Inflatable flag</li>\n",
       "<li>Version 1.2.3 Inflated dollar ammounts to current dollars</li>\n",
       "</ul>\n",
       "<h2>Contacts</h2>\n",
       "<ul>\n",
       "<li><strong>Wrangler</strong> <a href=\"mailto:eric@civicknowledge.com\">Eric Busboom</a>, <a href=\"http://civicknowledge.com\">Civic Knowledge</a></li>\n",
       "</ul>\n",
       "<h2>Resources</h2>\n",
       "<ul>\n",
       "<li><strong> <a href=\"data/inherit_scf_16_19.csv\">inherit_scf_16_19</a></strong>. Extract of the 2016 and 2019 SCF for inheritance and networth</li>\n",
       "</ul>\n",
       "<h2>References</h2>\n",
       "<p><ul><li> <strong>scf</string>, <em>metapack+http://library.metatab.org/federalreserve.gov-consumer_finances.csv</em>. Survey of consumer finances data packages</li><li> <strong><a href=\"https://fred.stlouisfed.org/graph/fredgraph.csv?&id=CPIAUCSL\">cpi</a></strong>. Consumer Price Index</li><ul></p>"
      ],
      "text/plain": [
       "# Survey of Consumer Finances, Inheritance Extract\n",
       "`federalreserve.gov-consumer_finances-2016e2019-inherit-1.2.5` Last Update: 2020-12-11T04:21:02\n",
       "\n",
       "_An Extract from the survey of consumer finances for studying networth and ineritance, from multiple years_\n",
       "\n",
       "\n",
       "This is an extract of the 2016 and 2019 Survey of Consumer Finances, with extracted variables\n",
       "and recoded variables oriented toward studying inheritance.\n",
       "\n",
       "\n",
       " \n",
       "## Images\n",
       "\n",
       "[![doc_img](docs/networth_race_inc.png \"networth_race_inc\")](docs/networth_race_inc.png)\n",
       "\n",
       "Net Worth by Income Percentile and Race## Notes\n",
       "\n",
       "* Version 1.2.2 Added the Inflatable flag\n",
       "* Version 1.2.3 Inflated dollar ammounts to current dollars\n",
       "## Contacts\n",
       "\n",
       "* **Wrangler** [Eric Busboom](mailto:eric@civicknowledge.com), [Civic Knowledge](http://civicknowledge.com)\n",
       "\n",
       "## Resources\n",
       "\n",
       "* ** [inherit_scf_16_19](data/inherit_scf_16_19.csv)**. Extract of the 2016 and 2019 SCF for inheritance and networth\n",
       "\n",
       "## References\n",
       "<ul><li> <strong>scf</string>, <em>metapack+http://library.metatab.org/federalreserve.gov-consumer_finances.csv</em>. Survey of consumer finances data packages</li><li> <strong><a href=\"https://fred.stlouisfed.org/graph/fredgraph.csv?&id=CPIAUCSL\">cpi</a></strong>. Consumer Price Index</li><ul>\n"
      ]
     },
     "execution_count": 2,
     "metadata": {},
     "output_type": "execute_result"
    }
   ],
   "source": [
    "pkg = multi_open('federalreserve.gov-consumer_finances-2016e2019-inherit', print_ref=True)\n",
    "#pkg = mp.jupyter.open_source_package()\n",
    "pkg"
   ]
  },
  {
   "cell_type": "code",
   "execution_count": 3,
   "metadata": {},
   "outputs": [
    {
     "data": {
      "text/html": [
       "<h1>Survey of Consumer Finances</h1>\n",
       "<p><code>federalreserve.gov-consumer_finances-1.2.4</code> Last Update: 2020-12-11T04:15:57</p>\n",
       "<p><em>References to the Survey of Consumer Finances</em></p>\n",
       "<p>The data package provides references to the main SCF files. The package does not contain data. </p>\n",
       "<ul>\n",
       "<li><a href=\"https://www.federalreserve.gov/econres/notes/feds-notes/how-does-intergenerational-wealth-transmission-affect-wealth-concentration-20180601.htm\">How Does Intergenerational Wealth Transmission Affect Wealth Concentration? </a></li>\n",
       "<li><a href=\"http://www.people.virginia.edu/~ey2d/aliprantis_carroll_young_2019b.pdf\">The Dynamics of the Racial Wealth Gap</a></li>\n",
       "</ul>\n",
       "<p>Feiveson and Sabelhaus calculate that 26% of welath is due to transfers, because they assume that all of the transfer is invested at 3%. THis is clearly nonsense0</p>\n",
       "<h2>Documentation Links</h2>\n",
       "<ul>\n",
       "<li><a href=\"https://www.federalreserve.gov/econres/files/codebk2019.txt\">2019 Codebook</a> </li>\n",
       "<li><a href=\"https://www.federalreserve.gov/econres/files/codebk2016.txt\">2016 Codebook</a> </li>\n",
       "<li><a href=\"https://www.federalreserve.gov/econres/files/bulletin.macro.txt\">2016 Extract SAS Macro</a> </li>\n",
       "<li><a href=\"https://www.federalreserve.gov/econres/files/codebk2013.txt\">2013 Codebook</a> </li>\n",
       "<li><a href=\"https://www.federalreserve.gov/econres/files/bulletin.macro.txt\">2013 Extract SAS Macro</a> </li>\n",
       "<li><a href=\"https://www.federalreserve.gov/econres/files/codebk2010.txt\">2010 Codebook</a> </li>\n",
       "<li><a href=\"https://www.federalreserve.gov/econres/files/bulletin.macro.txt\">2010 Extract SAS Macro</a> </li>\n",
       "<li><a href=\"http://library.metatab.org/federalreserve.gov-consumer_finances-1.2.4/index.html\">Documentation Page</a> </li>\n",
       "<li><a href=\"https://www.federalreserve.gov/econres/scfindex.htm\">Homepage</a> </li>\n",
       "<li><a href=\"https://www.federalreserve.gov/econres/scf_2016.htm\">2016 Homepage</a> </li>\n",
       "<li><a href=\"https://www.federalreserve.gov/econres/scf_2013.htm\">2013 Home Page</a> </li>\n",
       "<li><a href=\"https://www.federalreserve.gov/econres/scf_2010.htm\">2010 Home Page</a> </li>\n",
       "</ul>\n",
       "<h2>Notes</h2>\n",
       "<ul>\n",
       "<li>scf_extract_10 is broken; Pandas can't load the version of Stat for this file</li>\n",
       "</ul>\n",
       "<h2>Contacts</h2>\n",
       "<ul>\n",
       "<li><strong>Wrangler</strong> <a href=\"mailto:eric@civicknowledge.com\">Eric Busboom</a>, <a href=\"http://civicknowledge.com\">Civic Knowledge</a></li>\n",
       "</ul>\n",
       "<h2>References</h2>\n",
       "<p><ul><li> <strong><a href=\"https://www.federalreserve.gov/econres/files/scf2019s.zip#p19i6.dta\">scf_public_19</a></strong>. Survey of consumer finances, full public dataset, 2019</li><li> <strong><a href=\"https://www.federalreserve.gov/econres/files/scfp2019s.zip#rscfp2019.dta\">scf_extract_19</a></strong>. Survey of consumer finances, public extract, 2019</li><li> <strong><a href=\"https://www.federalreserve.gov/econres/files/scf2019rw1s.zip#p19_rw1.dta\">scf_weights_19</a></strong>. Survey of consumer finances, replicate weights, 2019</li><li> <strong><a href=\"https://www.federalreserve.gov/econres/files/scf2016s.zip#p16i6.dta\">scf_public_16</a></strong>. Survey of consumer finances, full public dataset, 2016</li><li> <strong><a href=\"https://www.federalreserve.gov/econres/files/scfp2016s.zip#rscfp2016.dta\">scf_extract_16</a></strong>. Survey of consumer finances, public extract, 2016</li><li> <strong><a href=\"https://www.federalreserve.gov/econres/files/scf2016rw1s.zip#p16_rw1.dta\">scf_weights_16</a></strong>. Survey of consumer finances, replicate weights, 2016</li><li> <strong><a href=\"https://www.federalreserve.gov/econres/files/scf2013s.zip#p13i6.dta\">scf_public_13</a></strong>. Survey of consumer finances, full public dataset, 2013</li><li> <strong><a href=\"https://www.federalreserve.gov/econres/files/scfp2013s.zip#rscfp2013.dta\">scf_extract_13</a></strong>. Survey of consumer finances, public extract, 2013</li><li> <strong><a href=\"https://www.federalreserve.gov/econres/files/scf2013rw1s.zip#p13_rw1.dta\">scf_weights_13</a></strong>. Survey of consumer finances, replicate weights, 2013</li><li> <strong><a href=\"https://www.federalreserve.gov/econres/files/scf2010s.zip#p10i6.dta\">scf_public_10</a></strong>. Survey of consumer finances, full public dataset, 2010</li><li> <strong><a href=\"https://www.federalreserve.gov/econres/files/scfp2010.zip#scfp2010&target_format=dta\">scf_extract_10</a></strong>. Survey of consumer finances, public extract, 2010</li><li> <strong><a href=\"https://www.federalreserve.gov/econres/files/scf2010rw1s.zip#p10_rw1.dta\">scf_weights_10</a></strong>. Survey of consumer finances, replicate weights, 2010</li><ul></p>"
      ],
      "text/plain": [
       "# Survey of Consumer Finances\n",
       "`federalreserve.gov-consumer_finances-1.2.4` Last Update: 2020-12-11T04:15:57\n",
       "\n",
       "_References to the Survey of Consumer Finances_\n",
       "\n",
       "\n",
       "The data package provides references to the main SCF files. The package does not contain data. \n",
       "\n",
       "* [How Does Intergenerational Wealth Transmission Affect Wealth Concentration? ](https://www.federalreserve.gov/econres/notes/feds-notes/how-does-intergenerational-wealth-transmission-affect-wealth-concentration-20180601.htm)\n",
       "* [The Dynamics of the Racial Wealth Gap](http://www.people.virginia.edu/~ey2d/aliprantis_carroll_young_2019b.pdf)\n",
       "\n",
       "Feiveson and Sabelhaus calculate that 26% of welath is due to transfers, because they assume that all of the transfer is invested at 3%. THis is clearly nonsense0\n",
       "## Documentation Links\n",
       "\n",
       "* [2019 Codebook](https://www.federalreserve.gov/econres/files/codebk2019.txt) \n",
       "* [2016 Codebook](https://www.federalreserve.gov/econres/files/codebk2016.txt) \n",
       "* [2016 Extract SAS Macro](https://www.federalreserve.gov/econres/files/bulletin.macro.txt) \n",
       "* [2013 Codebook](https://www.federalreserve.gov/econres/files/codebk2013.txt) \n",
       "* [2013 Extract SAS Macro](https://www.federalreserve.gov/econres/files/bulletin.macro.txt) \n",
       "* [2010 Codebook](https://www.federalreserve.gov/econres/files/codebk2010.txt) \n",
       "* [2010 Extract SAS Macro](https://www.federalreserve.gov/econres/files/bulletin.macro.txt) \n",
       "* [Documentation Page](http://library.metatab.org/federalreserve.gov-consumer_finances-1.2.4/index.html) \n",
       "* [Homepage](https://www.federalreserve.gov/econres/scfindex.htm) \n",
       "* [2016 Homepage](https://www.federalreserve.gov/econres/scf_2016.htm) \n",
       "* [2013 Home Page](https://www.federalreserve.gov/econres/scf_2013.htm) \n",
       "* [2010 Home Page](https://www.federalreserve.gov/econres/scf_2010.htm) \n",
       "\n",
       " \n",
       "## Notes\n",
       "\n",
       "* scf_extract_10 is broken; Pandas can't load the version of Stat for this file\n",
       "## Contacts\n",
       "\n",
       "* **Wrangler** [Eric Busboom](mailto:eric@civicknowledge.com), [Civic Knowledge](http://civicknowledge.com)\n",
       "\n",
       "\n",
       "## References\n",
       "<ul><li> <strong><a href=\"https://www.federalreserve.gov/econres/files/scf2019s.zip#p19i6.dta\">scf_public_19</a></strong>. Survey of consumer finances, full public dataset, 2019</li><li> <strong><a href=\"https://www.federalreserve.gov/econres/files/scfp2019s.zip#rscfp2019.dta\">scf_extract_19</a></strong>. Survey of consumer finances, public extract, 2019</li><li> <strong><a href=\"https://www.federalreserve.gov/econres/files/scf2019rw1s.zip#p19_rw1.dta\">scf_weights_19</a></strong>. Survey of consumer finances, replicate weights, 2019</li><li> <strong><a href=\"https://www.federalreserve.gov/econres/files/scf2016s.zip#p16i6.dta\">scf_public_16</a></strong>. Survey of consumer finances, full public dataset, 2016</li><li> <strong><a href=\"https://www.federalreserve.gov/econres/files/scfp2016s.zip#rscfp2016.dta\">scf_extract_16</a></strong>. Survey of consumer finances, public extract, 2016</li><li> <strong><a href=\"https://www.federalreserve.gov/econres/files/scf2016rw1s.zip#p16_rw1.dta\">scf_weights_16</a></strong>. Survey of consumer finances, replicate weights, 2016</li><li> <strong><a href=\"https://www.federalreserve.gov/econres/files/scf2013s.zip#p13i6.dta\">scf_public_13</a></strong>. Survey of consumer finances, full public dataset, 2013</li><li> <strong><a href=\"https://www.federalreserve.gov/econres/files/scfp2013s.zip#rscfp2013.dta\">scf_extract_13</a></strong>. Survey of consumer finances, public extract, 2013</li><li> <strong><a href=\"https://www.federalreserve.gov/econres/files/scf2013rw1s.zip#p13_rw1.dta\">scf_weights_13</a></strong>. Survey of consumer finances, replicate weights, 2013</li><li> <strong><a href=\"https://www.federalreserve.gov/econres/files/scf2010s.zip#p10i6.dta\">scf_public_10</a></strong>. Survey of consumer finances, full public dataset, 2010</li><li> <strong><a href=\"https://www.federalreserve.gov/econres/files/scfp2010.zip#scfp2010&target_format=dta\">scf_extract_10</a></strong>. Survey of consumer finances, public extract, 2010</li><li> <strong><a href=\"https://www.federalreserve.gov/econres/files/scf2010rw1s.zip#p10_rw1.dta\">scf_weights_10</a></strong>. Survey of consumer finances, replicate weights, 2010</li><ul>\n"
      ]
     },
     "execution_count": 3,
     "metadata": {},
     "output_type": "execute_result"
    }
   ],
   "source": [
    "pkg.reference('scf').package"
   ]
  },
  {
   "cell_type": "code",
   "execution_count": 4,
   "metadata": {},
   "outputs": [
    {
     "data": {
      "text/html": [
       "<h3><a name=\"resource-inherit_scf_16_19\"></a>inherit_scf_16_19</h3><p><a target=\"_blank\" href=\"file:///Users/eric/proj/data-projects/metatab-packages/inequality-collection/federalreserve.gov-consumer_finances-2016-inherit/_packages/federalreserve.gov-consumer_finances-2016e2019-inherit-1.2.5/data/inherit_scf_16_19.csv\">file:///Users/eric/proj/data-projects/metatab-packages/inequality-collection/federalreserve.gov-consumer_finances-2016-inherit/_packages/federalreserve.gov-consumer_finances-2016e2019-inherit-1.2.5/data/inherit_scf_16_19.csv</a></p><table>\n",
       "<tr><th>Header</th><th>Type</th><th>Description</th></tr><tr><td>year</td><td>integer</td><td>Year of the SCL reelase the record was drawn from</td></tr> \n",
       "<tr><td>case_id</td><td>integer</td><td></td></tr> \n",
       "<tr><td>record_id</td><td>integer</td><td></td></tr> \n",
       "<tr><td>implicate_id</td><td>integer</td><td>Impicate number, 1 to 5</td></tr> \n",
       "<tr><td>age_1</td><td>integer</td><td>Age of first household adult</td></tr> \n",
       "<tr><td>age_2</td><td>integer</td><td>Age of second household adult.</td></tr> \n",
       "<tr><td>hisp</td><td>integer</td><td>Is the HH Hispanic</td></tr> \n",
       "<tr><td>race</td><td>string</td><td>Simpified race for HH</td></tr> \n",
       "<tr><td>addtional_race</td><td>integer</td><td></td></tr> \n",
       "<tr><td>unusual_income</td><td>integer</td><td></td></tr> \n",
       "<tr><td>ed_1</td><td>string</td><td></td></tr> \n",
       "<tr><td>ed_2</td><td>string</td><td></td></tr> \n",
       "<tr><td>ed_mother_1</td><td>string</td><td></td></tr> \n",
       "<tr><td>ed_father_1</td><td>string</td><td></td></tr> \n",
       "<tr><td>ed_mother_2</td><td>string</td><td></td></tr> \n",
       "<tr><td>ed_father_2</td><td>string</td><td></td></tr> \n",
       "<tr><td>occ_1</td><td>integer</td><td></td></tr> \n",
       "<tr><td>occ_2</td><td>integer</td><td></td></tr> \n",
       "<tr><td>gi_other_value</td><td>integer</td><td></td></tr> \n",
       "<tr><td>fin_risk</td><td>integer</td><td></td></tr> \n",
       "<tr><td>shop_credit</td><td>integer</td><td></td></tr> \n",
       "<tr><td>shop_credit_2</td><td>integer</td><td></td></tr> \n",
       "<tr><td>fin_know</td><td>integer</td><td></td></tr> \n",
       "<tr><td>borrow_vacation</td><td>integer</td><td></td></tr> \n",
       "<tr><td>plan_horizon</td><td>integer</td><td></td></tr> \n",
       "<tr><td>spend_exceeds</td><td>integer</td><td></td></tr> \n",
       "<tr><td>spend_exceeds_excl_house</td><td>integer</td><td></td></tr> \n",
       "<tr><td>wt0</td><td>number</td><td>HH weight</td></tr> \n",
       "<tr><td>gi_type_1</td><td>string</td><td></td></tr> \n",
       "<tr><td>gi_value_1</td><td>integer</td><td></td></tr> \n",
       "<tr><td>gi_year_1</td><td>integer</td><td></td></tr> \n",
       "<tr><td>gi_from_1</td><td>integer</td><td></td></tr> \n",
       "<tr><td>gi_type_2</td><td>string</td><td></td></tr> \n",
       "<tr><td>gi_value_2</td><td>integer</td><td></td></tr> \n",
       "<tr><td>gi_year_2</td><td>integer</td><td></td></tr> \n",
       "<tr><td>gi_from_2</td><td>integer</td><td></td></tr> \n",
       "<tr><td>gi_type_3</td><td>string</td><td></td></tr> \n",
       "<tr><td>gi_value_3</td><td>integer</td><td></td></tr> \n",
       "<tr><td>gi_year_3</td><td>integer</td><td></td></tr> \n",
       "<tr><td>gi_from_3</td><td>integer</td><td></td></tr> \n",
       "<tr><td>networth</td><td>number</td><td></td></tr> \n",
       "<tr><td>income</td><td>number</td><td></td></tr> \n",
       "<tr><td>nwcat</td><td>integer</td><td></td></tr> \n",
       "<tr><td>nwpctlecat</td><td>integer</td><td></td></tr> \n",
       "<tr><td>norminc</td><td>number</td><td></td></tr> \n",
       "<tr><td>ninccat</td><td>integer</td><td></td></tr> \n",
       "<tr><td>ninc2cat</td><td>integer</td><td></td></tr> \n",
       "<tr><td>nincpctlecat</td><td>integer</td><td></td></tr> \n",
       "<tr><td>occat1</td><td>integer</td><td></td></tr> \n",
       "<tr><td>occat2</td><td>integer</td><td></td></tr> \n",
       "<tr><td>edcl</td><td>string</td><td></td></tr> \n",
       "<tr><td>lifecl</td><td>integer</td><td></td></tr> \n",
       "<tr><td>famstruct</td><td>integer</td><td></td></tr> \n",
       "<tr><td>married</td><td>integer</td><td></td></tr> \n",
       "<tr><td>agecl</td><td>string</td><td></td></tr> \n",
       "<tr><td>housecl</td><td>integer</td><td></td></tr> \n",
       "<tr><td>racecl</td><td>integer</td><td></td></tr> \n",
       "<tr><td>racecl4</td><td>integer</td><td></td></tr> \n",
       "<tr><td>asset</td><td>number</td><td></td></tr> \n",
       "<tr><td>liq</td><td>number</td><td></td></tr> \n",
       "<tr><td>bond</td><td>number</td><td></td></tr> \n",
       "<tr><td>fin</td><td>number</td><td></td></tr> \n",
       "<tr><td>nfin</td><td>number</td><td></td></tr> \n",
       "<tr><td>debt</td><td>number</td><td></td></tr> \n",
       "<tr><td>indcat</td><td>integer</td><td></td></tr> \n",
       "<tr><td>equity</td><td>number</td><td></td></tr> \n",
       "<tr><td>homeeq</td><td>number</td><td></td></tr> \n",
       "<tr><td>revpay</td><td>number</td><td></td></tr> \n",
       "<tr><td>bnkruplast5</td><td>integer</td><td></td></tr> \n",
       "<tr><td>debt2inc</td><td>number</td><td></td></tr> \n",
       "<tr><td>hsaving</td><td>integer</td><td></td></tr> \n",
       "<tr><td>saved</td><td>integer</td><td></td></tr> \n",
       "<tr><td>education</td><td>string</td><td></td></tr> \n",
       "<tr><td>occ</td><td>integer</td><td></td></tr> \n",
       "<tr><td>lt_planner</td><td>integer</td><td></td></tr> \n",
       "<tr><td>nincpctle</td><td>integer</td><td></td></tr> \n",
       "<tr><td>ninc</td><td>integer</td><td></td></tr> \n",
       "<tr><td>nwpctle</td><td>integer</td><td></td></tr> \n",
       "<tr><td>gi_sum</td><td>integer</td><td>Sum of the value of gift, trust or inheritance transfers</td></tr> \n",
       "<tr><td>n_gift</td><td>integer</td><td>Number of gift transfers</td></tr> \n",
       "<tr><td>n_inherit</td><td>integer</td><td>Number of inheritance transfers</td></tr> \n",
       "<tr><td>n_trust</td><td>integer</td><td>Number of trust transfers</td></tr> \n",
       "<tr><td>n_transfer</td><td>integer</td><td>Number of gift, trust or inheritance transfers</td></tr> \n",
       "<tr><td>any_transfer</td><td>integer</td><td>Has HH recieved any transfer?</td></tr> \n",
       "<tr><td>any_inherit</td><td>integer</td><td>Has HH recieved and inheritance?</td></tr> \n",
       "<tr><td>hhsize</td><td>integer</td><td>Household size. Actually the number of financially contributing adults in the analysis unit, either 1 or 2.</td></tr> \n",
       "<tr><td>networthpc</td><td>number</td><td>Networth divided by hhsize</td></tr> \n",
       "<tr><td>assetpc</td><td>number</td><td>Assets divided by hhsize</td></tr> \n",
       "<tr><td>gi_pv_10</td><td>number</td><td>Value of each gift or transfer, compounded ot the present at 10%</td></tr> \n",
       "<tr><td>gi_pv_7</td><td>number</td><td>Value of each gift or transfer, compounded ot the present at 7%</td></tr> \n",
       "<tr><td>gi_pv_5</td><td>number</td><td>Value of each gift or transfer, compounded ot the present at 5%</td></tr> \n",
       "<tr><td>gi_value_cd</td><td>number</td><td>Sum of transfers, with each transfer inflated to current dollars</td></tr> </table>"
      ],
      "text/plain": [
       "<Resource: metadata.csv 36:1 root.datafile data/inherit_scf_16_19.csv ['inherit_scf_16_19', 'Extract of the 2016 and 2019 SCF for inheritance and networth', '']>"
      ]
     },
     "execution_count": 4,
     "metadata": {},
     "output_type": "execute_result"
    }
   ],
   "source": [
    "pkg.resource('inherit_scf_16_19')"
   ]
  },
  {
   "cell_type": "code",
   "execution_count": 5,
   "metadata": {},
   "outputs": [
    {
     "data": {
      "text/html": [
       "<div>\n",
       "<style scoped>\n",
       "    .dataframe tbody tr th:only-of-type {\n",
       "        vertical-align: middle;\n",
       "    }\n",
       "\n",
       "    .dataframe tbody tr th {\n",
       "        vertical-align: top;\n",
       "    }\n",
       "\n",
       "    .dataframe thead th {\n",
       "        text-align: right;\n",
       "    }\n",
       "</style>\n",
       "<table border=\"1\" class=\"dataframe\">\n",
       "  <thead>\n",
       "    <tr style=\"text-align: right;\">\n",
       "      <th></th>\n",
       "      <th>year</th>\n",
       "      <th>case_id</th>\n",
       "      <th>record_id</th>\n",
       "      <th>implicate_id</th>\n",
       "      <th>age_1</th>\n",
       "      <th>age_2</th>\n",
       "      <th>hisp</th>\n",
       "      <th>race</th>\n",
       "      <th>addtional_race</th>\n",
       "      <th>unusual_income</th>\n",
       "      <th>...</th>\n",
       "      <th>n_transfer</th>\n",
       "      <th>any_transfer</th>\n",
       "      <th>any_inherit</th>\n",
       "      <th>hhsize</th>\n",
       "      <th>networthpc</th>\n",
       "      <th>assetpc</th>\n",
       "      <th>gi_pv_10</th>\n",
       "      <th>gi_pv_7</th>\n",
       "      <th>gi_pv_5</th>\n",
       "      <th>gi_value_cd</th>\n",
       "    </tr>\n",
       "  </thead>\n",
       "  <tbody>\n",
       "    <tr>\n",
       "      <th>0</th>\n",
       "      <td>2016</td>\n",
       "      <td>1</td>\n",
       "      <td>11</td>\n",
       "      <td>1</td>\n",
       "      <td>71</td>\n",
       "      <td>0</td>\n",
       "      <td>5</td>\n",
       "      <td>white</td>\n",
       "      <td>5</td>\n",
       "      <td>3</td>\n",
       "      <td>...</td>\n",
       "      <td>0</td>\n",
       "      <td>0</td>\n",
       "      <td>0</td>\n",
       "      <td>1</td>\n",
       "      <td>2.023457e+05</td>\n",
       "      <td>2.027808e+05</td>\n",
       "      <td>0.0</td>\n",
       "      <td>0.0</td>\n",
       "      <td>0.0</td>\n",
       "      <td>0.0</td>\n",
       "    </tr>\n",
       "    <tr>\n",
       "      <th>1</th>\n",
       "      <td>2016</td>\n",
       "      <td>1</td>\n",
       "      <td>12</td>\n",
       "      <td>2</td>\n",
       "      <td>71</td>\n",
       "      <td>0</td>\n",
       "      <td>5</td>\n",
       "      <td>white</td>\n",
       "      <td>5</td>\n",
       "      <td>3</td>\n",
       "      <td>...</td>\n",
       "      <td>0</td>\n",
       "      <td>0</td>\n",
       "      <td>0</td>\n",
       "      <td>1</td>\n",
       "      <td>2.024716e+05</td>\n",
       "      <td>2.028953e+05</td>\n",
       "      <td>0.0</td>\n",
       "      <td>0.0</td>\n",
       "      <td>0.0</td>\n",
       "      <td>0.0</td>\n",
       "    </tr>\n",
       "    <tr>\n",
       "      <th>2</th>\n",
       "      <td>2016</td>\n",
       "      <td>1</td>\n",
       "      <td>13</td>\n",
       "      <td>3</td>\n",
       "      <td>71</td>\n",
       "      <td>0</td>\n",
       "      <td>5</td>\n",
       "      <td>white</td>\n",
       "      <td>5</td>\n",
       "      <td>3</td>\n",
       "      <td>...</td>\n",
       "      <td>0</td>\n",
       "      <td>0</td>\n",
       "      <td>0</td>\n",
       "      <td>1</td>\n",
       "      <td>2.023571e+05</td>\n",
       "      <td>2.027808e+05</td>\n",
       "      <td>0.0</td>\n",
       "      <td>0.0</td>\n",
       "      <td>0.0</td>\n",
       "      <td>0.0</td>\n",
       "    </tr>\n",
       "    <tr>\n",
       "      <th>3</th>\n",
       "      <td>2016</td>\n",
       "      <td>1</td>\n",
       "      <td>14</td>\n",
       "      <td>4</td>\n",
       "      <td>71</td>\n",
       "      <td>0</td>\n",
       "      <td>5</td>\n",
       "      <td>white</td>\n",
       "      <td>5</td>\n",
       "      <td>3</td>\n",
       "      <td>...</td>\n",
       "      <td>0</td>\n",
       "      <td>0</td>\n",
       "      <td>0</td>\n",
       "      <td>1</td>\n",
       "      <td>2.023571e+05</td>\n",
       "      <td>2.027808e+05</td>\n",
       "      <td>0.0</td>\n",
       "      <td>0.0</td>\n",
       "      <td>0.0</td>\n",
       "      <td>0.0</td>\n",
       "    </tr>\n",
       "    <tr>\n",
       "      <th>4</th>\n",
       "      <td>2016</td>\n",
       "      <td>1</td>\n",
       "      <td>15</td>\n",
       "      <td>5</td>\n",
       "      <td>71</td>\n",
       "      <td>0</td>\n",
       "      <td>5</td>\n",
       "      <td>white</td>\n",
       "      <td>5</td>\n",
       "      <td>3</td>\n",
       "      <td>...</td>\n",
       "      <td>0</td>\n",
       "      <td>0</td>\n",
       "      <td>0</td>\n",
       "      <td>1</td>\n",
       "      <td>2.024716e+05</td>\n",
       "      <td>2.028953e+05</td>\n",
       "      <td>0.0</td>\n",
       "      <td>0.0</td>\n",
       "      <td>0.0</td>\n",
       "      <td>0.0</td>\n",
       "    </tr>\n",
       "    <tr>\n",
       "      <th>...</th>\n",
       "      <td>...</td>\n",
       "      <td>...</td>\n",
       "      <td>...</td>\n",
       "      <td>...</td>\n",
       "      <td>...</td>\n",
       "      <td>...</td>\n",
       "      <td>...</td>\n",
       "      <td>...</td>\n",
       "      <td>...</td>\n",
       "      <td>...</td>\n",
       "      <td>...</td>\n",
       "      <td>...</td>\n",
       "      <td>...</td>\n",
       "      <td>...</td>\n",
       "      <td>...</td>\n",
       "      <td>...</td>\n",
       "      <td>...</td>\n",
       "      <td>...</td>\n",
       "      <td>...</td>\n",
       "      <td>...</td>\n",
       "      <td>...</td>\n",
       "    </tr>\n",
       "    <tr>\n",
       "      <th>60120</th>\n",
       "      <td>2019</td>\n",
       "      <td>5813</td>\n",
       "      <td>58131</td>\n",
       "      <td>1</td>\n",
       "      <td>51</td>\n",
       "      <td>55</td>\n",
       "      <td>5</td>\n",
       "      <td>white</td>\n",
       "      <td>5</td>\n",
       "      <td>3</td>\n",
       "      <td>...</td>\n",
       "      <td>0</td>\n",
       "      <td>0</td>\n",
       "      <td>0</td>\n",
       "      <td>2</td>\n",
       "      <td>4.109903e+06</td>\n",
       "      <td>4.133588e+06</td>\n",
       "      <td>0.0</td>\n",
       "      <td>0.0</td>\n",
       "      <td>0.0</td>\n",
       "      <td>0.0</td>\n",
       "    </tr>\n",
       "    <tr>\n",
       "      <th>60121</th>\n",
       "      <td>2019</td>\n",
       "      <td>5813</td>\n",
       "      <td>58132</td>\n",
       "      <td>2</td>\n",
       "      <td>51</td>\n",
       "      <td>55</td>\n",
       "      <td>5</td>\n",
       "      <td>white</td>\n",
       "      <td>5</td>\n",
       "      <td>3</td>\n",
       "      <td>...</td>\n",
       "      <td>0</td>\n",
       "      <td>0</td>\n",
       "      <td>0</td>\n",
       "      <td>2</td>\n",
       "      <td>4.160287e+06</td>\n",
       "      <td>4.184510e+06</td>\n",
       "      <td>0.0</td>\n",
       "      <td>0.0</td>\n",
       "      <td>0.0</td>\n",
       "      <td>0.0</td>\n",
       "    </tr>\n",
       "    <tr>\n",
       "      <th>60122</th>\n",
       "      <td>2019</td>\n",
       "      <td>5813</td>\n",
       "      <td>58133</td>\n",
       "      <td>3</td>\n",
       "      <td>51</td>\n",
       "      <td>55</td>\n",
       "      <td>5</td>\n",
       "      <td>white</td>\n",
       "      <td>5</td>\n",
       "      <td>3</td>\n",
       "      <td>...</td>\n",
       "      <td>0</td>\n",
       "      <td>0</td>\n",
       "      <td>0</td>\n",
       "      <td>2</td>\n",
       "      <td>4.029484e+06</td>\n",
       "      <td>4.054245e+06</td>\n",
       "      <td>0.0</td>\n",
       "      <td>0.0</td>\n",
       "      <td>0.0</td>\n",
       "      <td>0.0</td>\n",
       "    </tr>\n",
       "    <tr>\n",
       "      <th>60123</th>\n",
       "      <td>2019</td>\n",
       "      <td>5813</td>\n",
       "      <td>58134</td>\n",
       "      <td>4</td>\n",
       "      <td>51</td>\n",
       "      <td>55</td>\n",
       "      <td>5</td>\n",
       "      <td>white</td>\n",
       "      <td>5</td>\n",
       "      <td>3</td>\n",
       "      <td>...</td>\n",
       "      <td>0</td>\n",
       "      <td>0</td>\n",
       "      <td>0</td>\n",
       "      <td>2</td>\n",
       "      <td>4.303847e+06</td>\n",
       "      <td>4.332914e+06</td>\n",
       "      <td>0.0</td>\n",
       "      <td>0.0</td>\n",
       "      <td>0.0</td>\n",
       "      <td>0.0</td>\n",
       "    </tr>\n",
       "    <tr>\n",
       "      <th>60124</th>\n",
       "      <td>2019</td>\n",
       "      <td>5813</td>\n",
       "      <td>58135</td>\n",
       "      <td>5</td>\n",
       "      <td>51</td>\n",
       "      <td>55</td>\n",
       "      <td>5</td>\n",
       "      <td>white</td>\n",
       "      <td>5</td>\n",
       "      <td>3</td>\n",
       "      <td>...</td>\n",
       "      <td>0</td>\n",
       "      <td>0</td>\n",
       "      <td>0</td>\n",
       "      <td>2</td>\n",
       "      <td>4.432551e+06</td>\n",
       "      <td>4.456773e+06</td>\n",
       "      <td>0.0</td>\n",
       "      <td>0.0</td>\n",
       "      <td>0.0</td>\n",
       "      <td>0.0</td>\n",
       "    </tr>\n",
       "  </tbody>\n",
       "</table>\n",
       "<p>60125 rows × 92 columns</p>\n",
       "</div>"
      ],
      "text/plain": [
       "       year  case_id  record_id  implicate_id  age_1  age_2  hisp   race  \\\n",
       "0      2016        1         11             1     71      0     5  white   \n",
       "1      2016        1         12             2     71      0     5  white   \n",
       "2      2016        1         13             3     71      0     5  white   \n",
       "3      2016        1         14             4     71      0     5  white   \n",
       "4      2016        1         15             5     71      0     5  white   \n",
       "...     ...      ...        ...           ...    ...    ...   ...    ...   \n",
       "60120  2019     5813      58131             1     51     55     5  white   \n",
       "60121  2019     5813      58132             2     51     55     5  white   \n",
       "60122  2019     5813      58133             3     51     55     5  white   \n",
       "60123  2019     5813      58134             4     51     55     5  white   \n",
       "60124  2019     5813      58135             5     51     55     5  white   \n",
       "\n",
       "       addtional_race  unusual_income  ... n_transfer any_transfer  \\\n",
       "0                   5               3  ...          0            0   \n",
       "1                   5               3  ...          0            0   \n",
       "2                   5               3  ...          0            0   \n",
       "3                   5               3  ...          0            0   \n",
       "4                   5               3  ...          0            0   \n",
       "...               ...             ...  ...        ...          ...   \n",
       "60120               5               3  ...          0            0   \n",
       "60121               5               3  ...          0            0   \n",
       "60122               5               3  ...          0            0   \n",
       "60123               5               3  ...          0            0   \n",
       "60124               5               3  ...          0            0   \n",
       "\n",
       "      any_inherit hhsize    networthpc       assetpc  gi_pv_10  gi_pv_7  \\\n",
       "0               0      1  2.023457e+05  2.027808e+05       0.0      0.0   \n",
       "1               0      1  2.024716e+05  2.028953e+05       0.0      0.0   \n",
       "2               0      1  2.023571e+05  2.027808e+05       0.0      0.0   \n",
       "3               0      1  2.023571e+05  2.027808e+05       0.0      0.0   \n",
       "4               0      1  2.024716e+05  2.028953e+05       0.0      0.0   \n",
       "...           ...    ...           ...           ...       ...      ...   \n",
       "60120           0      2  4.109903e+06  4.133588e+06       0.0      0.0   \n",
       "60121           0      2  4.160287e+06  4.184510e+06       0.0      0.0   \n",
       "60122           0      2  4.029484e+06  4.054245e+06       0.0      0.0   \n",
       "60123           0      2  4.303847e+06  4.332914e+06       0.0      0.0   \n",
       "60124           0      2  4.432551e+06  4.456773e+06       0.0      0.0   \n",
       "\n",
       "       gi_pv_5  gi_value_cd  \n",
       "0          0.0          0.0  \n",
       "1          0.0          0.0  \n",
       "2          0.0          0.0  \n",
       "3          0.0          0.0  \n",
       "4          0.0          0.0  \n",
       "...        ...          ...  \n",
       "60120      0.0          0.0  \n",
       "60121      0.0          0.0  \n",
       "60122      0.0          0.0  \n",
       "60123      0.0          0.0  \n",
       "60124      0.0          0.0  \n",
       "\n",
       "[60125 rows x 92 columns]"
      ]
     },
     "execution_count": 5,
     "metadata": {},
     "output_type": "execute_result"
    }
   ],
   "source": [
    "df = pkg.resource('inherit_scf_16_19').dataframe()\n",
    "df"
   ]
  },
  {
   "cell_type": "code",
   "execution_count": 6,
   "metadata": {},
   "outputs": [],
   "source": [
    "%run ./lib.py\n",
    "df =   make_descriptive_df(df)    "
   ]
  },
  {
   "cell_type": "code",
   "execution_count": 7,
   "metadata": {},
   "outputs": [],
   "source": [
    "df['networth_pv10'] = df.networth - df.gi_pv_10\n",
    "df['networth_pv7'] = df.networth - df.gi_pv_7\n",
    "df['networth_pv5'] = df.networth - df.gi_pv_5\n",
    "df['networth_pv0'] = df.networth - df.gi_value_cd\n",
    "\n",
    "df90 = df[ (df.networth_pctle <= 90) & (df.nincpctle < 90) ] # Exclude those in top 10pct of gifts. \n",
    "\n",
    "#dfs = df.sample(500_000, replace=True, weights=df.wt0)"
   ]
  },
  {
   "cell_type": "code",
   "execution_count": 8,
   "metadata": {},
   "outputs": [],
   "source": [
    "gs90 = lambda df: df[ (df.gi_sum_decile < 9)] # Exclude those in top 10pct of gifts. \n",
    "dfs90 =  lambda df: df[(df.nincpctle < 9)]\n",
    "dfsu10 = lambda df: df[(df.nincpctle >= 9)]\n",
    "dfsm1 =  lambda df: df[(df.nincpctle >= 4) & (df.nincpctle <= 6) ] # Middle incomes\n",
    "dfsm2 =  lambda df: df[(df.nincpctle >= 2) & (df.nincpctle <= 8) ] # Middle incomes"
   ]
  },
  {
   "cell_type": "code",
   "execution_count": 9,
   "metadata": {},
   "outputs": [
    {
     "data": {
      "text/html": [
       "<div>\n",
       "<style scoped>\n",
       "    .dataframe tbody tr th:only-of-type {\n",
       "        vertical-align: middle;\n",
       "    }\n",
       "\n",
       "    .dataframe tbody tr th {\n",
       "        vertical-align: top;\n",
       "    }\n",
       "\n",
       "    .dataframe thead th {\n",
       "        text-align: right;\n",
       "    }\n",
       "</style>\n",
       "<table border=\"1\" class=\"dataframe\">\n",
       "  <thead>\n",
       "    <tr style=\"text-align: right;\">\n",
       "      <th></th>\n",
       "      <th>22836</th>\n",
       "      <th>20089</th>\n",
       "      <th>38292</th>\n",
       "      <th>11806</th>\n",
       "      <th>23781</th>\n",
       "    </tr>\n",
       "  </thead>\n",
       "  <tbody>\n",
       "    <tr>\n",
       "      <th>year</th>\n",
       "      <td>2016</td>\n",
       "      <td>2016</td>\n",
       "      <td>2019</td>\n",
       "      <td>2016</td>\n",
       "      <td>2016</td>\n",
       "    </tr>\n",
       "    <tr>\n",
       "      <th>case_id</th>\n",
       "      <td>4578</td>\n",
       "      <td>4027</td>\n",
       "      <td>1418</td>\n",
       "      <td>2366</td>\n",
       "      <td>4767</td>\n",
       "    </tr>\n",
       "    <tr>\n",
       "      <th>record_id</th>\n",
       "      <td>45782</td>\n",
       "      <td>40275</td>\n",
       "      <td>14183</td>\n",
       "      <td>23662</td>\n",
       "      <td>47672</td>\n",
       "    </tr>\n",
       "    <tr>\n",
       "      <th>implicate_id</th>\n",
       "      <td>2</td>\n",
       "      <td>5</td>\n",
       "      <td>3</td>\n",
       "      <td>2</td>\n",
       "      <td>2</td>\n",
       "    </tr>\n",
       "    <tr>\n",
       "      <th>age_1</th>\n",
       "      <td>33</td>\n",
       "      <td>34</td>\n",
       "      <td>46</td>\n",
       "      <td>59</td>\n",
       "      <td>59</td>\n",
       "    </tr>\n",
       "    <tr>\n",
       "      <th>...</th>\n",
       "      <td>...</td>\n",
       "      <td>...</td>\n",
       "      <td>...</td>\n",
       "      <td>...</td>\n",
       "      <td>...</td>\n",
       "    </tr>\n",
       "    <tr>\n",
       "      <th>networth_pctle</th>\n",
       "      <td>22</td>\n",
       "      <td>21</td>\n",
       "      <td>37</td>\n",
       "      <td>0</td>\n",
       "      <td>85</td>\n",
       "    </tr>\n",
       "    <tr>\n",
       "      <th>networth_pv10</th>\n",
       "      <td>56116.8</td>\n",
       "      <td>42210.9</td>\n",
       "      <td>179916</td>\n",
       "      <td>-34350.2</td>\n",
       "      <td>1.17454e+07</td>\n",
       "    </tr>\n",
       "    <tr>\n",
       "      <th>networth_pv7</th>\n",
       "      <td>56116.8</td>\n",
       "      <td>43436.5</td>\n",
       "      <td>179916</td>\n",
       "      <td>-34350.2</td>\n",
       "      <td>1.17454e+07</td>\n",
       "    </tr>\n",
       "    <tr>\n",
       "      <th>networth_pv5</th>\n",
       "      <td>56116.8</td>\n",
       "      <td>44159.2</td>\n",
       "      <td>179916</td>\n",
       "      <td>-34350.2</td>\n",
       "      <td>1.17454e+07</td>\n",
       "    </tr>\n",
       "    <tr>\n",
       "      <th>networth_pv0</th>\n",
       "      <td>56116.8</td>\n",
       "      <td>45199.3</td>\n",
       "      <td>179916</td>\n",
       "      <td>-34350.2</td>\n",
       "      <td>1.17454e+07</td>\n",
       "    </tr>\n",
       "  </tbody>\n",
       "</table>\n",
       "<p>99 rows × 5 columns</p>\n",
       "</div>"
      ],
      "text/plain": [
       "                  22836    20089   38292    11806        23781\n",
       "year               2016     2016    2019     2016         2016\n",
       "case_id            4578     4027    1418     2366         4767\n",
       "record_id         45782    40275   14183    23662        47672\n",
       "implicate_id          2        5       3        2            2\n",
       "age_1                33       34      46       59           59\n",
       "...                 ...      ...     ...      ...          ...\n",
       "networth_pctle       22       21      37        0           85\n",
       "networth_pv10   56116.8  42210.9  179916 -34350.2  1.17454e+07\n",
       "networth_pv7    56116.8  43436.5  179916 -34350.2  1.17454e+07\n",
       "networth_pv5    56116.8  44159.2  179916 -34350.2  1.17454e+07\n",
       "networth_pv0    56116.8  45199.3  179916 -34350.2  1.17454e+07\n",
       "\n",
       "[99 rows x 5 columns]"
      ]
     },
     "execution_count": 9,
     "metadata": {},
     "output_type": "execute_result"
    }
   ],
   "source": [
    "dfs = df.sample(500_000, replace=True, weights=df.wt0)\n",
    "\n",
    "dfs.head().T"
   ]
  },
  {
   "cell_type": "code",
   "execution_count": 10,
   "metadata": {},
   "outputs": [
    {
     "data": {
      "text/plain": [
       "nincpctle\n",
       "0     1.308851e+04\n",
       "10    2.490288e+04\n",
       "20    3.459112e+04\n",
       "30    4.520097e+04\n",
       "40    5.695980e+04\n",
       "50    7.155747e+04\n",
       "60    9.011785e+04\n",
       "70    1.154052e+05\n",
       "80    1.622998e+05\n",
       "90    2.398544e+05\n",
       "95    4.456850e+05\n",
       "99    2.183846e+06\n",
       "Name: norminc, dtype: float64"
      ]
     },
     "execution_count": 10,
     "metadata": {},
     "output_type": "execute_result"
    }
   ],
   "source": [
    "dfs.groupby('nincpctle').norminc.mean()"
   ]
  },
  {
   "cell_type": "code",
   "execution_count": 11,
   "metadata": {},
   "outputs": [],
   "source": [
    "# Completely forgot what this was for\n",
    "if False:\n",
    "    t = dfs.copy()\n",
    "    t['wvalue'] = t.gi_value_cd * t.wt0\n",
    "\n",
    "    tw = t[t.race=='white'].groupby('age_at_gi').wvalue.sum() / t[t.race=='white'].wt0.sum()\n",
    "    tb = t[t.race=='black'].groupby('age_at_gi').wvalue.sum() / t[t.race=='black'].wt0.sum()\n",
    "\n",
    "    t = pd.DataFrame(index=np.arange(25,65).astype(float))\n",
    "    t = t.join(pd.Series(lowess(tw, tw.index, frac=.3)[:,1],index=tw.index).rename('white'), how='left' )\n",
    "    t = t.join(pd.Series(lowess(tb, tb.index, frac=.3)[:,1],index=tb.index).rename('black'), how='left' )\n",
    "    t = t.interpolate()\n",
    "\n",
    "    t.plot()"
   ]
  },
  {
   "cell_type": "code",
   "execution_count": 12,
   "metadata": {},
   "outputs": [
    {
     "data": {
      "text/html": [
       "<div>\n",
       "<style scoped>\n",
       "    .dataframe tbody tr th:only-of-type {\n",
       "        vertical-align: middle;\n",
       "    }\n",
       "\n",
       "    .dataframe tbody tr th {\n",
       "        vertical-align: top;\n",
       "    }\n",
       "\n",
       "    .dataframe thead th {\n",
       "        text-align: right;\n",
       "    }\n",
       "</style>\n",
       "<table border=\"1\" class=\"dataframe\">\n",
       "  <thead>\n",
       "    <tr style=\"text-align: right;\">\n",
       "      <th></th>\n",
       "      <th>year</th>\n",
       "      <th>case_id</th>\n",
       "      <th>record_id</th>\n",
       "      <th>implicate_id</th>\n",
       "      <th>age_1</th>\n",
       "      <th>age_2</th>\n",
       "      <th>hisp</th>\n",
       "      <th>race</th>\n",
       "      <th>addtional_race</th>\n",
       "      <th>unusual_income</th>\n",
       "      <th>...</th>\n",
       "      <th>gi_pv_7</th>\n",
       "      <th>gi_pv_5</th>\n",
       "      <th>gi_value_cd</th>\n",
       "      <th>gi_value_cd_decile</th>\n",
       "      <th>gi_value_cd_pctle</th>\n",
       "      <th>networth_pctle</th>\n",
       "      <th>networth_pv10</th>\n",
       "      <th>networth_pv7</th>\n",
       "      <th>networth_pv5</th>\n",
       "      <th>networth_pv0</th>\n",
       "    </tr>\n",
       "  </thead>\n",
       "  <tbody>\n",
       "    <tr>\n",
       "      <th>0</th>\n",
       "      <td>2016</td>\n",
       "      <td>1</td>\n",
       "      <td>11</td>\n",
       "      <td>1</td>\n",
       "      <td>71</td>\n",
       "      <td>0</td>\n",
       "      <td>5</td>\n",
       "      <td>white</td>\n",
       "      <td>5</td>\n",
       "      <td>3</td>\n",
       "      <td>...</td>\n",
       "      <td>0.0</td>\n",
       "      <td>0.0</td>\n",
       "      <td>0.0</td>\n",
       "      <td>0.0</td>\n",
       "      <td>0.0</td>\n",
       "      <td>39.0</td>\n",
       "      <td>202345.699011</td>\n",
       "      <td>202345.699011</td>\n",
       "      <td>202345.699011</td>\n",
       "      <td>202345.699011</td>\n",
       "    </tr>\n",
       "    <tr>\n",
       "      <th>1</th>\n",
       "      <td>2016</td>\n",
       "      <td>1</td>\n",
       "      <td>12</td>\n",
       "      <td>2</td>\n",
       "      <td>71</td>\n",
       "      <td>0</td>\n",
       "      <td>5</td>\n",
       "      <td>white</td>\n",
       "      <td>5</td>\n",
       "      <td>3</td>\n",
       "      <td>...</td>\n",
       "      <td>0.0</td>\n",
       "      <td>0.0</td>\n",
       "      <td>0.0</td>\n",
       "      <td>0.0</td>\n",
       "      <td>0.0</td>\n",
       "      <td>39.0</td>\n",
       "      <td>202471.649820</td>\n",
       "      <td>202471.649820</td>\n",
       "      <td>202471.649820</td>\n",
       "      <td>202471.649820</td>\n",
       "    </tr>\n",
       "    <tr>\n",
       "      <th>2</th>\n",
       "      <td>2016</td>\n",
       "      <td>1</td>\n",
       "      <td>13</td>\n",
       "      <td>3</td>\n",
       "      <td>71</td>\n",
       "      <td>0</td>\n",
       "      <td>5</td>\n",
       "      <td>white</td>\n",
       "      <td>5</td>\n",
       "      <td>3</td>\n",
       "      <td>...</td>\n",
       "      <td>0.0</td>\n",
       "      <td>0.0</td>\n",
       "      <td>0.0</td>\n",
       "      <td>0.0</td>\n",
       "      <td>0.0</td>\n",
       "      <td>39.0</td>\n",
       "      <td>202357.149085</td>\n",
       "      <td>202357.149085</td>\n",
       "      <td>202357.149085</td>\n",
       "      <td>202357.149085</td>\n",
       "    </tr>\n",
       "    <tr>\n",
       "      <th>3</th>\n",
       "      <td>2016</td>\n",
       "      <td>1</td>\n",
       "      <td>14</td>\n",
       "      <td>4</td>\n",
       "      <td>71</td>\n",
       "      <td>0</td>\n",
       "      <td>5</td>\n",
       "      <td>white</td>\n",
       "      <td>5</td>\n",
       "      <td>3</td>\n",
       "      <td>...</td>\n",
       "      <td>0.0</td>\n",
       "      <td>0.0</td>\n",
       "      <td>0.0</td>\n",
       "      <td>0.0</td>\n",
       "      <td>0.0</td>\n",
       "      <td>39.0</td>\n",
       "      <td>202357.149085</td>\n",
       "      <td>202357.149085</td>\n",
       "      <td>202357.149085</td>\n",
       "      <td>202357.149085</td>\n",
       "    </tr>\n",
       "    <tr>\n",
       "      <th>4</th>\n",
       "      <td>2016</td>\n",
       "      <td>1</td>\n",
       "      <td>15</td>\n",
       "      <td>5</td>\n",
       "      <td>71</td>\n",
       "      <td>0</td>\n",
       "      <td>5</td>\n",
       "      <td>white</td>\n",
       "      <td>5</td>\n",
       "      <td>3</td>\n",
       "      <td>...</td>\n",
       "      <td>0.0</td>\n",
       "      <td>0.0</td>\n",
       "      <td>0.0</td>\n",
       "      <td>0.0</td>\n",
       "      <td>0.0</td>\n",
       "      <td>39.0</td>\n",
       "      <td>202471.649820</td>\n",
       "      <td>202471.649820</td>\n",
       "      <td>202471.649820</td>\n",
       "      <td>202471.649820</td>\n",
       "    </tr>\n",
       "  </tbody>\n",
       "</table>\n",
       "<p>5 rows × 99 columns</p>\n",
       "</div>"
      ],
      "text/plain": [
       "   year  case_id  record_id  implicate_id  age_1  age_2  hisp   race  \\\n",
       "0  2016        1         11             1     71      0     5  white   \n",
       "1  2016        1         12             2     71      0     5  white   \n",
       "2  2016        1         13             3     71      0     5  white   \n",
       "3  2016        1         14             4     71      0     5  white   \n",
       "4  2016        1         15             5     71      0     5  white   \n",
       "\n",
       "   addtional_race  unusual_income  ... gi_pv_7 gi_pv_5 gi_value_cd  \\\n",
       "0               5               3  ...     0.0     0.0         0.0   \n",
       "1               5               3  ...     0.0     0.0         0.0   \n",
       "2               5               3  ...     0.0     0.0         0.0   \n",
       "3               5               3  ...     0.0     0.0         0.0   \n",
       "4               5               3  ...     0.0     0.0         0.0   \n",
       "\n",
       "  gi_value_cd_decile gi_value_cd_pctle networth_pctle  networth_pv10  \\\n",
       "0                0.0               0.0           39.0  202345.699011   \n",
       "1                0.0               0.0           39.0  202471.649820   \n",
       "2                0.0               0.0           39.0  202357.149085   \n",
       "3                0.0               0.0           39.0  202357.149085   \n",
       "4                0.0               0.0           39.0  202471.649820   \n",
       "\n",
       "    networth_pv7   networth_pv5   networth_pv0  \n",
       "0  202345.699011  202345.699011  202345.699011  \n",
       "1  202471.649820  202471.649820  202471.649820  \n",
       "2  202357.149085  202357.149085  202357.149085  \n",
       "3  202357.149085  202357.149085  202357.149085  \n",
       "4  202471.649820  202471.649820  202471.649820  \n",
       "\n",
       "[5 rows x 99 columns]"
      ]
     },
     "execution_count": 12,
     "metadata": {},
     "output_type": "execute_result"
    }
   ],
   "source": [
    "df['race'] = df.race.astype('category')\n",
    "df.head()"
   ]
  },
  {
   "cell_type": "code",
   "execution_count": 13,
   "metadata": {},
   "outputs": [
    {
     "data": {
      "text/plain": [
       "(117591.90641921628, 117184.07767764002, 500000)"
      ]
     },
     "execution_count": 13,
     "metadata": {},
     "output_type": "execute_result"
    }
   ],
   "source": [
    "# Check that means on the dfs dataframe are similar to weighted means on the root dataset. \n",
    "\n",
    "dfs.norminc.mean(), wmean(df, 'norminc', 'wt0'), len(dfs)"
   ]
  },
  {
   "cell_type": "markdown",
   "metadata": {},
   "source": [
    "# Remove Gifts and Transfers\n",
    "\n",
    "Pull out the NPV of gifts and transfers. \n",
    "\n"
   ]
  },
  {
   "cell_type": "code",
   "execution_count": null,
   "metadata": {},
   "outputs": [],
   "source": []
  },
  {
   "cell_type": "code",
   "execution_count": 35,
   "metadata": {},
   "outputs": [
    {
     "data": {
      "image/png": "[encoded data removed]",
      "text/plain": [
       "<Figure size 720x576 with 1 Axes>"
      ]
     },
     "metadata": {
      "needs_background": "light"
     },
     "output_type": "display_data"
    }
   ],
   "source": [
    "t = dfs[(dfs.nincpctle < 90)]\n",
    "t = t[['race','nincpctle', 'networth_pv5']]\n",
    "t = t.groupby(['nincpctle', 'race']).median().unstack()\n",
    "\n",
    "with new_plot('Mean Net Worth By Race\\nExcluding present values of transfers at 5% interest', source,\n",
    "             xlabel='Race', ylabel='Networth', layout=[0, 0.03, 1, 0.91]) as (fig,ax):\n",
    "    \n",
    "    t.plot.bar(ax=ax)\n"
   ]
  },
  {
   "cell_type": "code",
   "execution_count": 15,
   "metadata": {},
   "outputs": [],
   "source": [
    "t = dfs90(df)\n",
    "t = t[ (t.race.isin(['white','black']) )]\n",
    "t = t[['race','nincpctle', 'agecl', 'networth']]\n",
    "t = t.groupby(['nincpctle', 'agecl', 'race']).median().unstack().droplevel(0, axis=1)\n",
    "t = t.black/t.white"
   ]
  },
  {
   "cell_type": "code",
   "execution_count": 16,
   "metadata": {},
   "outputs": [
    {
     "data": {
      "text/html": [
       "<div>\n",
       "<style scoped>\n",
       "    .dataframe tbody tr th:only-of-type {\n",
       "        vertical-align: middle;\n",
       "    }\n",
       "\n",
       "    .dataframe tbody tr th {\n",
       "        vertical-align: top;\n",
       "    }\n",
       "\n",
       "    .dataframe thead th {\n",
       "        text-align: right;\n",
       "    }\n",
       "</style>\n",
       "<table border=\"1\" class=\"dataframe\">\n",
       "  <thead>\n",
       "    <tr style=\"text-align: right;\">\n",
       "      <th>agecl</th>\n",
       "      <th>&lt;35</th>\n",
       "      <th>35-44</th>\n",
       "      <th>45-54</th>\n",
       "      <th>55-64</th>\n",
       "      <th>65-74</th>\n",
       "      <th>&gt;=75</th>\n",
       "    </tr>\n",
       "    <tr>\n",
       "      <th>nincpctle</th>\n",
       "      <th></th>\n",
       "      <th></th>\n",
       "      <th></th>\n",
       "      <th></th>\n",
       "      <th></th>\n",
       "      <th></th>\n",
       "    </tr>\n",
       "  </thead>\n",
       "  <tbody>\n",
       "    <tr>\n",
       "      <th>0</th>\n",
       "      <td>0.128058</td>\n",
       "      <td>0.77109</td>\n",
       "      <td>0.080915</td>\n",
       "      <td>0.046211</td>\n",
       "      <td>0.173091</td>\n",
       "      <td>0.681439</td>\n",
       "    </tr>\n",
       "  </tbody>\n",
       "</table>\n",
       "</div>"
      ],
      "text/plain": [
       "agecl           <35    35-44     45-54     55-64     65-74      >=75\n",
       "nincpctle                                                           \n",
       "0          0.128058  0.77109  0.080915  0.046211  0.173091  0.681439"
      ]
     },
     "execution_count": 16,
     "metadata": {},
     "output_type": "execute_result"
    }
   ],
   "source": [
    "t.unstack()"
   ]
  },
  {
   "cell_type": "markdown",
   "metadata": {},
   "source": [
    "# Lifetime Earnings"
   ]
  },
  {
   "cell_type": "code",
   "execution_count": 104,
   "metadata": {},
   "outputs": [],
   "source": [
    "\n",
    "def smoother(df, col):\n",
    "    lowess = sm.nonparametric.lowess\n",
    "    return lowess(df[col], df.index, frac=.3)[:,1]\n",
    "   \n",
    "def invest_le(le, con_prop, r):\n",
    "    \"\"\"Calculate value of investments from lifetimes earnings le, \n",
    "    contributing con_prop portion of income each year, at rate of return r\"\"\"\n",
    "    def f_():\n",
    "        total = 0\n",
    "        for idx, earn in le.iteritems():\n",
    "            total += earn * con_prop\n",
    "            total += total*r\n",
    "            yield total\n",
    "        \n",
    "    rows = list(f_())\n",
    "\n",
    "    return pd.Series(rows, index=le.index)\n",
    "\n",
    "\n",
    "def make_pan(df, agg='median', var='networth'):\n",
    "    \"\"\"Agregate a value by mena or median, per age, smoothed\"\"\"\n",
    "    import numpy as np\n",
    "    import statsmodels.api as sm\n",
    "\n",
    "    assert agg in ('median','mean')\n",
    "    \n",
    "    t = df.groupby([df.age_1.astype(int), 'race'])[var]\n",
    "    \n",
    "    if agg == 'median':\n",
    "        t = t.median()\n",
    "    else:\n",
    "        t = t.mean()\n",
    "    \n",
    "    t = t.unstack()\n",
    "    \n",
    "    lifetime_earnings = t.interpolate().fillna(method='bfill')\n",
    "    \n",
    "    lowess = sm.nonparametric.lowess\n",
    "\n",
    "    d = {'age': lifetime_earnings.index}\n",
    "    for col in lifetime_earnings.columns:\n",
    "        d[col] =  smoother(lifetime_earnings,col)\n",
    "    \n",
    "    smooth_le = pd.DataFrame(d).set_index('age').loc[25:65]\n",
    " \n",
    "    \n",
    "    return smooth_le"
   ]
  },
  {
   "cell_type": "code",
   "execution_count": 110,
   "metadata": {},
   "outputs": [
    {
     "data": {
      "image/png": "[encoded data removed]",
      "text/plain": [
       "<Figure size 720x576 with 3 Axes>"
      ]
     },
     "metadata": {
      "needs_background": "light"
     },
     "output_type": "display_data"
    }
   ],
   "source": [
    "import warnings\n",
    "# Users/eric/opt/anaconda3/envs/data/lib/python3.7/site-packages/pandas/plotting/_tools.py:307: MatplotlibDeprecationWarning: \n",
    "# The rowNum attribute was deprecated in Matplotlib 3.2 and will be removed two minor releases later. \n",
    "# Use ax.get_subplotspec().rowspan.start instead. layout[ax.rowNum, ax.colNum] = ax.get_visible()\n",
    "warnings.simplefilter('ignore')\n",
    " \n",
    "nt = dfs[dfs.n_transfer == 0]\n",
    "le = make_pan(nt, agg='median', var='norminc')\n",
    "pan = make_pan(nt, agg='median', var='networth')\n",
    "    \n",
    "with new_plot('Networth and Income By Race and Age, No Transfers', source, panes=3) as (fig,ax):\n",
    "    \n",
    "    ax[0].set_title('Median earnings by age')\n",
    "    ax[0].set_ylabel('Household Income')\n",
    "    le.plot(ax=ax[0])\n",
    "\n",
    "    ax[1].set_title('Net worth by Age')\n",
    "    ax[1].set_ylabel('Household Net Worth')\n",
    "    pan.plot(ax=ax[1])\n",
    "    \n",
    "    ax[2].set_title('Net worth increase per age')\n",
    "    (pan.diff()).plot(ax=ax[2])\n",
    "\n"
   ]
  },
  {
   "cell_type": "code",
   "execution_count": 96,
   "metadata": {},
   "outputs": [
    {
     "data": {
      "image/png": "[encoded data removed]",
      "text/plain": [
       "<Figure size 720x576 with 1 Axes>"
      ]
     },
     "metadata": {
      "needs_background": "light"
     },
     "output_type": "display_data"
    }
   ],
   "source": [
    "\n",
    "let = make_pan(dfs[dfs.n_transfer == 1], agg='median')\n",
    "let.columns = [c+'_trans' for c in let.columns]\n",
    "lent = make_pan(dfs[dfs.n_transfer == 0], agg='median')\n",
    "lent.columns = [c+'_notrans' for c in lent.columns]\n",
    "\n",
    "t = let.join(lent)\n",
    "\n",
    "with new_plot('Networth By Race and Age and Number of Transfers', source, panes=1) as (fig,ax):\n",
    "    t.plot(ax=ax)\n",
    "    "
   ]
  },
  {
   "cell_type": "code",
   "execution_count": 43,
   "metadata": {},
   "outputs": [
    {
     "data": {
      "text/html": [
       "<div>\n",
       "<style scoped>\n",
       "    .dataframe tbody tr th:only-of-type {\n",
       "        vertical-align: middle;\n",
       "    }\n",
       "\n",
       "    .dataframe tbody tr th {\n",
       "        vertical-align: top;\n",
       "    }\n",
       "\n",
       "    .dataframe thead th {\n",
       "        text-align: right;\n",
       "    }\n",
       "</style>\n",
       "<table border=\"1\" class=\"dataframe\">\n",
       "  <thead>\n",
       "    <tr style=\"text-align: right;\">\n",
       "      <th>race</th>\n",
       "      <th>black</th>\n",
       "      <th>white</th>\n",
       "    </tr>\n",
       "    <tr>\n",
       "      <th>agecl</th>\n",
       "      <th></th>\n",
       "      <th></th>\n",
       "    </tr>\n",
       "  </thead>\n",
       "  <tbody>\n",
       "    <tr>\n",
       "      <th>&lt;35</th>\n",
       "      <td>29.213816</td>\n",
       "      <td>9792.215774</td>\n",
       "    </tr>\n",
       "    <tr>\n",
       "      <th>35-44</th>\n",
       "      <td>0.000000</td>\n",
       "      <td>40552.240175</td>\n",
       "    </tr>\n",
       "    <tr>\n",
       "      <th>45-54</th>\n",
       "      <td>5585.044199</td>\n",
       "      <td>22011.648734</td>\n",
       "    </tr>\n",
       "    <tr>\n",
       "      <th>55-64</th>\n",
       "      <td>2433.642424</td>\n",
       "      <td>24672.648089</td>\n",
       "    </tr>\n",
       "    <tr>\n",
       "      <th>65-74</th>\n",
       "      <td>9047.064220</td>\n",
       "      <td>230750.858144</td>\n",
       "    </tr>\n",
       "    <tr>\n",
       "      <th>&gt;=75</th>\n",
       "      <td>0.000000</td>\n",
       "      <td>279226.539394</td>\n",
       "    </tr>\n",
       "  </tbody>\n",
       "</table>\n",
       "</div>"
      ],
      "text/plain": [
       "race         black          white\n",
       "agecl                            \n",
       "<35      29.213816    9792.215774\n",
       "35-44     0.000000   40552.240175\n",
       "45-54  5585.044199   22011.648734\n",
       "55-64  2433.642424   24672.648089\n",
       "65-74  9047.064220  230750.858144\n",
       ">=75      0.000000  279226.539394"
      ]
     },
     "execution_count": 43,
     "metadata": {},
     "output_type": "execute_result"
    }
   ],
   "source": [
    "dfs90(df).groupby(['agecl','race']).gi_sum.mean().unstack()"
   ]
  },
  {
   "cell_type": "code",
   "execution_count": 22,
   "metadata": {},
   "outputs": [
    {
     "data": {
      "text/html": [
       "<div>\n",
       "<style scoped>\n",
       "    .dataframe tbody tr th:only-of-type {\n",
       "        vertical-align: middle;\n",
       "    }\n",
       "\n",
       "    .dataframe tbody tr th {\n",
       "        vertical-align: top;\n",
       "    }\n",
       "\n",
       "    .dataframe thead th {\n",
       "        text-align: right;\n",
       "    }\n",
       "</style>\n",
       "<table border=\"1\" class=\"dataframe\">\n",
       "  <thead>\n",
       "    <tr style=\"text-align: right;\">\n",
       "      <th>race</th>\n",
       "      <th>black</th>\n",
       "      <th>white</th>\n",
       "    </tr>\n",
       "    <tr>\n",
       "      <th>agecl</th>\n",
       "      <th></th>\n",
       "      <th></th>\n",
       "    </tr>\n",
       "  </thead>\n",
       "  <tbody>\n",
       "    <tr>\n",
       "      <th>&lt;35</th>\n",
       "      <td>10765</td>\n",
       "      <td>22607</td>\n",
       "    </tr>\n",
       "    <tr>\n",
       "      <th>35-44</th>\n",
       "      <td>43062</td>\n",
       "      <td>54904</td>\n",
       "    </tr>\n",
       "    <tr>\n",
       "      <th>45-54</th>\n",
       "      <td>64594</td>\n",
       "      <td>86125</td>\n",
       "    </tr>\n",
       "    <tr>\n",
       "      <th>55-64</th>\n",
       "      <td>43062</td>\n",
       "      <td>129188</td>\n",
       "    </tr>\n",
       "    <tr>\n",
       "      <th>65-74</th>\n",
       "      <td>69438</td>\n",
       "      <td>161485</td>\n",
       "    </tr>\n",
       "    <tr>\n",
       "      <th>&gt;=75</th>\n",
       "      <td>96891</td>\n",
       "      <td>107656</td>\n",
       "    </tr>\n",
       "  </tbody>\n",
       "</table>\n",
       "</div>"
      ],
      "text/plain": [
       "race   black   white\n",
       "agecl               \n",
       "<35    10765   22607\n",
       "35-44  43062   54904\n",
       "45-54  64594   86125\n",
       "55-64  43062  129188\n",
       "65-74  69438  161485\n",
       ">=75   96891  107656"
      ]
     },
     "execution_count": 22,
     "metadata": {},
     "output_type": "execute_result"
    }
   ],
   "source": [
    "# Median gi among households who have recieved some\n",
    "t = (df[df.gi_sum > 0]).groupby(['agecl','race']).gi_sum.median().unstack()\n",
    "t"
   ]
  },
  {
   "cell_type": "code",
   "execution_count": 23,
   "metadata": {},
   "outputs": [
    {
     "data": {
      "image/png": "[encoded data removed]",
      "text/plain": [
       "<Figure size 720x576 with 1 Axes>"
      ]
     },
     "metadata": {
      "needs_background": "light"
     },
     "output_type": "display_data"
    }
   ],
   "source": [
    "t = df\n",
    "t = (t[t.gi_sum > 0]).groupby(['agecl','race']).gi_sum.median().unstack()\n",
    "\n",
    "with new_plot('Median Value of Tranfers\\n For households that have a received a transfer', source, \n",
    "              layout=[0, 0.03, 1, 0.91]) as (fig,ax):\n",
    "    t.plot(ax=ax, kind='bar')"
   ]
  },
  {
   "cell_type": "markdown",
   "metadata": {},
   "source": [
    "# Inheritances For People Younger than 45"
   ]
  },
  {
   "cell_type": "code",
   "execution_count": 55,
   "metadata": {},
   "outputs": [],
   "source": [
    "t = dfs90(dfs)\n",
    "dfsy45 = t[t.age_1<45] # Less than 90th percentile income, younger than 45 \n",
    "dfso45 = t[t.age_1>=45] "
   ]
  },
  {
   "cell_type": "code",
   "execution_count": 56,
   "metadata": {},
   "outputs": [
    {
     "data": {
      "text/plain": [
       "race\n",
       "black    0.093745\n",
       "white    0.276396\n",
       "Name: any_transfer, dtype: float64"
      ]
     },
     "execution_count": 56,
     "metadata": {},
     "output_type": "execute_result"
    }
   ],
   "source": [
    "dfs.groupby('race').any_transfer.mean()"
   ]
  },
  {
   "cell_type": "code",
   "execution_count": 57,
   "metadata": {},
   "outputs": [
    {
     "data": {
      "text/plain": [
       "race\n",
       "black    0.017526\n",
       "white    0.120813\n",
       "Name: any_transfer, dtype: float64"
      ]
     },
     "execution_count": 57,
     "metadata": {},
     "output_type": "execute_result"
    }
   ],
   "source": [
    "dfsy45.groupby('race').any_transfer.mean()"
   ]
  },
  {
   "cell_type": "code",
   "execution_count": 58,
   "metadata": {},
   "outputs": [
    {
     "data": {
      "text/plain": [
       "race\n",
       "black    0.017526\n",
       "white    0.080356\n",
       "Name: any_inherit, dtype: float64"
      ]
     },
     "execution_count": 58,
     "metadata": {},
     "output_type": "execute_result"
    }
   ],
   "source": [
    "dfsy45.groupby('race').any_inherit.mean()"
   ]
  },
  {
   "cell_type": "raw",
   "metadata": {},
   "source": [
    "There isn't much difference between the under-45 gifts and transfers for  < 45yo. "
   ]
  },
  {
   "cell_type": "code",
   "execution_count": 59,
   "metadata": {},
   "outputs": [
    {
     "data": {
      "text/plain": [
       "race\n",
       "black     1194.258824\n",
       "white    97062.526882\n",
       "Name: gi_sum, dtype: float64"
      ]
     },
     "execution_count": 59,
     "metadata": {},
     "output_type": "execute_result"
    }
   ],
   "source": [
    "dfsy45[dfsy45.any_transfer==1].groupby('race').gi_sum.mean()"
   ]
  },
  {
   "cell_type": "markdown",
   "metadata": {},
   "source": [
    "Older people are much more likely to recieve an inheritance. For Whites, about 3x. "
   ]
  },
  {
   "cell_type": "markdown",
   "metadata": {},
   "source": [
    "# Sanity Check. "
   ]
  },
  {
   "cell_type": "code",
   "execution_count": null,
   "metadata": {},
   "outputs": [],
   "source": [
    "dfso45[dfso45.any_transfer==1].groupby('race').gi_sum.median()"
   ]
  },
  {
   "cell_type": "code",
   "execution_count": null,
   "metadata": {},
   "outputs": [],
   "source": [
    "dfs[(dfs.norminc <= dfs90.norminc.max()) & (dfs.age_1 > 45) & (dfs.any_transfer==1) & (dfs.gi_sum_decile < 9) ].groupby('race').gi_sum.median()"
   ]
  },
  {
   "cell_type": "code",
   "execution_count": null,
   "metadata": {},
   "outputs": [],
   "source": [
    "#df[(df.norminc <= dfs90.norminc.max()) & (df.age_1 > 45) & (df.any_transfer==1)  & (df.gi_sum_decile < 9)].groupby('race').apply(wmean, 'gi_sum','wt0')"
   ]
  },
  {
   "cell_type": "code",
   "execution_count": null,
   "metadata": {},
   "outputs": [],
   "source": [
    "# Simulated Equal Earnings"
   ]
  },
  {
   "cell_type": "markdown",
   "metadata": {},
   "source": [
    "# Adjusting for Household size\n",
    "\n",
    "Probably dont need to do this -- it should be handed in regressions by the MARRIED variable, \n",
    "but it does have value for descriptive statistics\n"
   ]
  },
  {
   "cell_type": "code",
   "execution_count": 51,
   "metadata": {},
   "outputs": [],
   "source": [
    "t = dfs90(dfs)"
   ]
  },
  {
   "cell_type": "code",
   "execution_count": 52,
   "metadata": {},
   "outputs": [
    {
     "data": {
      "text/html": [
       "<div>\n",
       "<style scoped>\n",
       "    .dataframe tbody tr th:only-of-type {\n",
       "        vertical-align: middle;\n",
       "    }\n",
       "\n",
       "    .dataframe tbody tr th {\n",
       "        vertical-align: top;\n",
       "    }\n",
       "\n",
       "    .dataframe thead th {\n",
       "        text-align: right;\n",
       "    }\n",
       "</style>\n",
       "<table border=\"1\" class=\"dataframe\">\n",
       "  <thead>\n",
       "    <tr style=\"text-align: right;\">\n",
       "      <th></th>\n",
       "      <th>21930</th>\n",
       "      <th>51832</th>\n",
       "      <th>5443</th>\n",
       "      <th>15964</th>\n",
       "      <th>44940</th>\n",
       "    </tr>\n",
       "  </thead>\n",
       "  <tbody>\n",
       "    <tr>\n",
       "      <th>year</th>\n",
       "      <td>2016</td>\n",
       "      <td>2019</td>\n",
       "      <td>2016</td>\n",
       "      <td>2016</td>\n",
       "      <td>2019</td>\n",
       "    </tr>\n",
       "    <tr>\n",
       "      <th>case_id</th>\n",
       "      <td>4397</td>\n",
       "      <td>4143</td>\n",
       "      <td>1092</td>\n",
       "      <td>3200</td>\n",
       "      <td>2758</td>\n",
       "    </tr>\n",
       "    <tr>\n",
       "      <th>record_id</th>\n",
       "      <td>43971</td>\n",
       "      <td>41433</td>\n",
       "      <td>10924</td>\n",
       "      <td>32005</td>\n",
       "      <td>27581</td>\n",
       "    </tr>\n",
       "    <tr>\n",
       "      <th>implicate_id</th>\n",
       "      <td>1</td>\n",
       "      <td>3</td>\n",
       "      <td>4</td>\n",
       "      <td>5</td>\n",
       "      <td>1</td>\n",
       "    </tr>\n",
       "    <tr>\n",
       "      <th>age_1</th>\n",
       "      <td>57</td>\n",
       "      <td>23</td>\n",
       "      <td>74</td>\n",
       "      <td>66</td>\n",
       "      <td>26</td>\n",
       "    </tr>\n",
       "    <tr>\n",
       "      <th>...</th>\n",
       "      <td>...</td>\n",
       "      <td>...</td>\n",
       "      <td>...</td>\n",
       "      <td>...</td>\n",
       "      <td>...</td>\n",
       "    </tr>\n",
       "    <tr>\n",
       "      <th>networth_pctle</th>\n",
       "      <td>21</td>\n",
       "      <td>0</td>\n",
       "      <td>47</td>\n",
       "      <td>13</td>\n",
       "      <td>0</td>\n",
       "    </tr>\n",
       "    <tr>\n",
       "      <th>networth_pv10</th>\n",
       "      <td>-34919.7</td>\n",
       "      <td>-1784.95</td>\n",
       "      <td>-1.14986e+08</td>\n",
       "      <td>18091.1</td>\n",
       "      <td>-4629.24</td>\n",
       "    </tr>\n",
       "    <tr>\n",
       "      <th>networth_pv7</th>\n",
       "      <td>-23399.2</td>\n",
       "      <td>-1784.95</td>\n",
       "      <td>-2.67971e+07</td>\n",
       "      <td>18091.1</td>\n",
       "      <td>-4629.24</td>\n",
       "    </tr>\n",
       "    <tr>\n",
       "      <th>networth_pv5</th>\n",
       "      <td>-16605.5</td>\n",
       "      <td>-1784.95</td>\n",
       "      <td>-1.06795e+07</td>\n",
       "      <td>18091.1</td>\n",
       "      <td>-4629.24</td>\n",
       "    </tr>\n",
       "    <tr>\n",
       "      <th>networth_pv0</th>\n",
       "      <td>-6828.74</td>\n",
       "      <td>-1784.95</td>\n",
       "      <td>-5.02343e+06</td>\n",
       "      <td>18091.1</td>\n",
       "      <td>-4629.24</td>\n",
       "    </tr>\n",
       "  </tbody>\n",
       "</table>\n",
       "<p>99 rows × 5 columns</p>\n",
       "</div>"
      ],
      "text/plain": [
       "                  21930    51832        5443     15964    44940\n",
       "year               2016     2019         2016     2016     2019\n",
       "case_id            4397     4143         1092     3200     2758\n",
       "record_id         43971    41433        10924    32005    27581\n",
       "implicate_id          1        3            4        5        1\n",
       "age_1                57       23           74       66       26\n",
       "...                 ...      ...          ...      ...      ...\n",
       "networth_pctle       21        0           47       13        0\n",
       "networth_pv10  -34919.7 -1784.95 -1.14986e+08  18091.1 -4629.24\n",
       "networth_pv7   -23399.2 -1784.95 -2.67971e+07  18091.1 -4629.24\n",
       "networth_pv5   -16605.5 -1784.95 -1.06795e+07  18091.1 -4629.24\n",
       "networth_pv0   -6828.74 -1784.95 -5.02343e+06  18091.1 -4629.24\n",
       "\n",
       "[99 rows x 5 columns]"
      ]
     },
     "execution_count": 52,
     "metadata": {},
     "output_type": "execute_result"
    }
   ],
   "source": [
    "t.head().T"
   ]
  },
  {
   "cell_type": "code",
   "execution_count": 53,
   "metadata": {},
   "outputs": [
    {
     "data": {
      "text/html": [
       "<div>\n",
       "<style scoped>\n",
       "    .dataframe tbody tr th:only-of-type {\n",
       "        vertical-align: middle;\n",
       "    }\n",
       "\n",
       "    .dataframe tbody tr th {\n",
       "        vertical-align: top;\n",
       "    }\n",
       "\n",
       "    .dataframe thead th {\n",
       "        text-align: right;\n",
       "    }\n",
       "</style>\n",
       "<table border=\"1\" class=\"dataframe\">\n",
       "  <thead>\n",
       "    <tr style=\"text-align: right;\">\n",
       "      <th>hhsize</th>\n",
       "      <th>1</th>\n",
       "      <th>2</th>\n",
       "    </tr>\n",
       "    <tr>\n",
       "      <th>race</th>\n",
       "      <th></th>\n",
       "      <th></th>\n",
       "    </tr>\n",
       "  </thead>\n",
       "  <tbody>\n",
       "    <tr>\n",
       "      <th>black</th>\n",
       "      <td>1711.742079</td>\n",
       "      <td>2604.891723</td>\n",
       "    </tr>\n",
       "    <tr>\n",
       "      <th>white</th>\n",
       "      <td>10780.244207</td>\n",
       "      <td>25419.163185</td>\n",
       "    </tr>\n",
       "  </tbody>\n",
       "</table>\n",
       "</div>"
      ],
      "text/plain": [
       "hhsize             1             2\n",
       "race                              \n",
       "black    1711.742079   2604.891723\n",
       "white   10780.244207  25419.163185"
      ]
     },
     "execution_count": 53,
     "metadata": {},
     "output_type": "execute_result"
    }
   ],
   "source": [
    "t.groupby(['race','hhsize']).networthpc.median().unstack()"
   ]
  },
  {
   "cell_type": "code",
   "execution_count": 54,
   "metadata": {},
   "outputs": [
    {
     "data": {
      "text/plain": [
       "race\n",
       "black    1.132748\n",
       "white    1.114687\n",
       "Name: hhsize, dtype: float64"
      ]
     },
     "execution_count": 54,
     "metadata": {},
     "output_type": "execute_result"
    }
   ],
   "source": [
    "t.groupby('race').hhsize.mean()"
   ]
  },
  {
   "cell_type": "markdown",
   "metadata": {},
   "source": [
    "# Difference between households with and without transfers\n",
    "\n",
    "Grouping by gi_sum decile completely closes weath gap "
   ]
  },
  {
   "cell_type": "code",
   "execution_count": null,
   "metadata": {},
   "outputs": [],
   "source": [
    "dfs90.groupby('race').networth.median()"
   ]
  },
  {
   "cell_type": "code",
   "execution_count": null,
   "metadata": {},
   "outputs": [],
   "source": [
    "dfs.groupby('race').networth.median(), dfs.groupby('race').networth.mean()"
   ]
  },
  {
   "cell_type": "code",
   "execution_count": null,
   "metadata": {},
   "outputs": [],
   "source": [
    "t=dfs90.groupby(['race', dfs90.gi_sum_decile]).networth.median().to_frame()\n",
    "t = t.unstack().T.round(-2).astype(int)\n",
    "t"
   ]
  },
  {
   "cell_type": "code",
   "execution_count": null,
   "metadata": {},
   "outputs": [],
   "source": [
    "t.black.divide(t.white)\n"
   ]
  },
  {
   "cell_type": "code",
   "execution_count": null,
   "metadata": {},
   "outputs": [],
   "source": [
    "t=dfs90.groupby(['race', dfs90.gi_sum_decile]).norminc.median().to_frame()\n",
    "t = t.unstack().T.round(-2).astype(int)\n",
    "t"
   ]
  },
  {
   "cell_type": "code",
   "execution_count": null,
   "metadata": {},
   "outputs": [],
   "source": [
    "t.black.divide(t.white)\n"
   ]
  },
  {
   "cell_type": "code",
   "execution_count": null,
   "metadata": {},
   "outputs": [],
   "source": [
    "t = dfs90[dfs90.gi_sum_decile>=5]\n",
    "t=t.groupby(['race', 'income_decile']).networth.median().to_frame()\n",
    "t = t.unstack().round(-2).astype('Int64').T\n",
    "t"
   ]
  },
  {
   "cell_type": "code",
   "execution_count": null,
   "metadata": {},
   "outputs": [],
   "source": [
    "t.black.divide(t.white)\n"
   ]
  },
  {
   "cell_type": "markdown",
   "metadata": {},
   "source": [
    "# Synthesized Net worth"
   ]
  },
  {
   "cell_type": "code",
   "execution_count": 132,
   "metadata": {},
   "outputs": [
    {
     "data": {
      "text/html": [
       "<div>\n",
       "<style scoped>\n",
       "    .dataframe tbody tr th:only-of-type {\n",
       "        vertical-align: middle;\n",
       "    }\n",
       "\n",
       "    .dataframe tbody tr th {\n",
       "        vertical-align: top;\n",
       "    }\n",
       "\n",
       "    .dataframe thead th {\n",
       "        text-align: right;\n",
       "    }\n",
       "</style>\n",
       "<table border=\"1\" class=\"dataframe\">\n",
       "  <thead>\n",
       "    <tr style=\"text-align: right;\">\n",
       "      <th></th>\n",
       "      <th>black</th>\n",
       "      <th>white</th>\n",
       "      <th>black</th>\n",
       "      <th>white</th>\n",
       "    </tr>\n",
       "    <tr>\n",
       "      <th>age</th>\n",
       "      <th></th>\n",
       "      <th></th>\n",
       "      <th></th>\n",
       "      <th></th>\n",
       "    </tr>\n",
       "  </thead>\n",
       "  <tbody>\n",
       "    <tr>\n",
       "      <th>25</th>\n",
       "      <td>31767.604385</td>\n",
       "      <td>45501.400442</td>\n",
       "      <td>NaN</td>\n",
       "      <td>NaN</td>\n",
       "    </tr>\n",
       "    <tr>\n",
       "      <th>26</th>\n",
       "      <td>33916.958472</td>\n",
       "      <td>50354.551891</td>\n",
       "      <td>31767.604385</td>\n",
       "      <td>45501.400442</td>\n",
       "    </tr>\n",
       "    <tr>\n",
       "      <th>27</th>\n",
       "      <td>36055.735403</td>\n",
       "      <td>55187.607224</td>\n",
       "      <td>33916.958472</td>\n",
       "      <td>50354.551891</td>\n",
       "    </tr>\n",
       "    <tr>\n",
       "      <th>28</th>\n",
       "      <td>38152.310705</td>\n",
       "      <td>60005.623926</td>\n",
       "      <td>36055.735403</td>\n",
       "      <td>55187.607224</td>\n",
       "    </tr>\n",
       "    <tr>\n",
       "      <th>29</th>\n",
       "      <td>40117.911292</td>\n",
       "      <td>64695.272466</td>\n",
       "      <td>38152.310705</td>\n",
       "      <td>60005.623926</td>\n",
       "    </tr>\n",
       "  </tbody>\n",
       "</table>\n",
       "</div>"
      ],
      "text/plain": [
       "            black         white         black         white\n",
       "age                                                        \n",
       "25   31767.604385  45501.400442           NaN           NaN\n",
       "26   33916.958472  50354.551891  31767.604385  45501.400442\n",
       "27   36055.735403  55187.607224  33916.958472  50354.551891\n",
       "28   38152.310705  60005.623926  36055.735403  55187.607224\n",
       "29   40117.911292  64695.272466  38152.310705  60005.623926"
      ]
     },
     "execution_count": 132,
     "metadata": {},
     "output_type": "execute_result"
    }
   ],
   "source": [
    "le = make_pan(nt, agg='median', var='norminc')\n",
    "pd.concat([le, le.shift(1)], axis=1).head()"
   ]
  },
  {
   "cell_type": "code",
   "execution_count": 170,
   "metadata": {},
   "outputs": [
    {
     "data": {
      "image/png": "[encoded data removed]",
      "text/plain": [
       "<Figure size 720x576 with 2 Axes>"
      ]
     },
     "metadata": {
      "needs_background": "light"
     },
     "output_type": "display_data"
    }
   ],
   "source": [
    "\n",
    "def sim_invest(le, r=0.10, save_frac=.15):\n",
    "    total = None\n",
    "\n",
    "    for idx, row in le.iterrows():\n",
    "        if total is None:\n",
    "            total = row * 0\n",
    "        else:\n",
    "            total = (total + row * save_frac) * (1+r)\n",
    "        \n",
    "        yield [idx]+list(total)\n",
    "  \n",
    "nt = dfs[dfs.n_transfer == 0]\n",
    "le = make_pan(nt, agg='median', var='norminc')\n",
    "pan = make_pan(nt, agg='median', var='networth')\n",
    "\n",
    "sim_nw = pd.DataFrame(list(sim_invest(le)), columns = ['age']+list(le.columns)).set_index('age')\n",
    "        \n",
    "with new_plot('Simulated Net Worth', source, panes=2) as (fig,ax):\n",
    "    \n",
    "    ax[0].set_title('Median Net Worth By Age')\n",
    "    ax[0].set_ylabel('Household Net Worth')\n",
    "    pan.plot(ax=ax[0])\n",
    "\n",
    "    ax[1].set_title('Simulated Net Worth By Age')\n",
    "    ax[1].set_ylabel('Household Net Worth')\n",
    "    sim_nw.plot(ax=ax[1])\n",
    "  \n",
    "    "
   ]
  },
  {
   "cell_type": "code",
   "execution_count": 190,
   "metadata": {},
   "outputs": [
    {
     "data": {
      "text/plain": [
       "Index(['inc', 'nw', 'dnw'], dtype='object')"
      ]
     },
     "execution_count": 190,
     "metadata": {},
     "output_type": "execute_result"
    }
   ],
   "source": [
    "ni.iloc[1].index"
   ]
  },
  {
   "cell_type": "code",
   "execution_count": 205,
   "metadata": {},
   "outputs": [
    {
     "data": {
      "text/plain": [
       "<matplotlib.axes._subplots.AxesSubplot at 0x7fc6bffb4710>"
      ]
     },
     "execution_count": 205,
     "metadata": {},
     "output_type": "execute_result"
    },
    {
     "data": {
      "image/png": "[encoded data removed]",
      "text/plain": [
       "<Figure size 432x288 with 1 Axes>"
      ]
     },
     "metadata": {
      "needs_background": "light"
     },
     "output_type": "display_data"
    }
   ],
   "source": [
    "race = 'white'\n",
    "ni = le[race].to_frame('inc').join(pan[race].to_frame('nw'))\n",
    "ni['dnw'] = ni.nw.diff() # Delta networth\n",
    "ni.loc[ni.iloc[1].name:,'dnws'] = smoother(ni,'dnw') # Delta networth smoothed\n",
    "ni[['dnw','dnws']].plot()"
   ]
  },
  {
   "cell_type": "code",
   "execution_count": 206,
   "metadata": {},
   "outputs": [
    {
     "data": {
      "text/plain": [
       "<matplotlib.axes._subplots.AxesSubplot at 0x7fc6fffeb790>"
      ]
     },
     "execution_count": 206,
     "metadata": {},
     "output_type": "execute_result"
    },
    {
     "data": {
      "image/png": "[encoded data removed]",
      "text/plain": [
       "<Figure size 432x288 with 1 Axes>"
      ]
     },
     "metadata": {
      "needs_background": "light"
     },
     "output_type": "display_data"
    }
   ],
   "source": [
    "(ni.dnw / ni.nw).plot()"
   ]
  },
  {
   "cell_type": "code",
   "execution_count": 207,
   "metadata": {},
   "outputs": [
    {
     "data": {
      "text/plain": [
       "<matplotlib.axes._subplots.AxesSubplot at 0x7fc6ca7de8d0>"
      ]
     },
     "execution_count": 207,
     "metadata": {},
     "output_type": "execute_result"
    },
    {
     "data": {
      "image/png": "[encoded data removed]",
      "text/plain": [
       "<Figure size 432x288 with 1 Axes>"
      ]
     },
     "metadata": {
      "needs_background": "light"
     },
     "output_type": "display_data"
    }
   ],
   "source": [
    "(ni.dnw / ni.inc).plot()"
   ]
  },
  {
   "cell_type": "code",
   "execution_count": null,
   "metadata": {},
   "outputs": [],
   "source": []
  }
 ],
 "metadata": {
  "kernelspec": {
   "display_name": "Python 3",
   "language": "python",
   "name": "python3"
  },
  "language_info": {
   "codemirror_mode": {
    "name": "ipython",
    "version": 3
   },
   "file_extension": ".py",
   "mimetype": "text/x-python",
   "name": "python",
   "nbconvert_exporter": "python",
   "pygments_lexer": "ipython3",
   "version": "3.7.6"
  }
 },
 "nbformat": 4,
 "nbformat_minor": 4
}
