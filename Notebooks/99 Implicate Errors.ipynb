{
 "cells": [
  {
   "cell_type": "code",
   "execution_count": 9,
   "metadata": {},
   "outputs": [],
   "source": [
    "\n",
    "import pandas as pd\n",
    "import numpy as np\n",
    "import metapack as mp\n",
    "from pathlib import Path\n",
    "from statsmodels.formula.api import ols\n",
    "import seaborn as sns\n",
    "import matplotlib.pyplot as plt\n",
    "from sdipylib.plot import  source_attribution\n",
    "\n",
    "# /Users/eric/opt/anaconda3/envs/data/lib/python3.7/site-packages/pandas/plotting/_tools.py:307: MatplotlibDeprecationWarning: \n",
    "# The rowNum attribute was deprecated in Matplotlib 3.2 and will be removed two minor releases later. Use ax.get_subplotspec().rowspan.start instead.\n",
    "#   layout[ax.rowNum, ax.colNum] = ax.get_visible()\n",
    "import warnings\n",
    "warnings.simplefilter(\"ignore\")\n",
    "\n",
    "large = 22; med = 16; small = 12\n",
    "params = {'axes.titlesize': large,\n",
    "          'legend.fontsize': med,\n",
    "          'figure.figsize': (16, 10),\n",
    "          'axes.labelsize': med,\n",
    "          'axes.titlesize': med,\n",
    "          'xtick.labelsize': med,\n",
    "          'ytick.labelsize': med,\n",
    "          'figure.titlesize': large}\n",
    "plt.rcParams.update(params)\n",
    "plt.style.use('seaborn-whitegrid')\n",
    "sns.set_style(\"white\")\n",
    "%matplotlib inline\n",
    "\n",
    "%run weights.py\n",
    "%run lib.py \n",
    "\n",
    "source = \"Survey of Consumer Finances, 2016 and 2019 pooled\"\n",
    "\n"
   ]
  },
  {
   "cell_type": "code",
   "execution_count": 10,
   "metadata": {},
   "outputs": [
    {
     "name": "stdout",
     "output_type": "stream",
     "text": [
      "Opening:  index:federalreserve.gov-consumer_finances-2016e2019-inherit\n"
     ]
    },
    {
     "data": {
      "text/html": [
       "<h1>Survey of Consumer Finances, Inheritance Extract</h1>\n",
       "<p><code>federalreserve.gov-consumer_finances-2016e2019-inherit-1.2.5</code> Last Update: 2020-12-09T02:01:15</p>\n",
       "<p><em>An Extract from the survey of consumer finances for studying networth and ineritance, from multiple years</em></p>\n",
       "<p>This is an extract of the 2016 and 2019 Survey of Consumer Finances, with extracted variables\n",
       "and recoded variables oriented toward studying inheritance.</p>\n",
       "<h2>Images</h2>\n",
       "<p><a href=\"docs/networth_race_inc.png\"><img alt=\"doc_img\" src=\"docs/networth_race_inc.png\" title=\"networth_race_inc\" /></a></p>\n",
       "<p>Net Worth by Income Percentile and Race## Notes</p>\n",
       "<ul>\n",
       "<li>Version 1.2.2 Added the Inflatable flag</li>\n",
       "<li>Version 1.2.3 Inflated dollar ammounts to current dollars</li>\n",
       "</ul>\n",
       "<h2>Contacts</h2>\n",
       "<ul>\n",
       "<li><strong>Wrangler</strong> <a href=\"mailto:eric@civicknowledge.com\">Eric Busboom</a>, <a href=\"http://civicknowledge.com\">Civic Knowledge</a></li>\n",
       "</ul>\n",
       "<h2>Resources</h2>\n",
       "<ul>\n",
       "<li><strong> <a href=\"data/inherit_scf_16_19.csv\">inherit_scf_16_19</a></strong>. Extract of the 2016 and 2019 SCF for inheritance and networth</li>\n",
       "</ul>\n",
       "<h2>References</h2>\n",
       "<p><ul><li> <strong>scf</string>, <em>metapack+http://library.metatab.org/federalreserve.gov-consumer_finances-1.1.1.csv</em>. Survey of consumer finances data packages</li><li> <strong><a href=\"https://fred.stlouisfed.org/graph/fredgraph.csv?&id=CPIAUCSL\">cpi</a></strong>. Consumer Price Index</li><ul></p>"
      ],
      "text/plain": [
       "# Survey of Consumer Finances, Inheritance Extract\n",
       "`federalreserve.gov-consumer_finances-2016e2019-inherit-1.2.5` Last Update: 2020-12-09T02:01:15\n",
       "\n",
       "_An Extract from the survey of consumer finances for studying networth and ineritance, from multiple years_\n",
       "\n",
       "\n",
       "This is an extract of the 2016 and 2019 Survey of Consumer Finances, with extracted variables\n",
       "and recoded variables oriented toward studying inheritance.\n",
       "\n",
       "\n",
       " \n",
       "## Images\n",
       "\n",
       "[![doc_img](docs/networth_race_inc.png \"networth_race_inc\")](docs/networth_race_inc.png)\n",
       "\n",
       "Net Worth by Income Percentile and Race## Notes\n",
       "\n",
       "* Version 1.2.2 Added the Inflatable flag\n",
       "* Version 1.2.3 Inflated dollar ammounts to current dollars\n",
       "## Contacts\n",
       "\n",
       "* **Wrangler** [Eric Busboom](mailto:eric@civicknowledge.com), [Civic Knowledge](http://civicknowledge.com)\n",
       "\n",
       "## Resources\n",
       "\n",
       "* ** [inherit_scf_16_19](data/inherit_scf_16_19.csv)**. Extract of the 2016 and 2019 SCF for inheritance and networth\n",
       "\n",
       "## References\n",
       "<ul><li> <strong>scf</string>, <em>metapack+http://library.metatab.org/federalreserve.gov-consumer_finances-1.1.1.csv</em>. Survey of consumer finances data packages</li><li> <strong><a href=\"https://fred.stlouisfed.org/graph/fredgraph.csv?&id=CPIAUCSL\">cpi</a></strong>. Consumer Price Index</li><ul>\n"
      ]
     },
     "execution_count": 10,
     "metadata": {},
     "output_type": "execute_result"
    }
   ],
   "source": [
    "pkg = multi_open('federalreserve.gov-consumer_finances-2016e2019-inherit', print_ref=True)\n",
    "#pkg = mp.jupyter.open_source_package()\n",
    "pkg"
   ]
  },
  {
   "cell_type": "code",
   "execution_count": 11,
   "metadata": {},
   "outputs": [],
   "source": [
    "inherit_scf_16_19 = pkg.resource('inherit_scf_16_19').dataframe()\n",
    "\n",
    "dfbw,  dfs90 =   make_descriptive_df(inherit_scf_16_19)    "
   ]
  },
  {
   "cell_type": "code",
   "execution_count": 14,
   "metadata": {},
   "outputs": [],
   "source": [
    "dfs = dfbw.sample(100_000, replace=True, weights=dfbw.wt0)"
   ]
  },
  {
   "cell_type": "code",
   "execution_count": 15,
   "metadata": {},
   "outputs": [
    {
     "data": {
      "text/html": [
       "<div>\n",
       "<style scoped>\n",
       "    .dataframe tbody tr th:only-of-type {\n",
       "        vertical-align: middle;\n",
       "    }\n",
       "\n",
       "    .dataframe tbody tr th {\n",
       "        vertical-align: top;\n",
       "    }\n",
       "\n",
       "    .dataframe thead th {\n",
       "        text-align: right;\n",
       "    }\n",
       "</style>\n",
       "<table border=\"1\" class=\"dataframe\">\n",
       "  <thead>\n",
       "    <tr style=\"text-align: right;\">\n",
       "      <th></th>\n",
       "      <th>median</th>\n",
       "      <th>mean</th>\n",
       "    </tr>\n",
       "    <tr>\n",
       "      <th>race</th>\n",
       "      <th></th>\n",
       "      <th></th>\n",
       "    </tr>\n",
       "  </thead>\n",
       "  <tbody>\n",
       "    <tr>\n",
       "      <th>black</th>\n",
       "      <td>19350.624226</td>\n",
       "      <td>1.757009e+05</td>\n",
       "    </tr>\n",
       "    <tr>\n",
       "      <th>white</th>\n",
       "      <td>193162.740059</td>\n",
       "      <td>1.031779e+06</td>\n",
       "    </tr>\n",
       "  </tbody>\n",
       "</table>\n",
       "</div>"
      ],
      "text/plain": [
       "              median          mean\n",
       "race                              \n",
       "black   19350.624226  1.757009e+05\n",
       "white  193162.740059  1.031779e+06"
      ]
     },
     "metadata": {},
     "output_type": "display_data"
    },
    {
     "data": {
      "text/html": [
       "<div>\n",
       "<style scoped>\n",
       "    .dataframe tbody tr th:only-of-type {\n",
       "        vertical-align: middle;\n",
       "    }\n",
       "\n",
       "    .dataframe tbody tr th {\n",
       "        vertical-align: top;\n",
       "    }\n",
       "\n",
       "    .dataframe thead th {\n",
       "        text-align: right;\n",
       "    }\n",
       "</style>\n",
       "<table border=\"1\" class=\"dataframe\">\n",
       "  <thead>\n",
       "    <tr style=\"text-align: right;\">\n",
       "      <th></th>\n",
       "      <th>ratio</th>\n",
       "      <th>difference</th>\n",
       "    </tr>\n",
       "  </thead>\n",
       "  <tbody>\n",
       "    <tr>\n",
       "      <th>median</th>\n",
       "      <td>9.98</td>\n",
       "      <td>174000</td>\n",
       "    </tr>\n",
       "    <tr>\n",
       "      <th>mean</th>\n",
       "      <td>5.87</td>\n",
       "      <td>856000</td>\n",
       "    </tr>\n",
       "  </tbody>\n",
       "</table>\n",
       "</div>"
      ],
      "text/plain": [
       "        ratio  difference\n",
       "median   9.98      174000\n",
       "mean     5.87      856000"
      ]
     },
     "execution_count": 15,
     "metadata": {},
     "output_type": "execute_result"
    }
   ],
   "source": [
    "a = dfs.groupby('race').networth.median().to_frame('median')\n",
    "c = dfs.groupby('race').networth.mean().to_frame('mean')\n",
    "t = a.join(c)\n",
    "display(t)\n",
    "(t.loc['white']/t.loc['black']).to_frame('ratio').round(2)\\\n",
    "    .join((t.loc['white']-t.loc['black']).to_frame('difference').round(-3).astype(int))\n"
   ]
  },
  {
   "cell_type": "code",
   "execution_count": 22,
   "metadata": {},
   "outputs": [
    {
     "data": {
      "text/html": [
       "<div>\n",
       "<style scoped>\n",
       "    .dataframe tbody tr th:only-of-type {\n",
       "        vertical-align: middle;\n",
       "    }\n",
       "\n",
       "    .dataframe tbody tr th {\n",
       "        vertical-align: top;\n",
       "    }\n",
       "\n",
       "    .dataframe thead th {\n",
       "        text-align: right;\n",
       "    }\n",
       "</style>\n",
       "<table border=\"1\" class=\"dataframe\">\n",
       "  <thead>\n",
       "    <tr style=\"text-align: right;\">\n",
       "      <th>race</th>\n",
       "      <th>black</th>\n",
       "      <th>white</th>\n",
       "    </tr>\n",
       "  </thead>\n",
       "  <tbody>\n",
       "    <tr>\n",
       "      <th>count</th>\n",
       "      <td>5.000000</td>\n",
       "      <td>5.000000e+00</td>\n",
       "    </tr>\n",
       "    <tr>\n",
       "      <th>mean</th>\n",
       "      <td>175858.014531</td>\n",
       "      <td>1.032337e+06</td>\n",
       "    </tr>\n",
       "    <tr>\n",
       "      <th>std</th>\n",
       "      <td>48198.158643</td>\n",
       "      <td>8.356299e+04</td>\n",
       "    </tr>\n",
       "    <tr>\n",
       "      <th>min</th>\n",
       "      <td>145225.297316</td>\n",
       "      <td>9.556828e+05</td>\n",
       "    </tr>\n",
       "    <tr>\n",
       "      <th>25%</th>\n",
       "      <td>146752.227471</td>\n",
       "      <td>9.703432e+05</td>\n",
       "    </tr>\n",
       "    <tr>\n",
       "      <th>50%</th>\n",
       "      <td>156385.499631</td>\n",
       "      <td>1.015560e+06</td>\n",
       "    </tr>\n",
       "    <tr>\n",
       "      <th>75%</th>\n",
       "      <td>170796.040607</td>\n",
       "      <td>1.055957e+06</td>\n",
       "    </tr>\n",
       "    <tr>\n",
       "      <th>max</th>\n",
       "      <td>260131.007627</td>\n",
       "      <td>1.164142e+06</td>\n",
       "    </tr>\n",
       "  </tbody>\n",
       "</table>\n",
       "</div>"
      ],
      "text/plain": [
       "race           black         white\n",
       "count       5.000000  5.000000e+00\n",
       "mean   175858.014531  1.032337e+06\n",
       "std     48198.158643  8.356299e+04\n",
       "min    145225.297316  9.556828e+05\n",
       "25%    146752.227471  9.703432e+05\n",
       "50%    156385.499631  1.015560e+06\n",
       "75%    170796.040607  1.055957e+06\n",
       "max    260131.007627  1.164142e+06"
      ]
     },
     "execution_count": 22,
     "metadata": {},
     "output_type": "execute_result"
    }
   ],
   "source": [
    "dfs.groupby(['implicate_id', 'race']).networth.mean().unstack().describe()"
   ]
  },
  {
   "cell_type": "code",
   "execution_count": 26,
   "metadata": {},
   "outputs": [
    {
     "data": {
      "text/html": [
       "<div>\n",
       "<style scoped>\n",
       "    .dataframe tbody tr th:only-of-type {\n",
       "        vertical-align: middle;\n",
       "    }\n",
       "\n",
       "    .dataframe tbody tr th {\n",
       "        vertical-align: top;\n",
       "    }\n",
       "\n",
       "    .dataframe thead th {\n",
       "        text-align: right;\n",
       "    }\n",
       "</style>\n",
       "<table border=\"1\" class=\"dataframe\">\n",
       "  <thead>\n",
       "    <tr style=\"text-align: right;\">\n",
       "      <th>race</th>\n",
       "      <th>black</th>\n",
       "      <th>white</th>\n",
       "    </tr>\n",
       "    <tr>\n",
       "      <th>implicate_id</th>\n",
       "      <th></th>\n",
       "      <th></th>\n",
       "    </tr>\n",
       "  </thead>\n",
       "  <tbody>\n",
       "    <tr>\n",
       "      <th>1</th>\n",
       "      <td>18775.334498</td>\n",
       "      <td>194320.405782</td>\n",
       "    </tr>\n",
       "    <tr>\n",
       "      <th>2</th>\n",
       "      <td>17095.889439</td>\n",
       "      <td>192727.086112</td>\n",
       "    </tr>\n",
       "    <tr>\n",
       "      <th>3</th>\n",
       "      <td>18663.619816</td>\n",
       "      <td>193028.524968</td>\n",
       "    </tr>\n",
       "    <tr>\n",
       "      <th>4</th>\n",
       "      <td>21100.719963</td>\n",
       "      <td>194191.217701</td>\n",
       "    </tr>\n",
       "    <tr>\n",
       "      <th>5</th>\n",
       "      <td>21984.141133</td>\n",
       "      <td>192598.173607</td>\n",
       "    </tr>\n",
       "  </tbody>\n",
       "</table>\n",
       "</div>"
      ],
      "text/plain": [
       "race                 black          white\n",
       "implicate_id                             \n",
       "1             18775.334498  194320.405782\n",
       "2             17095.889439  192727.086112\n",
       "3             18663.619816  193028.524968\n",
       "4             21100.719963  194191.217701\n",
       "5             21984.141133  192598.173607"
      ]
     },
     "execution_count": 26,
     "metadata": {},
     "output_type": "execute_result"
    }
   ],
   "source": [
    "t = dfs.groupby(['implicate_id', 'race']).networth.median().unstack()\n",
    "t"
   ]
  },
  {
   "cell_type": "code",
   "execution_count": 27,
   "metadata": {},
   "outputs": [
    {
     "data": {
      "text/plain": [
       "implicate_id\n",
       "1    10.349771\n",
       "2    11.273300\n",
       "3    10.342502\n",
       "4     9.203061\n",
       "5     8.760778\n",
       "dtype: float64"
      ]
     },
     "execution_count": 27,
     "metadata": {},
     "output_type": "execute_result"
    }
   ],
   "source": [
    "t.white / t.black"
   ]
  },
  {
   "cell_type": "code",
   "execution_count": null,
   "metadata": {},
   "outputs": [],
   "source": []
  }
 ],
 "metadata": {
  "kernelspec": {
   "display_name": "Python 3",
   "language": "python",
   "name": "python3"
  },
  "language_info": {
   "codemirror_mode": {
    "name": "ipython",
    "version": 3
   },
   "file_extension": ".py",
   "mimetype": "text/x-python",
   "name": "python",
   "nbconvert_exporter": "python",
   "pygments_lexer": "ipython3",
   "version": "3.7.6"
  }
 },
 "nbformat": 4,
 "nbformat_minor": 4
}
