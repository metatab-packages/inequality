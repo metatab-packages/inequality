{
 "cells": [
  {
   "cell_type": "code",
   "execution_count": 1,
   "metadata": {},
   "outputs": [],
   "source": [
    "import pandas as pd\n",
    "import numpy as np\n",
    "import metapack as mp\n",
    "from pathlib import Path\n",
    "from statsmodels.formula.api import ols\n",
    "import seaborn as sns\n",
    "import matplotlib.pyplot as plt\n",
    "import pickle\n",
    "from sdipylib.plot import  source_attribution\n",
    "\n",
    "# /Users/eric/opt/anaconda3/envs/data/lib/python3.7/site-packages/pandas/plotting/_tools.py:307: MatplotlibDeprecationWarning: \n",
    "# The rowNum attribute was deprecated in Matplotlib 3.2 and will be removed two minor releases later. Use ax.get_subplotspec().rowspan.start instead.\n",
    "#   layout[ax.rowNum, ax.colNum] = ax.get_visible()\n",
    "import warnings\n",
    "warnings.simplefilter(\"ignore\")\n",
    "\n",
    "large = 22; med = 16; small = 12\n",
    "params = {'axes.titlesize': large,\n",
    "          'legend.fontsize': med,\n",
    "          'figure.figsize': (16, 10),\n",
    "          'axes.labelsize': med,\n",
    "          'axes.titlesize': med,\n",
    "          'xtick.labelsize': med,\n",
    "          'ytick.labelsize': med,\n",
    "          'figure.titlesize': large}\n",
    "plt.rcParams.update(params)\n",
    "plt.style.use('seaborn-whitegrid')\n",
    "sns.set_style(\"white\")\n",
    "%matplotlib inline\n",
    "\n",
    "%run weights.py\n",
    "%run lib.py \n",
    "\n",
    "source = \"Survey of Consumer Finances, 2016 and 2019 pooled. 2020 Dollars\"\n"
   ]
  },
  {
   "cell_type": "markdown",
   "metadata": {},
   "source": [
    "# Sampling errors\n",
    "\n",
    "From the documentation:\n",
    "    \n",
    "     An estimate of the total standard error attributable to imputation and sampling is given by SQRT((6/5)*imputation variance + sampling variance).\n"
   ]
  },
  {
   "cell_type": "code",
   "execution_count": 2,
   "metadata": {},
   "outputs": [
    {
     "name": "stdout",
     "output_type": "stream",
     "text": [
      "Opening:  index:federalreserve.gov-consumer_finances-2016e2019-inherit\n",
      "metapack+file:///Users/eric/proj/data-projects/metatab-packages/inequality-collection/federalreserve.gov-consumer_finances-2016-inherit/_packages/federalreserve.gov-consumer_finances-2016e2019-inherit-1.2.6/metadata.csv\n"
     ]
    },
    {
     "data": {
      "text/html": [
       "<h1>Survey of Consumer Finances, Inheritance Extract</h1>\n",
       "<p><code>federalreserve.gov-consumer_finances-2016e2019-inherit-1.2.6</code> Last Update: 2020-12-23T22:27:54</p>\n",
       "<p><em>An Extract from the survey of consumer finances for studying networth and ineritance, from multiple years</em></p>\n",
       "<p>This is an extract of the 2016 and 2019 Survey of Consumer Finances, with extracted variables\n",
       "and recoded variables oriented toward studying inheritance.</p>\n",
       "<h2>Images</h2>\n",
       "<p><a href=\"docs/networth_race_inc.png\"><img alt=\"doc_img\" src=\"docs/networth_race_inc.png\" title=\"networth_race_inc\" /></a></p>\n",
       "<p>Net Worth by Income Percentile and Race## Notes</p>\n",
       "<ul>\n",
       "<li>Version 1.2.2 Added the Inflatable flag</li>\n",
       "<li>Version 1.2.3 Inflated dollar ammounts to current dollars</li>\n",
       "<li>Version 1.2.6 Fixed inflation error, dded non-inflated dataset.</li>\n",
       "</ul>\n",
       "<h2>Contacts</h2>\n",
       "<ul>\n",
       "<li><strong>Wrangler</strong> <a href=\"mailto:eric@civicknowledge.com\">Eric Busboom</a>, <a href=\"http://civicknowledge.com\">Civic Knowledge</a></li>\n",
       "</ul>\n",
       "<h2>Resources</h2>\n",
       "<ul>\n",
       "<li><strong> <a href=\"data/inherit_scf_16_19.csv\">inherit_scf_16_19</a></strong>. Extract of the 2016 and 2019 SCF for inheritance and networth,uninflated</li>\n",
       "<li><strong> <a href=\"data/inherit_scf_16_19_i.csv\">inherit_scf_16_19_i</a></strong>. Extract of the 2016 and 2019 SCF for inheritance and networth, inflated to 2020 dollars</li>\n",
       "</ul>\n",
       "<h2>References</h2>\n",
       "<p><ul><li> <strong>scf</string>, <em>metapack+http://library.metatab.org/federalreserve.gov-consumer_finances.csv</em>. Survey of consumer finances data packages</li><li> <strong><a href=\"https://fred.stlouisfed.org/graph/fredgraph.csv?&id=CPIAUCSL\">cpi</a></strong>. Consumer Price Index</li><ul></p>"
      ],
      "text/plain": [
       "# Survey of Consumer Finances, Inheritance Extract\n",
       "`federalreserve.gov-consumer_finances-2016e2019-inherit-1.2.6` Last Update: 2020-12-23T22:27:54\n",
       "\n",
       "_An Extract from the survey of consumer finances for studying networth and ineritance, from multiple years_\n",
       "\n",
       "\n",
       "This is an extract of the 2016 and 2019 Survey of Consumer Finances, with extracted variables\n",
       "and recoded variables oriented toward studying inheritance.\n",
       "\n",
       "\n",
       " \n",
       "## Images\n",
       "\n",
       "[![doc_img](docs/networth_race_inc.png \"networth_race_inc\")](docs/networth_race_inc.png)\n",
       "\n",
       "Net Worth by Income Percentile and Race## Notes\n",
       "\n",
       "* Version 1.2.2 Added the Inflatable flag\n",
       "* Version 1.2.3 Inflated dollar ammounts to current dollars\n",
       "* Version 1.2.6 Fixed inflation error, dded non-inflated dataset.\n",
       "## Contacts\n",
       "\n",
       "* **Wrangler** [Eric Busboom](mailto:eric@civicknowledge.com), [Civic Knowledge](http://civicknowledge.com)\n",
       "\n",
       "## Resources\n",
       "\n",
       "* ** [inherit_scf_16_19](data/inherit_scf_16_19.csv)**. Extract of the 2016 and 2019 SCF for inheritance and networth,uninflated\n",
       "* ** [inherit_scf_16_19_i](data/inherit_scf_16_19_i.csv)**. Extract of the 2016 and 2019 SCF for inheritance and networth, inflated to 2020 dollars\n",
       "\n",
       "## References\n",
       "<ul><li> <strong>scf</string>, <em>metapack+http://library.metatab.org/federalreserve.gov-consumer_finances.csv</em>. Survey of consumer finances data packages</li><li> <strong><a href=\"https://fred.stlouisfed.org/graph/fredgraph.csv?&id=CPIAUCSL\">cpi</a></strong>. Consumer Price Index</li><ul>\n"
      ]
     },
     "execution_count": 2,
     "metadata": {},
     "output_type": "execute_result"
    }
   ],
   "source": [
    "pkg = multi_open('federalreserve.gov-consumer_finances-2016e2019-inherit', print_ref=True)\n",
    "print(pkg.ref)\n",
    "pkg"
   ]
  },
  {
   "cell_type": "code",
   "execution_count": 3,
   "metadata": {},
   "outputs": [
    {
     "name": "stdout",
     "output_type": "stream",
     "text": [
      "Opening:  index:federalreserve.gov-consumer_finances\n"
     ]
    },
    {
     "data": {
      "text/html": [
       "<h1>Survey of Consumer Finances</h1>\n",
       "<p><code>federalreserve.gov-consumer_finances-1.2.4</code> Last Update: 2020-12-22T22:07:45</p>\n",
       "<p><em>References to the Survey of Consumer Finances</em></p>\n",
       "<p>The data package provides references to the main SCF files. The package does not contain data. </p>\n",
       "<ul>\n",
       "<li><a href=\"https://www.federalreserve.gov/econres/notes/feds-notes/how-does-intergenerational-wealth-transmission-affect-wealth-concentration-20180601.htm\">How Does Intergenerational Wealth Transmission Affect Wealth Concentration? </a></li>\n",
       "<li><a href=\"http://www.people.virginia.edu/~ey2d/aliprantis_carroll_young_2019b.pdf\">The Dynamics of the Racial Wealth Gap</a></li>\n",
       "</ul>\n",
       "<p>Feiveson and Sabelhaus calculate that 26% of welath is due to transfers, because they assume that all of the transfer is invested at 3%. THis is clearly nonsense0</p>\n",
       "<h2>Documentation Links</h2>\n",
       "<ul>\n",
       "<li><a href=\"https://www.federalreserve.gov/econres/files/codebk2019.txt\">2019 Codebook</a> </li>\n",
       "<li><a href=\"https://www.federalreserve.gov/econres/files/codebk2016.txt\">2016 Codebook</a> </li>\n",
       "<li><a href=\"https://www.federalreserve.gov/econres/files/bulletin.macro.txt\">2016 Extract SAS Macro</a> </li>\n",
       "<li><a href=\"https://www.federalreserve.gov/econres/files/codebk2013.txt\">2013 Codebook</a> </li>\n",
       "<li><a href=\"https://www.federalreserve.gov/econres/files/bulletin.macro.txt\">2013 Extract SAS Macro</a> </li>\n",
       "<li><a href=\"https://www.federalreserve.gov/econres/files/codebk2010.txt\">2010 Codebook</a> </li>\n",
       "<li><a href=\"https://www.federalreserve.gov/econres/files/bulletin.macro.txt\">2010 Extract SAS Macro</a> </li>\n",
       "<li><a href=\"https://www.federalreserve.gov/econres/scfindex.htm\">Homepage</a> </li>\n",
       "<li><a href=\"https://www.federalreserve.gov/econres/scf_2016.htm\">2016 Homepage</a> </li>\n",
       "<li><a href=\"https://www.federalreserve.gov/econres/scf_2013.htm\">2013 Home Page</a> </li>\n",
       "<li><a href=\"https://www.federalreserve.gov/econres/scf_2010.htm\">2010 Home Page</a> </li>\n",
       "</ul>\n",
       "<h2>Notes</h2>\n",
       "<ul>\n",
       "<li>scf_extract_10 is broken; Pandas can't load the version of Stat for this file</li>\n",
       "</ul>\n",
       "<h2>Contacts</h2>\n",
       "<ul>\n",
       "<li><strong>Wrangler</strong> <a href=\"mailto:eric@civicknowledge.com\">Eric Busboom</a>, <a href=\"http://civicknowledge.com\">Civic Knowledge</a></li>\n",
       "</ul>\n",
       "<h2>References</h2>\n",
       "<p><ul><li> <strong><a href=\"https://www.federalreserve.gov/econres/files/scf2019s.zip#p19i6.dta\">scf_public_19</a></strong>. Survey of consumer finances, full public dataset, 2019</li><li> <strong><a href=\"https://www.federalreserve.gov/econres/files/scfp2019s.zip#rscfp2019.dta\">scf_extract_19</a></strong>. Survey of consumer finances, public extract, 2019</li><li> <strong><a href=\"https://www.federalreserve.gov/econres/files/scf2019rw1s.zip#p19_rw1.dta\">scf_weights_19</a></strong>. Survey of consumer finances, replicate weights, 2019</li><li> <strong><a href=\"https://www.federalreserve.gov/econres/files/scf2016s.zip#p16i6.dta\">scf_public_16</a></strong>. Survey of consumer finances, full public dataset, 2016</li><li> <strong><a href=\"https://www.federalreserve.gov/econres/files/scfp2016s.zip#rscfp2016.dta\">scf_extract_16</a></strong>. Survey of consumer finances, public extract, 2016</li><li> <strong><a href=\"https://www.federalreserve.gov/econres/files/scf2016rw1s.zip#p16_rw1.dta\">scf_weights_16</a></strong>. Survey of consumer finances, replicate weights, 2016</li><li> <strong><a href=\"https://www.federalreserve.gov/econres/files/scf2013s.zip#p13i6.dta\">scf_public_13</a></strong>. Survey of consumer finances, full public dataset, 2013</li><li> <strong><a href=\"https://www.federalreserve.gov/econres/files/scfp2013s.zip#rscfp2013.dta\">scf_extract_13</a></strong>. Survey of consumer finances, public extract, 2013</li><li> <strong><a href=\"https://www.federalreserve.gov/econres/files/scf2013rw1s.zip#p13_rw1.dta\">scf_weights_13</a></strong>. Survey of consumer finances, replicate weights, 2013</li><li> <strong><a href=\"https://www.federalreserve.gov/econres/files/scf2010s.zip#p10i6.dta\">scf_public_10</a></strong>. Survey of consumer finances, full public dataset, 2010</li><li> <strong><a href=\"https://www.federalreserve.gov/econres/files/scfp2010.zip#scfp2010&target_format=dta\">scf_extract_10</a></strong>. Survey of consumer finances, public extract, 2010</li><li> <strong><a href=\"https://www.federalreserve.gov/econres/files/scf2010rw1s.zip#p10_rw1.dta\">scf_weights_10</a></strong>. Survey of consumer finances, replicate weights, 2010</li><ul></p>"
      ],
      "text/plain": [
       "# Survey of Consumer Finances\n",
       "`federalreserve.gov-consumer_finances-1.2.4` Last Update: 2020-12-22T22:07:45\n",
       "\n",
       "_References to the Survey of Consumer Finances_\n",
       "\n",
       "\n",
       "The data package provides references to the main SCF files. The package does not contain data. \n",
       "\n",
       "* [How Does Intergenerational Wealth Transmission Affect Wealth Concentration? ](https://www.federalreserve.gov/econres/notes/feds-notes/how-does-intergenerational-wealth-transmission-affect-wealth-concentration-20180601.htm)\n",
       "* [The Dynamics of the Racial Wealth Gap](http://www.people.virginia.edu/~ey2d/aliprantis_carroll_young_2019b.pdf)\n",
       "\n",
       "Feiveson and Sabelhaus calculate that 26% of welath is due to transfers, because they assume that all of the transfer is invested at 3%. THis is clearly nonsense0\n",
       "## Documentation Links\n",
       "\n",
       "* [2019 Codebook](https://www.federalreserve.gov/econres/files/codebk2019.txt) \n",
       "* [2016 Codebook](https://www.federalreserve.gov/econres/files/codebk2016.txt) \n",
       "* [2016 Extract SAS Macro](https://www.federalreserve.gov/econres/files/bulletin.macro.txt) \n",
       "* [2013 Codebook](https://www.federalreserve.gov/econres/files/codebk2013.txt) \n",
       "* [2013 Extract SAS Macro](https://www.federalreserve.gov/econres/files/bulletin.macro.txt) \n",
       "* [2010 Codebook](https://www.federalreserve.gov/econres/files/codebk2010.txt) \n",
       "* [2010 Extract SAS Macro](https://www.federalreserve.gov/econres/files/bulletin.macro.txt) \n",
       "* [Homepage](https://www.federalreserve.gov/econres/scfindex.htm) \n",
       "* [2016 Homepage](https://www.federalreserve.gov/econres/scf_2016.htm) \n",
       "* [2013 Home Page](https://www.federalreserve.gov/econres/scf_2013.htm) \n",
       "* [2010 Home Page](https://www.federalreserve.gov/econres/scf_2010.htm) \n",
       "\n",
       " \n",
       "## Notes\n",
       "\n",
       "* scf_extract_10 is broken; Pandas can't load the version of Stat for this file\n",
       "## Contacts\n",
       "\n",
       "* **Wrangler** [Eric Busboom](mailto:eric@civicknowledge.com), [Civic Knowledge](http://civicknowledge.com)\n",
       "\n",
       "\n",
       "## References\n",
       "<ul><li> <strong><a href=\"https://www.federalreserve.gov/econres/files/scf2019s.zip#p19i6.dta\">scf_public_19</a></strong>. Survey of consumer finances, full public dataset, 2019</li><li> <strong><a href=\"https://www.federalreserve.gov/econres/files/scfp2019s.zip#rscfp2019.dta\">scf_extract_19</a></strong>. Survey of consumer finances, public extract, 2019</li><li> <strong><a href=\"https://www.federalreserve.gov/econres/files/scf2019rw1s.zip#p19_rw1.dta\">scf_weights_19</a></strong>. Survey of consumer finances, replicate weights, 2019</li><li> <strong><a href=\"https://www.federalreserve.gov/econres/files/scf2016s.zip#p16i6.dta\">scf_public_16</a></strong>. Survey of consumer finances, full public dataset, 2016</li><li> <strong><a href=\"https://www.federalreserve.gov/econres/files/scfp2016s.zip#rscfp2016.dta\">scf_extract_16</a></strong>. Survey of consumer finances, public extract, 2016</li><li> <strong><a href=\"https://www.federalreserve.gov/econres/files/scf2016rw1s.zip#p16_rw1.dta\">scf_weights_16</a></strong>. Survey of consumer finances, replicate weights, 2016</li><li> <strong><a href=\"https://www.federalreserve.gov/econres/files/scf2013s.zip#p13i6.dta\">scf_public_13</a></strong>. Survey of consumer finances, full public dataset, 2013</li><li> <strong><a href=\"https://www.federalreserve.gov/econres/files/scfp2013s.zip#rscfp2013.dta\">scf_extract_13</a></strong>. Survey of consumer finances, public extract, 2013</li><li> <strong><a href=\"https://www.federalreserve.gov/econres/files/scf2013rw1s.zip#p13_rw1.dta\">scf_weights_13</a></strong>. Survey of consumer finances, replicate weights, 2013</li><li> <strong><a href=\"https://www.federalreserve.gov/econres/files/scf2010s.zip#p10i6.dta\">scf_public_10</a></strong>. Survey of consumer finances, full public dataset, 2010</li><li> <strong><a href=\"https://www.federalreserve.gov/econres/files/scfp2010.zip#scfp2010&target_format=dta\">scf_extract_10</a></strong>. Survey of consumer finances, public extract, 2010</li><li> <strong><a href=\"https://www.federalreserve.gov/econres/files/scf2010rw1s.zip#p10_rw1.dta\">scf_weights_10</a></strong>. Survey of consumer finances, replicate weights, 2010</li><ul>\n"
      ]
     },
     "execution_count": 3,
     "metadata": {},
     "output_type": "execute_result"
    }
   ],
   "source": [
    "pkg = multi_open('federalreserve.gov-consumer_finances', print_ref=True)\n",
    "pkg"
   ]
  },
  {
   "cell_type": "code",
   "execution_count": 4,
   "metadata": {},
   "outputs": [],
   "source": [
    "w16 = pkg.reference('scf_weights_16').dataframe()\n",
    "w16.rename(columns={'Y1':'record_id'}, inplace=True)\n",
    "w16.insert(0,'year',2016)\n",
    "w16.insert(1,'case_id',w16.record_id//10)\n",
    "w16.columns = [e.lower() for e in w16.columns]\n",
    "\n",
    "w19 = pkg.reference('scf_weights_19').dataframe()\n",
    "w19.rename(columns={'y1':'record_id'}, inplace=True)\n",
    "w19.insert(0,'year',2019)\n",
    "w19.insert(1,'case_id',w19.record_id//10)\n",
    "\n",
    "w = pd.concat([w16, w19]).sort_values(['year','case_id'])\n",
    "cols = list(e for e in w.columns if not e.startswith('mm'))\n",
    "w = w[cols]\n"
   ]
  },
  {
   "cell_type": "code",
   "execution_count": 5,
   "metadata": {},
   "outputs": [
    {
     "name": "stdout",
     "output_type": "stream",
     "text": [
      "Opening:  index:federalreserve.gov-consumer_finances-2016e2019-inherit\n"
     ]
    },
    {
     "data": {
      "text/plain": [
       "((60125, 92), (60125, 1003))"
      ]
     },
     "execution_count": 5,
     "metadata": {},
     "output_type": "execute_result"
    }
   ],
   "source": [
    "pkg = multi_open('federalreserve.gov-consumer_finances-2016e2019-inherit', print_ref=True)\n",
    "df = pkg.resource('inherit_scf_16_19').dataframe()\n",
    "\n",
    "# Ensure weights has the same index as df\n",
    "w = df[['year','case_id']].merge(w, on=['year','case_id'])\n",
    "\n",
    "df.shape, w.shape"
   ]
  },
  {
   "cell_type": "code",
   "execution_count": 20,
   "metadata": {},
   "outputs": [
    {
     "data": {
      "text/plain": [
       "race\n",
       "black     20730.0\n",
       "hisp      36180.0\n",
       "other    193700.0\n",
       "white    181440.0\n",
       "dtype: float64"
      ]
     },
     "execution_count": 20,
     "metadata": {},
     "output_type": "execute_result"
    }
   ],
   "source": [
    "df[df.year==2019].groupby('race').apply(wmedian, 'networth')"
   ]
  },
  {
   "cell_type": "code",
   "execution_count": 19,
   "metadata": {},
   "outputs": [
    {
     "data": {
      "text/html": [
       "<div>\n",
       "<style scoped>\n",
       "    .dataframe tbody tr th:only-of-type {\n",
       "        vertical-align: middle;\n",
       "    }\n",
       "\n",
       "    .dataframe tbody tr th {\n",
       "        vertical-align: top;\n",
       "    }\n",
       "\n",
       "    .dataframe thead tr th {\n",
       "        text-align: left;\n",
       "    }\n",
       "\n",
       "    .dataframe thead tr:last-of-type th {\n",
       "        text-align: right;\n",
       "    }\n",
       "</style>\n",
       "<table border=\"1\" class=\"dataframe\">\n",
       "  <thead>\n",
       "    <tr>\n",
       "      <th></th>\n",
       "      <th colspan=\"5\" halign=\"left\">stat</th>\n",
       "    </tr>\n",
       "    <tr>\n",
       "      <th>implicate_id</th>\n",
       "      <th>1</th>\n",
       "      <th>2</th>\n",
       "      <th>3</th>\n",
       "      <th>4</th>\n",
       "      <th>5</th>\n",
       "    </tr>\n",
       "    <tr>\n",
       "      <th>race</th>\n",
       "      <th></th>\n",
       "      <th></th>\n",
       "      <th></th>\n",
       "      <th></th>\n",
       "      <th></th>\n",
       "    </tr>\n",
       "  </thead>\n",
       "  <tbody>\n",
       "    <tr>\n",
       "      <th>black</th>\n",
       "      <td>21500.0</td>\n",
       "      <td>19700.0</td>\n",
       "      <td>20700.0</td>\n",
       "      <td>19940.0</td>\n",
       "      <td>20910.0</td>\n",
       "    </tr>\n",
       "    <tr>\n",
       "      <th>hisp</th>\n",
       "      <td>36050.0</td>\n",
       "      <td>37420.0</td>\n",
       "      <td>37102.0</td>\n",
       "      <td>35350.0</td>\n",
       "      <td>35660.0</td>\n",
       "    </tr>\n",
       "    <tr>\n",
       "      <th>other</th>\n",
       "      <td>177630.0</td>\n",
       "      <td>211000.0</td>\n",
       "      <td>193700.0</td>\n",
       "      <td>180900.0</td>\n",
       "      <td>194700.0</td>\n",
       "    </tr>\n",
       "    <tr>\n",
       "      <th>white</th>\n",
       "      <td>181200.0</td>\n",
       "      <td>184390.0</td>\n",
       "      <td>179300.0</td>\n",
       "      <td>180530.0</td>\n",
       "      <td>181800.0</td>\n",
       "    </tr>\n",
       "  </tbody>\n",
       "</table>\n",
       "</div>"
      ],
      "text/plain": [
       "                  stat                                        \n",
       "implicate_id         1         2         3         4         5\n",
       "race                                                          \n",
       "black          21500.0   19700.0   20700.0   19940.0   20910.0\n",
       "hisp           36050.0   37420.0   37102.0   35350.0   35660.0\n",
       "other         177630.0  211000.0  193700.0  180900.0  194700.0\n",
       "white         181200.0  184390.0  179300.0  180530.0  181800.0"
      ]
     },
     "execution_count": 19,
     "metadata": {},
     "output_type": "execute_result"
    }
   ],
   "source": [
    "def implicate_agg(df, cat_cols, stat_col, agg_f, ret_impl=False):\n",
    "    '''Compute a statistic, and the standard error for an aggregation over\n",
    "    dataset groups, using the implicates'''\n",
    "    \n",
    "    if not isinstance(cat_cols, (list, tuple)):\n",
    "        cat_cols = [cat_cols]\n",
    "    \n",
    "    \n",
    "    impl = df.groupby(cat_cols+['implicate_id']).apply(agg_f, stat_col)\\\n",
    "        .to_frame('stat').unstack()\n",
    "    \n",
    "    if ret_impl:\n",
    "        return impl\n",
    "    \n",
    "    impl_se = impl.std(axis=1).to_frame('std')\n",
    "    stat = impl.mean(axis=1)\n",
    "    t =  pd.concat([stat, impl_se], axis=1)\n",
    "    t.columns = ['stat', 'se']\n",
    "    return t\n",
    "   \n",
    " \n",
    "\n",
    "stat = implicate_agg(df[df.year==2019], 'race', 'networth', wmedian, ret_impl=True)   \n",
    "stat"
   ]
  },
  {
   "cell_type": "code",
   "execution_count": 12,
   "metadata": {},
   "outputs": [
    {
     "data": {
      "text/html": [
       "<div>\n",
       "<style scoped>\n",
       "    .dataframe tbody tr th:only-of-type {\n",
       "        vertical-align: middle;\n",
       "    }\n",
       "\n",
       "    .dataframe tbody tr th {\n",
       "        vertical-align: top;\n",
       "    }\n",
       "\n",
       "    .dataframe thead th {\n",
       "        text-align: right;\n",
       "    }\n",
       "</style>\n",
       "<table border=\"1\" class=\"dataframe\">\n",
       "  <thead>\n",
       "    <tr style=\"text-align: right;\">\n",
       "      <th></th>\n",
       "      <th>wt0</th>\n",
       "      <th>wt1b1</th>\n",
       "      <th>wt1b2</th>\n",
       "    </tr>\n",
       "    <tr>\n",
       "      <th>race</th>\n",
       "      <th></th>\n",
       "      <th></th>\n",
       "      <th></th>\n",
       "    </tr>\n",
       "  </thead>\n",
       "  <tbody>\n",
       "    <tr>\n",
       "      <th>black</th>\n",
       "      <td>18880.000000</td>\n",
       "      <td>21484.163150</td>\n",
       "      <td>17830.791842</td>\n",
       "    </tr>\n",
       "    <tr>\n",
       "      <th>hisp</th>\n",
       "      <td>27014.739803</td>\n",
       "      <td>28769.634318</td>\n",
       "      <td>25900.000000</td>\n",
       "    </tr>\n",
       "    <tr>\n",
       "      <th>other</th>\n",
       "      <td>158500.000000</td>\n",
       "      <td>124863.403657</td>\n",
       "      <td>124180.000000</td>\n",
       "    </tr>\n",
       "    <tr>\n",
       "      <th>white</th>\n",
       "      <td>178120.000000</td>\n",
       "      <td>180170.000000</td>\n",
       "      <td>168400.000000</td>\n",
       "    </tr>\n",
       "  </tbody>\n",
       "</table>\n",
       "</div>"
      ],
      "text/plain": [
       "                 wt0          wt1b1          wt1b2\n",
       "race                                              \n",
       "black   18880.000000   21484.163150   17830.791842\n",
       "hisp    27014.739803   28769.634318   25900.000000\n",
       "other  158500.000000  124863.403657  124180.000000\n",
       "white  178120.000000  180170.000000  168400.000000"
      ]
     },
     "execution_count": 12,
     "metadata": {},
     "output_type": "execute_result"
    }
   ],
   "source": [
    "def replicate_agg(df, w, cat_cols, stat_col, agg_f, n_replicates=None):\n",
    "    \n",
    "    if not isinstance(cat_cols, (list, tuple)):\n",
    "        cat_cols = [cat_cols]\n",
    "    \n",
    "    t = df[['year','case_id',stat_col,'wt0']+cat_cols].merge(w, on=['year','case_id'])\n",
    "    wt_cols = [c for c in t.columns if c.startswith('wt')]\n",
    "\n",
    "    if n_replicates:\n",
    "        wt_cols = wt_cols[:n_replicates]\n",
    "\n",
    "    f = [t.groupby('race').apply(wmedian, stat_col, wtc).to_frame(wtc) for wtc in wt_cols]\n",
    "    \n",
    "    repl = pd.concat(f,axis=1)\n",
    "    repl_se = repl.std(axis=1)\n",
    "    repl_se\n",
    "    \n",
    "    return repl\n",
    "\n",
    "repl = replicate_agg(df, w, 'race', 'networth', wmedian, n_replicates=3) \n",
    "repl"
   ]
  },
  {
   "cell_type": "code",
   "execution_count": 13,
   "metadata": {},
   "outputs": [
    {
     "name": "stdout",
     "output_type": "stream",
     "text": [
      "CPU times: user 9min 29s, sys: 6min 20s, total: 15min 49s\n",
      "Wall time: 15min 52s\n"
     ]
    },
    {
     "data": {
      "text/html": [
       "<div>\n",
       "<style scoped>\n",
       "    .dataframe tbody tr th:only-of-type {\n",
       "        vertical-align: middle;\n",
       "    }\n",
       "\n",
       "    .dataframe tbody tr th {\n",
       "        vertical-align: top;\n",
       "    }\n",
       "\n",
       "    .dataframe thead th {\n",
       "        text-align: right;\n",
       "    }\n",
       "</style>\n",
       "<table border=\"1\" class=\"dataframe\">\n",
       "  <thead>\n",
       "    <tr style=\"text-align: right;\">\n",
       "      <th></th>\n",
       "      <th>stat</th>\n",
       "      <th>se</th>\n",
       "    </tr>\n",
       "    <tr>\n",
       "      <th>race</th>\n",
       "      <th></th>\n",
       "      <th></th>\n",
       "    </tr>\n",
       "  </thead>\n",
       "  <tbody>\n",
       "    <tr>\n",
       "      <th>black</th>\n",
       "      <td>17178.765077</td>\n",
       "      <td>2449.275484</td>\n",
       "    </tr>\n",
       "    <tr>\n",
       "      <th>hisp</th>\n",
       "      <td>22337.721097</td>\n",
       "      <td>2914.472078</td>\n",
       "    </tr>\n",
       "    <tr>\n",
       "      <th>other</th>\n",
       "      <td>105985.940705</td>\n",
       "      <td>21318.483966</td>\n",
       "    </tr>\n",
       "    <tr>\n",
       "      <th>white</th>\n",
       "      <td>170014.535466</td>\n",
       "      <td>7824.842774</td>\n",
       "    </tr>\n",
       "  </tbody>\n",
       "</table>\n",
       "</div>"
      ],
      "text/plain": [
       "                stat            se\n",
       "race                              \n",
       "black   17178.765077   2449.275484\n",
       "hisp    22337.721097   2914.472078\n",
       "other  105985.940705  21318.483966\n",
       "white  170014.535466   7824.842774"
      ]
     },
     "execution_count": 13,
     "metadata": {},
     "output_type": "execute_result"
    }
   ],
   "source": [
    "\n",
    "def implrepl_agg(df, w, cat_cols, stat_col, agg_f, n_replicates=None):\n",
    "    \n",
    "    impl = implicate_agg(df, cat_cols, stat_col, wmedian, ret_impl=True)\n",
    "    \n",
    "    repl = replicate_agg(df, w, cat_cols, stat_col, wmedian, n_replicates=n_replicates) \n",
    "\n",
    "    stat = pd.concat([impl, repl], axis=1).mean(axis=1)\n",
    "    se = np.sqrt(6/5)*impl.std(axis=1) + repl.std(axis=1)\n",
    "\n",
    "    t =  pd.concat([stat, se], axis=1)\n",
    "    t.columns = ['stat', 'se']\n",
    "    return t\n",
    "    \n",
    "    \n",
    "%time implrepl_agg(df[df.year==2016], w, 'race', 'networth', wmedian, n_replicates=500) \n",
    "    "
   ]
  },
  {
   "cell_type": "code",
   "execution_count": 14,
   "metadata": {},
   "outputs": [
    {
     "name": "stdout",
     "output_type": "stream",
     "text": [
      "CPU times: user 18min 46s, sys: 13min 5s, total: 31min 51s\n",
      "Wall time: 31min 57s\n"
     ]
    },
    {
     "data": {
      "text/html": [
       "<div>\n",
       "<style scoped>\n",
       "    .dataframe tbody tr th:only-of-type {\n",
       "        vertical-align: middle;\n",
       "    }\n",
       "\n",
       "    .dataframe tbody tr th {\n",
       "        vertical-align: top;\n",
       "    }\n",
       "\n",
       "    .dataframe thead th {\n",
       "        text-align: right;\n",
       "    }\n",
       "</style>\n",
       "<table border=\"1\" class=\"dataframe\">\n",
       "  <thead>\n",
       "    <tr style=\"text-align: right;\">\n",
       "      <th></th>\n",
       "      <th>stat</th>\n",
       "      <th>se</th>\n",
       "    </tr>\n",
       "    <tr>\n",
       "      <th>race</th>\n",
       "      <th></th>\n",
       "      <th></th>\n",
       "    </tr>\n",
       "  </thead>\n",
       "  <tbody>\n",
       "    <tr>\n",
       "      <th>black</th>\n",
       "      <td>17151.080162</td>\n",
       "      <td>2485.379158</td>\n",
       "    </tr>\n",
       "    <tr>\n",
       "      <th>hisp</th>\n",
       "      <td>22329.504278</td>\n",
       "      <td>2885.440370</td>\n",
       "    </tr>\n",
       "    <tr>\n",
       "      <th>other</th>\n",
       "      <td>106008.934459</td>\n",
       "      <td>20898.529432</td>\n",
       "    </tr>\n",
       "    <tr>\n",
       "      <th>white</th>\n",
       "      <td>169977.597403</td>\n",
       "      <td>7909.279460</td>\n",
       "    </tr>\n",
       "  </tbody>\n",
       "</table>\n",
       "</div>"
      ],
      "text/plain": [
       "                stat            se\n",
       "race                              \n",
       "black   17151.080162   2485.379158\n",
       "hisp    22329.504278   2885.440370\n",
       "other  106008.934459  20898.529432\n",
       "white  169977.597403   7909.279460"
      ]
     },
     "execution_count": 14,
     "metadata": {},
     "output_type": "execute_result"
    }
   ],
   "source": [
    "    \n",
    "%time implrepl_agg(df[df.year==2016], w, 'race', 'networth', wmedian) \n",
    "\n",
    "    "
   ]
  },
  {
   "cell_type": "code",
   "execution_count": 15,
   "metadata": {},
   "outputs": [
    {
     "name": "stdout",
     "output_type": "stream",
     "text": [
      "CPU times: user 17min 8s, sys: 12min 7s, total: 29min 15s\n",
      "Wall time: 29min 22s\n"
     ]
    },
    {
     "data": {
      "text/html": [
       "<div>\n",
       "<style scoped>\n",
       "    .dataframe tbody tr th:only-of-type {\n",
       "        vertical-align: middle;\n",
       "    }\n",
       "\n",
       "    .dataframe tbody tr th {\n",
       "        vertical-align: top;\n",
       "    }\n",
       "\n",
       "    .dataframe thead th {\n",
       "        text-align: right;\n",
       "    }\n",
       "</style>\n",
       "<table border=\"1\" class=\"dataframe\">\n",
       "  <thead>\n",
       "    <tr style=\"text-align: right;\">\n",
       "      <th></th>\n",
       "      <th>stat</th>\n",
       "      <th>se</th>\n",
       "    </tr>\n",
       "    <tr>\n",
       "      <th>race</th>\n",
       "      <th></th>\n",
       "      <th></th>\n",
       "    </tr>\n",
       "  </thead>\n",
       "  <tbody>\n",
       "    <tr>\n",
       "      <th>black</th>\n",
       "      <td>20741.077612</td>\n",
       "      <td>4122.443693</td>\n",
       "    </tr>\n",
       "    <tr>\n",
       "      <th>hisp</th>\n",
       "      <td>35395.004975</td>\n",
       "      <td>5399.722792</td>\n",
       "    </tr>\n",
       "    <tr>\n",
       "      <th>other</th>\n",
       "      <td>183131.781095</td>\n",
       "      <td>37249.183097</td>\n",
       "    </tr>\n",
       "    <tr>\n",
       "      <th>white</th>\n",
       "      <td>178450.483582</td>\n",
       "      <td>7367.481173</td>\n",
       "    </tr>\n",
       "  </tbody>\n",
       "</table>\n",
       "</div>"
      ],
      "text/plain": [
       "                stat            se\n",
       "race                              \n",
       "black   20741.077612   4122.443693\n",
       "hisp    35395.004975   5399.722792\n",
       "other  183131.781095  37249.183097\n",
       "white  178450.483582   7367.481173"
      ]
     },
     "execution_count": 15,
     "metadata": {},
     "output_type": "execute_result"
    }
   ],
   "source": [
    "    \n",
    "%time implrepl_agg(df[df.year==2019], w, 'race', 'networth', wmedian) \n",
    "\n",
    " "
   ]
  },
  {
   "cell_type": "code",
   "execution_count": 16,
   "metadata": {},
   "outputs": [
    {
     "name": "stdout",
     "output_type": "stream",
     "text": [
      "CPU times: user 35min 59s, sys: 25min 4s, total: 1h 1min 4s\n",
      "Wall time: 1h 1min 11s\n"
     ]
    },
    {
     "data": {
      "text/html": [
       "<div>\n",
       "<style scoped>\n",
       "    .dataframe tbody tr th:only-of-type {\n",
       "        vertical-align: middle;\n",
       "    }\n",
       "\n",
       "    .dataframe tbody tr th {\n",
       "        vertical-align: top;\n",
       "    }\n",
       "\n",
       "    .dataframe thead th {\n",
       "        text-align: right;\n",
       "    }\n",
       "</style>\n",
       "<table border=\"1\" class=\"dataframe\">\n",
       "  <thead>\n",
       "    <tr style=\"text-align: right;\">\n",
       "      <th></th>\n",
       "      <th>stat</th>\n",
       "      <th>se</th>\n",
       "    </tr>\n",
       "    <tr>\n",
       "      <th>race</th>\n",
       "      <th></th>\n",
       "      <th></th>\n",
       "    </tr>\n",
       "  </thead>\n",
       "  <tbody>\n",
       "    <tr>\n",
       "      <th>black</th>\n",
       "      <td>18504.042095</td>\n",
       "      <td>2416.606469</td>\n",
       "    </tr>\n",
       "    <tr>\n",
       "      <th>hisp</th>\n",
       "      <td>26704.526159</td>\n",
       "      <td>3350.385744</td>\n",
       "    </tr>\n",
       "    <tr>\n",
       "      <th>other</th>\n",
       "      <td>148418.565094</td>\n",
       "      <td>23072.671597</td>\n",
       "    </tr>\n",
       "    <tr>\n",
       "      <th>white</th>\n",
       "      <td>174556.602504</td>\n",
       "      <td>5900.922416</td>\n",
       "    </tr>\n",
       "  </tbody>\n",
       "</table>\n",
       "</div>"
      ],
      "text/plain": [
       "                stat            se\n",
       "race                              \n",
       "black   18504.042095   2416.606469\n",
       "hisp    26704.526159   3350.385744\n",
       "other  148418.565094  23072.671597\n",
       "white  174556.602504   5900.922416"
      ]
     },
     "execution_count": 16,
     "metadata": {},
     "output_type": "execute_result"
    }
   ],
   "source": [
    "    \n",
    "%time implrepl_agg(df, w, 'race', 'networth', wmedian) \n",
    "\n",
    " "
   ]
  },
  {
   "cell_type": "code",
   "execution_count": null,
   "metadata": {},
   "outputs": [],
   "source": []
  }
 ],
 "metadata": {
  "kernelspec": {
   "display_name": "Python 3",
   "language": "python",
   "name": "python3"
  },
  "language_info": {
   "codemirror_mode": {
    "name": "ipython",
    "version": 3
   },
   "file_extension": ".py",
   "mimetype": "text/x-python",
   "name": "python",
   "nbconvert_exporter": "python",
   "pygments_lexer": "ipython3",
   "version": "3.7.6"
  }
 },
 "nbformat": 4,
 "nbformat_minor": 4
}
