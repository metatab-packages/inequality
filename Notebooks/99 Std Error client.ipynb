{
 "cells": [
  {
   "cell_type": "code",
   "execution_count": 1,
   "metadata": {},
   "outputs": [],
   "source": [
    "import pandas as pd\n",
    "import numpy as np\n",
    "import metapack as mp\n",
    "from pathlib import Path\n",
    "from statsmodels.formula.api import ols\n",
    "import seaborn as sns\n",
    "import matplotlib.pyplot as plt\n",
    "from sdipylib.plot import  source_attribution\n",
    "\n",
    "# /Users/eric/opt/anaconda3/envs/data/lib/python3.7/site-packages/pandas/plotting/_tools.py:307: MatplotlibDeprecationWarning: \n",
    "# The rowNum attribute was deprecated in Matplotlib 3.2 and will be removed two minor releases later. Use ax.get_subplotspec().rowspan.start instead.\n",
    "#   layout[ax.rowNum, ax.colNum] = ax.get_visible()\n",
    "import warnings\n",
    "warnings.simplefilter(\"ignore\")\n",
    "\n",
    "large = 22; med = 16; small = 12\n",
    "params = {'axes.titlesize': large,\n",
    "          'legend.fontsize': med,\n",
    "          'figure.figsize': (16, 10),\n",
    "          'axes.labelsize': med,\n",
    "          'axes.titlesize': med,\n",
    "          'xtick.labelsize': med,\n",
    "          'ytick.labelsize': med,\n",
    "          'figure.titlesize': large}\n",
    "plt.rcParams.update(params)\n",
    "plt.style.use('seaborn-whitegrid')\n",
    "sns.set_style(\"white\")\n",
    "%matplotlib inline\n",
    "\n",
    "%run weights.py\n",
    "%run lib.py \n",
    "\n",
    "source = \"Survey of Consumer Finances, 2016 and 2019 pooled\"\n"
   ]
  },
  {
   "cell_type": "code",
   "execution_count": 2,
   "metadata": {},
   "outputs": [
    {
     "data": {
      "text/html": [
       "<div>\n",
       "<style scoped>\n",
       "    .dataframe tbody tr th:only-of-type {\n",
       "        vertical-align: middle;\n",
       "    }\n",
       "\n",
       "    .dataframe tbody tr th {\n",
       "        vertical-align: top;\n",
       "    }\n",
       "\n",
       "    .dataframe thead th {\n",
       "        text-align: right;\n",
       "    }\n",
       "</style>\n",
       "<table border=\"1\" class=\"dataframe\">\n",
       "  <thead>\n",
       "    <tr style=\"text-align: right;\">\n",
       "      <th></th>\n",
       "      <th>N</th>\n",
       "      <th>ncw</th>\n",
       "      <th>m</th>\n",
       "      <th>sd</th>\n",
       "      <th>se</th>\n",
       "    </tr>\n",
       "  </thead>\n",
       "  <tbody>\n",
       "    <tr>\n",
       "      <th>0</th>\n",
       "      <td>100000</td>\n",
       "      <td>100</td>\n",
       "      <td>116920.625506</td>\n",
       "      <td>3415.772612</td>\n",
       "      <td>341.577261</td>\n",
       "    </tr>\n",
       "    <tr>\n",
       "      <th>1</th>\n",
       "      <td>120000</td>\n",
       "      <td>100</td>\n",
       "      <td>117527.988415</td>\n",
       "      <td>3111.236562</td>\n",
       "      <td>311.123656</td>\n",
       "    </tr>\n",
       "    <tr>\n",
       "      <th>2</th>\n",
       "      <td>144000</td>\n",
       "      <td>100</td>\n",
       "      <td>117027.459024</td>\n",
       "      <td>3501.271561</td>\n",
       "      <td>350.127156</td>\n",
       "    </tr>\n",
       "    <tr>\n",
       "      <th>3</th>\n",
       "      <td>172800</td>\n",
       "      <td>100</td>\n",
       "      <td>116982.996785</td>\n",
       "      <td>2708.334458</td>\n",
       "      <td>270.833446</td>\n",
       "    </tr>\n",
       "    <tr>\n",
       "      <th>4</th>\n",
       "      <td>207360</td>\n",
       "      <td>100</td>\n",
       "      <td>116911.940507</td>\n",
       "      <td>3228.838009</td>\n",
       "      <td>322.883801</td>\n",
       "    </tr>\n",
       "    <tr>\n",
       "      <th>...</th>\n",
       "      <td>...</td>\n",
       "      <td>...</td>\n",
       "      <td>...</td>\n",
       "      <td>...</td>\n",
       "      <td>...</td>\n",
       "    </tr>\n",
       "    <tr>\n",
       "      <th>164</th>\n",
       "      <td>429981</td>\n",
       "      <td>891</td>\n",
       "      <td>117060.721991</td>\n",
       "      <td>3024.506787</td>\n",
       "      <td>101.324790</td>\n",
       "    </tr>\n",
       "    <tr>\n",
       "      <th>165</th>\n",
       "      <td>515978</td>\n",
       "      <td>891</td>\n",
       "      <td>116905.051137</td>\n",
       "      <td>2880.276166</td>\n",
       "      <td>96.492882</td>\n",
       "    </tr>\n",
       "    <tr>\n",
       "      <th>166</th>\n",
       "      <td>619173</td>\n",
       "      <td>891</td>\n",
       "      <td>117072.332383</td>\n",
       "      <td>2946.108815</td>\n",
       "      <td>98.698359</td>\n",
       "    </tr>\n",
       "    <tr>\n",
       "      <th>167</th>\n",
       "      <td>743008</td>\n",
       "      <td>891</td>\n",
       "      <td>117211.913970</td>\n",
       "      <td>2995.697018</td>\n",
       "      <td>100.359626</td>\n",
       "    </tr>\n",
       "    <tr>\n",
       "      <th>168</th>\n",
       "      <td>891610</td>\n",
       "      <td>891</td>\n",
       "      <td>117124.905502</td>\n",
       "      <td>2966.818398</td>\n",
       "      <td>99.392156</td>\n",
       "    </tr>\n",
       "  </tbody>\n",
       "</table>\n",
       "<p>169 rows × 5 columns</p>\n",
       "</div>"
      ],
      "text/plain": [
       "          N  ncw              m           sd          se\n",
       "0    100000  100  116920.625506  3415.772612  341.577261\n",
       "1    120000  100  117527.988415  3111.236562  311.123656\n",
       "2    144000  100  117027.459024  3501.271561  350.127156\n",
       "3    172800  100  116982.996785  2708.334458  270.833446\n",
       "4    207360  100  116911.940507  3228.838009  322.883801\n",
       "..      ...  ...            ...          ...         ...\n",
       "164  429981  891  117060.721991  3024.506787  101.324790\n",
       "165  515978  891  116905.051137  2880.276166   96.492882\n",
       "166  619173  891  117072.332383  2946.108815   98.698359\n",
       "167  743008  891  117211.913970  2995.697018  100.359626\n",
       "168  891610  891  117124.905502  2966.818398   99.392156\n",
       "\n",
       "[169 rows x 5 columns]"
      ]
     },
     "execution_count": 2,
     "metadata": {},
     "output_type": "execute_result"
    }
   ],
   "source": [
    "import pickle\n",
    "with open('series.pickle', 'rb') as f:\n",
    "    # Pickle the 'data' dictionary using the highest protocol available.\n",
    "    series = pickle.load(f)\n",
    "    \n",
    "s = pd.DataFrame([ (N, ncw, v.mean(), v.std(), v.std()/np.sqrt(len(v))) for  N, ncw, v in series ], columns = 'N ncw m sd se'.split())\n",
    "s"
   ]
  },
  {
   "cell_type": "code",
   "execution_count": 3,
   "metadata": {},
   "outputs": [
    {
     "data": {
      "text/html": [
       "<div>\n",
       "<style scoped>\n",
       "    .dataframe tbody tr th:only-of-type {\n",
       "        vertical-align: middle;\n",
       "    }\n",
       "\n",
       "    .dataframe tbody tr th {\n",
       "        vertical-align: top;\n",
       "    }\n",
       "\n",
       "    .dataframe thead th {\n",
       "        text-align: right;\n",
       "    }\n",
       "</style>\n",
       "<table border=\"1\" class=\"dataframe\">\n",
       "  <thead>\n",
       "    <tr style=\"text-align: right;\">\n",
       "      <th></th>\n",
       "      <th>N</th>\n",
       "      <th>ncw</th>\n",
       "      <th>m</th>\n",
       "      <th>sd</th>\n",
       "      <th>se</th>\n",
       "    </tr>\n",
       "  </thead>\n",
       "  <tbody>\n",
       "    <tr>\n",
       "      <th>count</th>\n",
       "      <td>169.000000</td>\n",
       "      <td>169.000000</td>\n",
       "      <td>169.000000</td>\n",
       "      <td>169.000000</td>\n",
       "      <td>169.000000</td>\n",
       "    </tr>\n",
       "    <tr>\n",
       "      <th>mean</th>\n",
       "      <td>373050.615385</td>\n",
       "      <td>372.615385</td>\n",
       "      <td>117051.712885</td>\n",
       "      <td>3012.457628</td>\n",
       "      <td>185.439590</td>\n",
       "    </tr>\n",
       "    <tr>\n",
       "      <th>std</th>\n",
       "      <td>244068.041430</td>\n",
       "      <td>244.009636</td>\n",
       "      <td>195.210571</td>\n",
       "      <td>147.488367</td>\n",
       "      <td>65.876975</td>\n",
       "    </tr>\n",
       "    <tr>\n",
       "      <th>min</th>\n",
       "      <td>100000.000000</td>\n",
       "      <td>100.000000</td>\n",
       "      <td>116463.232831</td>\n",
       "      <td>2471.269953</td>\n",
       "      <td>96.492882</td>\n",
       "    </tr>\n",
       "    <tr>\n",
       "      <th>25%</th>\n",
       "      <td>172800.000000</td>\n",
       "      <td>172.000000</td>\n",
       "      <td>116935.804908</td>\n",
       "      <td>2926.456521</td>\n",
       "      <td>129.375074</td>\n",
       "    </tr>\n",
       "    <tr>\n",
       "      <th>50%</th>\n",
       "      <td>298598.000000</td>\n",
       "      <td>298.000000</td>\n",
       "      <td>117055.912263</td>\n",
       "      <td>3008.456475</td>\n",
       "      <td>175.528615</td>\n",
       "    </tr>\n",
       "    <tr>\n",
       "      <th>75%</th>\n",
       "      <td>515978.000000</td>\n",
       "      <td>515.000000</td>\n",
       "      <td>117180.739729</td>\n",
       "      <td>3101.375610</td>\n",
       "      <td>238.147255</td>\n",
       "    </tr>\n",
       "    <tr>\n",
       "      <th>max</th>\n",
       "      <td>891610.000000</td>\n",
       "      <td>891.000000</td>\n",
       "      <td>117586.350591</td>\n",
       "      <td>3503.222728</td>\n",
       "      <td>350.127156</td>\n",
       "    </tr>\n",
       "  </tbody>\n",
       "</table>\n",
       "</div>"
      ],
      "text/plain": [
       "                   N         ncw              m           sd          se\n",
       "count     169.000000  169.000000     169.000000   169.000000  169.000000\n",
       "mean   373050.615385  372.615385  117051.712885  3012.457628  185.439590\n",
       "std    244068.041430  244.009636     195.210571   147.488367   65.876975\n",
       "min    100000.000000  100.000000  116463.232831  2471.269953   96.492882\n",
       "25%    172800.000000  172.000000  116935.804908  2926.456521  129.375074\n",
       "50%    298598.000000  298.000000  117055.912263  3008.456475  175.528615\n",
       "75%    515978.000000  515.000000  117180.739729  3101.375610  238.147255\n",
       "max    891610.000000  891.000000  117586.350591  3503.222728  350.127156"
      ]
     },
     "execution_count": 3,
     "metadata": {},
     "output_type": "execute_result"
    }
   ],
   "source": [
    "s.describe()"
   ]
  },
  {
   "cell_type": "code",
   "execution_count": 4,
   "metadata": {},
   "outputs": [
    {
     "data": {
      "text/html": [
       "<div>\n",
       "<style scoped>\n",
       "    .dataframe tbody tr th:only-of-type {\n",
       "        vertical-align: middle;\n",
       "    }\n",
       "\n",
       "    .dataframe tbody tr th {\n",
       "        vertical-align: top;\n",
       "    }\n",
       "\n",
       "    .dataframe thead th {\n",
       "        text-align: right;\n",
       "    }\n",
       "</style>\n",
       "<table border=\"1\" class=\"dataframe\">\n",
       "  <thead>\n",
       "    <tr style=\"text-align: right;\">\n",
       "      <th></th>\n",
       "      <th>m</th>\n",
       "      <th>se</th>\n",
       "    </tr>\n",
       "  </thead>\n",
       "  <tbody>\n",
       "    <tr>\n",
       "      <th>count</th>\n",
       "      <td>13.000000</td>\n",
       "      <td>13.000000</td>\n",
       "    </tr>\n",
       "    <tr>\n",
       "      <th>mean</th>\n",
       "      <td>117051.712885</td>\n",
       "      <td>185.439590</td>\n",
       "    </tr>\n",
       "    <tr>\n",
       "      <th>std</th>\n",
       "      <td>39.954242</td>\n",
       "      <td>67.451645</td>\n",
       "    </tr>\n",
       "    <tr>\n",
       "      <th>min</th>\n",
       "      <td>116994.720819</td>\n",
       "      <td>100.333202</td>\n",
       "    </tr>\n",
       "    <tr>\n",
       "      <th>25%</th>\n",
       "      <td>117031.125826</td>\n",
       "      <td>132.214117</td>\n",
       "    </tr>\n",
       "    <tr>\n",
       "      <th>50%</th>\n",
       "      <td>117039.740683</td>\n",
       "      <td>174.900881</td>\n",
       "    </tr>\n",
       "    <tr>\n",
       "      <th>75%</th>\n",
       "      <td>117074.996193</td>\n",
       "      <td>233.228238</td>\n",
       "    </tr>\n",
       "    <tr>\n",
       "      <th>max</th>\n",
       "      <td>117129.636141</td>\n",
       "      <td>311.607428</td>\n",
       "    </tr>\n",
       "  </tbody>\n",
       "</table>\n",
       "</div>"
      ],
      "text/plain": [
       "                   m          se\n",
       "count      13.000000   13.000000\n",
       "mean   117051.712885  185.439590\n",
       "std        39.954242   67.451645\n",
       "min    116994.720819  100.333202\n",
       "25%    117031.125826  132.214117\n",
       "50%    117039.740683  174.900881\n",
       "75%    117074.996193  233.228238\n",
       "max    117129.636141  311.607428"
      ]
     },
     "execution_count": 4,
     "metadata": {},
     "output_type": "execute_result"
    }
   ],
   "source": [
    "s.groupby('ncw').mean()[['m','se']].describe()"
   ]
  },
  {
   "cell_type": "code",
   "execution_count": 5,
   "metadata": {},
   "outputs": [
    {
     "data": {
      "text/plain": [
       "<matplotlib.axes._subplots.AxesSubplot at 0x7fbd08966cd0>"
      ]
     },
     "execution_count": 5,
     "metadata": {},
     "output_type": "execute_result"
    },
    {
     "data": {
      "image/png": "[encoded data removed]",
      "text/plain": [
       "<Figure size 432x288 with 1 Axes>"
      ]
     },
     "metadata": {
      "needs_background": "light"
     },
     "output_type": "display_data"
    }
   ],
   "source": [
    "s.sort_values('N').plot.scatter('N','m')"
   ]
  },
  {
   "cell_type": "code",
   "execution_count": 6,
   "metadata": {},
   "outputs": [
    {
     "data": {
      "text/plain": [
       "<matplotlib.axes._subplots.AxesSubplot at 0x7fbd40ffa550>"
      ]
     },
     "execution_count": 6,
     "metadata": {},
     "output_type": "execute_result"
    },
    {
     "data": {
      "image/png": "[encoded data removed]",
      "text/plain": [
       "<Figure size 432x288 with 1 Axes>"
      ]
     },
     "metadata": {
      "needs_background": "light"
     },
     "output_type": "display_data"
    }
   ],
   "source": [
    "s.sort_values('N').plot.scatter('N','se')"
   ]
  },
  {
   "cell_type": "code",
   "execution_count": 11,
   "metadata": {},
   "outputs": [
    {
     "data": {
      "text/plain": [
       "<matplotlib.axes._subplots.AxesSubplot at 0x7fbd20e9a250>"
      ]
     },
     "execution_count": 11,
     "metadata": {},
     "output_type": "execute_result"
    },
    {
     "data": {
      "image/png": "[encoded data removed]",
      "text/plain": [
       "<Figure size 432x288 with 1 Axes>"
      ]
     },
     "metadata": {
      "needs_background": "light"
     },
     "output_type": "display_data"
    }
   ],
   "source": [
    "s.sort_values('ncw').plot.scatter('ncw','se')"
   ]
  },
  {
   "cell_type": "code",
   "execution_count": 10,
   "metadata": {},
   "outputs": [
    {
     "data": {
      "text/plain": [
       "<matplotlib.axes._subplots.AxesSubplot at 0x7fbd0899d3d0>"
      ]
     },
     "execution_count": 10,
     "metadata": {},
     "output_type": "execute_result"
    },
    {
     "data": {
      "image/png": "[encoded data removed]",
      "text/plain": [
       "<Figure size 432x288 with 1 Axes>"
      ]
     },
     "metadata": {
      "needs_background": "light"
     },
     "output_type": "display_data"
    }
   ],
   "source": [
    "s.groupby('ncw').std().reset_index().plot.scatter('ncw','se')"
   ]
  },
  {
   "cell_type": "code",
   "execution_count": 9,
   "metadata": {},
   "outputs": [
    {
     "data": {
      "text/plain": [
       "<matplotlib.axes._subplots.AxesSubplot at 0x7fbd10b3fb10>"
      ]
     },
     "execution_count": 9,
     "metadata": {},
     "output_type": "execute_result"
    },
    {
     "data": {
      "image/png": "[encoded data removed]",
      "text/plain": [
       "<Figure size 432x288 with 1 Axes>"
      ]
     },
     "metadata": {
      "needs_background": "light"
     },
     "output_type": "display_data"
    }
   ],
   "source": [
    "s.groupby('N').std().reset_index().plot.scatter('N','sd')"
   ]
  },
  {
   "cell_type": "code",
   "execution_count": null,
   "metadata": {},
   "outputs": [],
   "source": []
  },
  {
   "cell_type": "code",
   "execution_count": null,
   "metadata": {},
   "outputs": [],
   "source": []
  }
 ],
 "metadata": {
  "kernelspec": {
   "display_name": "Python 3",
   "language": "python",
   "name": "python3"
  },
  "language_info": {
   "codemirror_mode": {
    "name": "ipython",
    "version": 3
   },
   "file_extension": ".py",
   "mimetype": "text/x-python",
   "name": "python",
   "nbconvert_exporter": "python",
   "pygments_lexer": "ipython3",
   "version": "3.7.6"
  }
 },
 "nbformat": 4,
 "nbformat_minor": 4
}
