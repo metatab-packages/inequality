{
 "cells": [
  {
   "cell_type": "code",
   "execution_count": 1,
   "metadata": {},
   "outputs": [],
   "source": [
    "\n",
    "import pandas as pd\n",
    "import numpy as np\n",
    "import metapack as mp\n",
    "from pathlib import Path\n",
    "from statsmodels.formula.api import ols\n",
    "import seaborn as sns\n",
    "import matplotlib.pyplot as plt\n",
    "from sdipylib.plot import  source_attribution\n",
    "\n",
    "# /Users/eric/opt/anaconda3/envs/data/lib/python3.7/site-packages/pandas/plotting/_tools.py:307: MatplotlibDeprecationWarning: \n",
    "# The rowNum attribute was deprecated in Matplotlib 3.2 and will be removed two minor releases later. Use ax.get_subplotspec().rowspan.start instead.\n",
    "#   layout[ax.rowNum, ax.colNum] = ax.get_visible()\n",
    "import warnings\n",
    "warnings.simplefilter(\"ignore\")\n",
    "\n",
    "large = 22; med = 16; small = 12\n",
    "params = {'axes.titlesize': large,\n",
    "          'legend.fontsize': med,\n",
    "          'figure.figsize': (16, 10),\n",
    "          'axes.labelsize': med,\n",
    "          'axes.titlesize': med,\n",
    "          'xtick.labelsize': med,\n",
    "          'ytick.labelsize': med,\n",
    "          'figure.titlesize': large}\n",
    "plt.rcParams.update(params)\n",
    "plt.style.use('seaborn-whitegrid')\n",
    "sns.set_style(\"white\")\n",
    "%matplotlib inline\n",
    "\n",
    "%run weights.py\n",
    "%run lib.py \n",
    "\n",
    "source = \"Survey of Consumer Finances, 2016 and 2019 pooled\"\n",
    "\n",
    "\n",
    "\n",
    "    "
   ]
  },
  {
   "cell_type": "code",
   "execution_count": 2,
   "metadata": {},
   "outputs": [
    {
     "name": "stdout",
     "output_type": "stream",
     "text": [
      "Opening:  index:federalreserve.gov-consumer_finances-2016e2019-inherit\n"
     ]
    },
    {
     "data": {
      "text/html": [
       "<h1>Survey of Consumer Finances, Inheritance Extract</h1>\n",
       "<p><code>federalreserve.gov-consumer_finances-2016e2019-inherit-1.3.1</code> Last Update: 2021-01-05T00:11:46</p>\n",
       "<p><em>An Extract from the survey of consumer finances for studying networth and ineritance, from multiple years</em></p>\n",
       "<p>This is an extract of the 2016 and 2019 Survey of Consumer Finances, with extracted variables\n",
       "and recoded variables oriented toward studying inheritance.</p>\n",
       "<h2>Images</h2>\n",
       "<p><a href=\"docs/networth_race_inc.png\"><img alt=\"doc_img\" src=\"docs/networth_race_inc.png\" title=\"networth_race_inc\" /></a></p>\n",
       "<p>Net Worth by Income Percentile and Race## Notes</p>\n",
       "<ul>\n",
       "<li>Version 1.2.2 Added the Inflatable flag</li>\n",
       "<li>Version 1.2.3 Inflated dollar ammounts to current dollars</li>\n",
       "<li>Version 1.2.6 Fixed inflation error, dded non-inflated dataset.</li>\n",
       "<li>Version 1.3.1 Added veriables for kids, vehicle assets, and others.</li>\n",
       "</ul>\n",
       "<h2>Contacts</h2>\n",
       "<ul>\n",
       "<li><strong>Wrangler</strong> <a href=\"mailto:eric@civicknowledge.com\">Eric Busboom</a>, <a href=\"http://civicknowledge.com\">Civic Knowledge</a></li>\n",
       "</ul>\n",
       "<h2>Resources</h2>\n",
       "<ul>\n",
       "<li><strong> <a href=\"data/inherit_scf_16_19.csv\">inherit_scf_16_19</a></strong>. Extract of the 2016 and 2019 SCF for inheritance and networth,uninflated</li>\n",
       "<li><strong> <a href=\"data/inherit_scf_16_19_i.csv\">inherit_scf_16_19_i</a></strong>. Extract of the 2016 and 2019 SCF for inheritance and networth, inflated to 2020 dollars</li>\n",
       "</ul>\n",
       "<h2>References</h2>\n",
       "<p><ul><li> <strong>scf</string>, <em>metapack+http://library.metatab.org/federalreserve.gov-consumer_finances.csv</em>. Survey of consumer finances data packages</li><li> <strong><a href=\"https://fred.stlouisfed.org/graph/fredgraph.csv?&id=CPIAUCSL\">cpi</a></strong>. Consumer Price Index</li><ul></p>"
      ],
      "text/plain": [
       "# Survey of Consumer Finances, Inheritance Extract\n",
       "`federalreserve.gov-consumer_finances-2016e2019-inherit-1.3.1` Last Update: 2021-01-05T00:11:46\n",
       "\n",
       "_An Extract from the survey of consumer finances for studying networth and ineritance, from multiple years_\n",
       "\n",
       "\n",
       "This is an extract of the 2016 and 2019 Survey of Consumer Finances, with extracted variables\n",
       "and recoded variables oriented toward studying inheritance.\n",
       "\n",
       "\n",
       " \n",
       "## Images\n",
       "\n",
       "[![doc_img](docs/networth_race_inc.png \"networth_race_inc\")](docs/networth_race_inc.png)\n",
       "\n",
       "Net Worth by Income Percentile and Race## Notes\n",
       "\n",
       "* Version 1.2.2 Added the Inflatable flag\n",
       "* Version 1.2.3 Inflated dollar ammounts to current dollars\n",
       "* Version 1.2.6 Fixed inflation error, dded non-inflated dataset.\n",
       "* Version 1.3.1 Added veriables for kids, vehicle assets, and others.\n",
       "## Contacts\n",
       "\n",
       "* **Wrangler** [Eric Busboom](mailto:eric@civicknowledge.com), [Civic Knowledge](http://civicknowledge.com)\n",
       "\n",
       "## Resources\n",
       "\n",
       "* ** [inherit_scf_16_19](data/inherit_scf_16_19.csv)**. Extract of the 2016 and 2019 SCF for inheritance and networth,uninflated\n",
       "* ** [inherit_scf_16_19_i](data/inherit_scf_16_19_i.csv)**. Extract of the 2016 and 2019 SCF for inheritance and networth, inflated to 2020 dollars\n",
       "\n",
       "## References\n",
       "<ul><li> <strong>scf</string>, <em>metapack+http://library.metatab.org/federalreserve.gov-consumer_finances.csv</em>. Survey of consumer finances data packages</li><li> <strong><a href=\"https://fred.stlouisfed.org/graph/fredgraph.csv?&id=CPIAUCSL\">cpi</a></strong>. Consumer Price Index</li><ul>\n"
      ]
     },
     "execution_count": 2,
     "metadata": {},
     "output_type": "execute_result"
    }
   ],
   "source": [
    "\n",
    "\n",
    "pkg = mp.multi_open('federalreserve.gov-consumer_finances-2016e2019-inherit', print_ref=True)\n",
    "#pkg = mp.jupyter.open_source_package()\n",
    "pkg"
   ]
  },
  {
   "cell_type": "code",
   "execution_count": 3,
   "metadata": {},
   "outputs": [],
   "source": [
    "inherit_scf_16_19 = pkg.resource('inherit_scf_16_19').dataframe()\n",
    "\n",
    "df =   make_descriptive_df(inherit_scf_16_19)    \n",
    "dfs = df.sample(500_000, replace=True, weights=df.wt0)"
   ]
  },
  {
   "cell_type": "code",
   "execution_count": 4,
   "metadata": {},
   "outputs": [],
   "source": [
    "dfs90 = dfs[dfs.nincpctle < 90]"
   ]
  },
  {
   "cell_type": "markdown",
   "metadata": {},
   "source": [
    "The first, and most central fact of our analysis is that there is a very large difference between the networth of white and black households[<sup>1</sup>](#fn1). A related fact is there are many ways to measure the difference, and even more ways to adjust the data, with the result that the racial inequality of household wealth is not a single number, but a range of numbers, each of which serves a different interpretation. It is our goal to describe the range of assumptions and adjustments so people engaged in studying inequality will have a more accurate understanding of the issue. \n",
    "\n",
    "The most basic summary statistics for most types of data is the mean, or average. The mean networth of US black households for our dataset is $\\$$152,000, while the white household average networth is over $\\$$1M. However, using the mean can be misleading for data that are related to money, so the median -- the value at which 50% of households have a higher networth, and 50\\$\\%\\$ have a lower networth, is often the preferred choice. The median networth of black households is about  $\\$$20,000, while the white median networth is about $\\$$190,000. Both median values are about 20% of the mean values, a very large difference. So, which value is correct?\n",
    "\n",
    "<span id=\"fn1\">(1)</span> Note that what we call a \"household\" isn't actually a household. As defined by the US Census, a household is a geoup of people who live in singe dwelling, and may consist of exgtended families or multiple famliles. In the Survey of Consumer Finances, what is called a household is actually a \"Primary Exconomic Unit\", which the sruvey defines as: \n",
    "\n",
    "    In brief, the PEU consists of an economically dominant single individual or couple (married or living as partners in a household and all other individuals in the household who are financially interdependent with that individual or couple.  For example, in the case of a household composed of a married couple who own their home, a minor child, a dependent adult child, and a financially independent parent of one of the members of the couple, the PEU would be the couple and the two children.\n",
    "    \n",
    "The practical implication of this definition of a household is that we will be able to assume that the households have one or two adults who control the household's finances, which will be important later when we examine wealth on a per-person basis, adjusting for household size. \n",
    "    "
   ]
  },
  {
   "cell_type": "code",
   "execution_count": 5,
   "metadata": {},
   "outputs": [
    {
     "data": {
      "text/plain": [
       "race\n",
       "black    0.002809\n",
       "white    0.016926\n",
       "Name: hhsize, dtype: float64"
      ]
     },
     "execution_count": 5,
     "metadata": {},
     "output_type": "execute_result"
    }
   ],
   "source": [
    "dfs.groupby(['race']).hhsize.mean()"
   ]
  },
  {
   "cell_type": "code",
   "execution_count": 6,
   "metadata": {},
   "outputs": [
    {
     "data": {
      "text/html": [
       "<div>\n",
       "<style scoped>\n",
       "    .dataframe tbody tr th:only-of-type {\n",
       "        vertical-align: middle;\n",
       "    }\n",
       "\n",
       "    .dataframe tbody tr th {\n",
       "        vertical-align: top;\n",
       "    }\n",
       "\n",
       "    .dataframe thead th {\n",
       "        text-align: right;\n",
       "    }\n",
       "</style>\n",
       "<table border=\"1\" class=\"dataframe\">\n",
       "  <thead>\n",
       "    <tr style=\"text-align: right;\">\n",
       "      <th></th>\n",
       "      <th>median</th>\n",
       "      <th>mean</th>\n",
       "    </tr>\n",
       "    <tr>\n",
       "      <th>race</th>\n",
       "      <th></th>\n",
       "      <th></th>\n",
       "    </tr>\n",
       "  </thead>\n",
       "  <tbody>\n",
       "    <tr>\n",
       "      <th>black</th>\n",
       "      <td>18506.160338</td>\n",
       "      <td>147851.767324</td>\n",
       "    </tr>\n",
       "    <tr>\n",
       "      <th>white</th>\n",
       "      <td>177776.132208</td>\n",
       "      <td>956466.383143</td>\n",
       "    </tr>\n",
       "  </tbody>\n",
       "</table>\n",
       "</div>"
      ],
      "text/plain": [
       "              median           mean\n",
       "race                               \n",
       "black   18506.160338  147851.767324\n",
       "white  177776.132208  956466.383143"
      ]
     },
     "metadata": {},
     "output_type": "display_data"
    },
    {
     "data": {
      "text/html": [
       "<div>\n",
       "<style scoped>\n",
       "    .dataframe tbody tr th:only-of-type {\n",
       "        vertical-align: middle;\n",
       "    }\n",
       "\n",
       "    .dataframe tbody tr th {\n",
       "        vertical-align: top;\n",
       "    }\n",
       "\n",
       "    .dataframe thead th {\n",
       "        text-align: right;\n",
       "    }\n",
       "</style>\n",
       "<table border=\"1\" class=\"dataframe\">\n",
       "  <thead>\n",
       "    <tr style=\"text-align: right;\">\n",
       "      <th></th>\n",
       "      <th>ratio</th>\n",
       "      <th>difference</th>\n",
       "    </tr>\n",
       "  </thead>\n",
       "  <tbody>\n",
       "    <tr>\n",
       "      <th>median</th>\n",
       "      <td>9.61</td>\n",
       "      <td>159000</td>\n",
       "    </tr>\n",
       "    <tr>\n",
       "      <th>mean</th>\n",
       "      <td>6.47</td>\n",
       "      <td>809000</td>\n",
       "    </tr>\n",
       "  </tbody>\n",
       "</table>\n",
       "</div>"
      ],
      "text/plain": [
       "        ratio  difference\n",
       "median   9.61      159000\n",
       "mean     6.47      809000"
      ]
     },
     "execution_count": 6,
     "metadata": {},
     "output_type": "execute_result"
    }
   ],
   "source": [
    "a = dfs.groupby('race').networth.median().to_frame('median')\n",
    "c = dfs.groupby('race').networth.mean().to_frame('mean')\n",
    "t = a.join(c)\n",
    "display(t)\n",
    "(t.loc['white']/t.loc['black']).to_frame('ratio').round(2)\\\n",
    "    .join((t.loc['white']-t.loc['black']).to_frame('difference').round(-3).astype(int))\n"
   ]
  },
  {
   "cell_type": "code",
   "execution_count": 7,
   "metadata": {},
   "outputs": [
    {
     "name": "stdout",
     "output_type": "stream",
     "text": [
      "6.469089957172298\n"
     ]
    },
    {
     "data": {
      "image/png": "[encoded data removed]",
      "text/plain": [
       "<Figure size 720x576 with 1 Axes>"
      ]
     },
     "metadata": {
      "needs_background": "light"
     },
     "output_type": "display_data"
    }
   ],
   "source": [
    "t = dfs.groupby('race').networth.mean()\n",
    "print(t.white/t.black)\n",
    "    \n",
    "with new_plot('Mean Net Worth By Race', source,\n",
    "             xlabel='Race', ylabel='Networth') as (fig,ax):\n",
    "    \n",
    "    t.plot.bar(ax=ax)"
   ]
  },
  {
   "cell_type": "code",
   "execution_count": 8,
   "metadata": {},
   "outputs": [
    {
     "data": {
      "text/plain": [
       "year  race \n",
       "2016  black      5849.648383\n",
       "      white     84554.008439\n",
       "2019  black      5900.000000\n",
       "      white    100400.000000\n",
       "Name: nw_adj, dtype: float64"
      ]
     },
     "execution_count": 8,
     "metadata": {},
     "output_type": "execute_result"
    }
   ],
   "source": [
    "t = dfs.copy()\n",
    "t['nw_adj'] = t.networth - t.nfin\n",
    "t = t.groupby(['year','race']).nw_adj.median()\n",
    "\n",
    "t"
   ]
  },
  {
   "cell_type": "code",
   "execution_count": null,
   "metadata": {},
   "outputs": [],
   "source": []
  },
  {
   "cell_type": "code",
   "execution_count": 9,
   "metadata": {},
   "outputs": [],
   "source": [
    "\n"
   ]
  },
  {
   "cell_type": "code",
   "execution_count": 10,
   "metadata": {},
   "outputs": [
    {
     "data": {
      "image/png": "[encoded data removed]",
      "text/plain": [
       "<Figure size 720x576 with 1 Axes>"
      ]
     },
     "metadata": {
      "needs_background": "light"
     },
     "output_type": "display_data"
    },
    {
     "data": {
      "text/html": [
       "<div>\n",
       "<style scoped>\n",
       "    .dataframe tbody tr th:only-of-type {\n",
       "        vertical-align: middle;\n",
       "    }\n",
       "\n",
       "    .dataframe tbody tr th {\n",
       "        vertical-align: top;\n",
       "    }\n",
       "\n",
       "    .dataframe thead th {\n",
       "        text-align: right;\n",
       "    }\n",
       "</style>\n",
       "<table border=\"1\" class=\"dataframe\">\n",
       "  <thead>\n",
       "    <tr style=\"text-align: right;\">\n",
       "      <th></th>\n",
       "      <th>ratio</th>\n",
       "      <th>ratio_inv</th>\n",
       "      <th>rel_a</th>\n",
       "      <th>rel_mean</th>\n",
       "    </tr>\n",
       "  </thead>\n",
       "  <tbody>\n",
       "    <tr>\n",
       "      <th>median</th>\n",
       "      <td>0.104000</td>\n",
       "      <td>9.606000</td>\n",
       "      <td>0.896000</td>\n",
       "      <td>1.623000</td>\n",
       "    </tr>\n",
       "    <tr>\n",
       "      <th>mean</th>\n",
       "      <td>0.155000</td>\n",
       "      <td>6.469000</td>\n",
       "      <td>0.845000</td>\n",
       "      <td>1.464000</td>\n",
       "    </tr>\n",
       "    <tr>\n",
       "      <th>rms</th>\n",
       "      <td>0.131987</td>\n",
       "      <td>8.189115</td>\n",
       "      <td>0.870873</td>\n",
       "      <td>1.545546</td>\n",
       "    </tr>\n",
       "  </tbody>\n",
       "</table>\n",
       "</div>"
      ],
      "text/plain": [
       "           ratio  ratio_inv     rel_a  rel_mean\n",
       "median  0.104000   9.606000  0.896000  1.623000\n",
       "mean    0.155000   6.469000  0.845000  1.464000\n",
       "rms     0.131987   8.189115  0.870873  1.545546"
      ]
     },
     "execution_count": 10,
     "metadata": {},
     "output_type": "execute_result"
    }
   ],
   "source": [
    "\n",
    "with new_plot('Mean vs Median Net Worth By Race', source,\n",
    "             xlabel='Statistic', ylabel='Net Worth') as (fig,ax):\n",
    "    a = dfs.groupby('race').networth.median().to_frame('median')\n",
    "    #b = dfs90.groupby('race').networth.mean().to_frame('mean<90%')\n",
    "    c = dfs.groupby('race').networth.mean().to_frame('mean')\n",
    "    \n",
    "    t = a.join(c)\n",
    "    \n",
    "    t.T.plot.bar(ax=ax)\n",
    "    plt.xticks(rotation=0) \n",
    "\n",
    "diffrpt(t.T)\n",
    "    "
   ]
  },
  {
   "cell_type": "markdown",
   "metadata": {},
   "source": [
    "If you want to show a large ratio you use the median, and if you want to show a large difference, you use the mean. \n",
    "\n",
    "However, when there are a small number of records in a group, the median have be very noisy, where the mean is more stable. \n"
   ]
  },
  {
   "cell_type": "code",
   "execution_count": 11,
   "metadata": {},
   "outputs": [
    {
     "name": "stdout",
     "output_type": "stream",
     "text": [
      "year\n",
      "2016    6.003194\n",
      "2019    6.997202\n",
      "Name: networth, dtype: float64\n"
     ]
    },
    {
     "data": {
      "image/png": "[encoded data removed]",
      "text/plain": [
       "<Figure size 720x576 with 1 Axes>"
      ]
     },
     "metadata": {
      "needs_background": "light"
     },
     "output_type": "display_data"
    }
   ],
   "source": [
    "t = dfs.groupby(['race','year']).networth.mean()\n",
    "print(t.white/t.black)\n",
    "    \n",
    "with new_plot('Mean Net Worth By Race', source,\n",
    "             xlabel='Race', ylabel='Networth') as (fig,ax):\n",
    "    \n",
    "    t.plot.bar(ax=ax)"
   ]
  },
  {
   "cell_type": "code",
   "execution_count": 12,
   "metadata": {},
   "outputs": [
    {
     "data": {
      "text/html": [
       "<div>\n",
       "<style scoped>\n",
       "    .dataframe tbody tr th:only-of-type {\n",
       "        vertical-align: middle;\n",
       "    }\n",
       "\n",
       "    .dataframe tbody tr th {\n",
       "        vertical-align: top;\n",
       "    }\n",
       "\n",
       "    .dataframe thead th {\n",
       "        text-align: right;\n",
       "    }\n",
       "</style>\n",
       "<table border=\"1\" class=\"dataframe\">\n",
       "  <thead>\n",
       "    <tr style=\"text-align: right;\">\n",
       "      <th></th>\n",
       "      <th>ratio</th>\n",
       "      <th>difference</th>\n",
       "    </tr>\n",
       "  </thead>\n",
       "  <tbody>\n",
       "    <tr>\n",
       "      <th>median</th>\n",
       "      <td>9.61</td>\n",
       "      <td>159000</td>\n",
       "    </tr>\n",
       "    <tr>\n",
       "      <th>mean</th>\n",
       "      <td>6.47</td>\n",
       "      <td>809000</td>\n",
       "    </tr>\n",
       "  </tbody>\n",
       "</table>\n",
       "</div>"
      ],
      "text/plain": [
       "        ratio  difference\n",
       "median   9.61      159000\n",
       "mean     6.47      809000"
      ]
     },
     "execution_count": 12,
     "metadata": {},
     "output_type": "execute_result"
    }
   ],
   "source": [
    "a = dfs.groupby('race').networth.median().to_frame('median')\n",
    "c = dfs.groupby('race').networth.mean().to_frame('mean')\n",
    "t = a.join(c)\n",
    "(t.loc['white']/t.loc['black']).to_frame('ratio').round(2)\\\n",
    "    .join((t.loc['white']-t.loc['black']).to_frame('difference').round(-3).astype(int))"
   ]
  },
  {
   "cell_type": "code",
   "execution_count": 13,
   "metadata": {},
   "outputs": [
    {
     "data": {
      "text/html": [
       "<div>\n",
       "<style scoped>\n",
       "    .dataframe tbody tr th:only-of-type {\n",
       "        vertical-align: middle;\n",
       "    }\n",
       "\n",
       "    .dataframe tbody tr th {\n",
       "        vertical-align: top;\n",
       "    }\n",
       "\n",
       "    .dataframe thead th {\n",
       "        text-align: right;\n",
       "    }\n",
       "</style>\n",
       "<table border=\"1\" class=\"dataframe\">\n",
       "  <thead>\n",
       "    <tr style=\"text-align: right;\">\n",
       "      <th></th>\n",
       "      <th>ratio</th>\n",
       "      <th>difference</th>\n",
       "    </tr>\n",
       "  </thead>\n",
       "  <tbody>\n",
       "    <tr>\n",
       "      <th>median</th>\n",
       "      <td>9.61</td>\n",
       "      <td>159000</td>\n",
       "    </tr>\n",
       "    <tr>\n",
       "      <th>mean</th>\n",
       "      <td>6.47</td>\n",
       "      <td>809000</td>\n",
       "    </tr>\n",
       "  </tbody>\n",
       "</table>\n",
       "</div>"
      ],
      "text/plain": [
       "        ratio  difference\n",
       "median   9.61      159000\n",
       "mean     6.47      809000"
      ]
     },
     "execution_count": 13,
     "metadata": {},
     "output_type": "execute_result"
    }
   ],
   "source": [
    "a = dfs.groupby('race').networth.median().to_frame('median')\n",
    "c = dfs.groupby('race').networth.mean().to_frame('mean')\n",
    "t = a.join(c)\n",
    "(t.loc['white']/t.loc['black']).to_frame('ratio').round(2)\\\n",
    "    .join((t.loc['white']-t.loc['black']).to_frame('difference').round(-3).astype(int))"
   ]
  },
  {
   "cell_type": "markdown",
   "metadata": {},
   "source": [
    "The reason for the difference between the median and the mean is that income is strongly skewed to the higher end. The top 1% earns a lot more money then the lower groups. "
   ]
  },
  {
   "cell_type": "code",
   "execution_count": 14,
   "metadata": {},
   "outputs": [
    {
     "data": {
      "text/html": [
       "<div>\n",
       "<style scoped>\n",
       "    .dataframe tbody tr th:only-of-type {\n",
       "        vertical-align: middle;\n",
       "    }\n",
       "\n",
       "    .dataframe tbody tr th {\n",
       "        vertical-align: top;\n",
       "    }\n",
       "\n",
       "    .dataframe thead th {\n",
       "        text-align: right;\n",
       "    }\n",
       "</style>\n",
       "<table border=\"1\" class=\"dataframe\">\n",
       "  <thead>\n",
       "    <tr style=\"text-align: right;\">\n",
       "      <th></th>\n",
       "      <th>median</th>\n",
       "      <th>mean</th>\n",
       "    </tr>\n",
       "    <tr>\n",
       "      <th>race</th>\n",
       "      <th></th>\n",
       "      <th></th>\n",
       "    </tr>\n",
       "  </thead>\n",
       "  <tbody>\n",
       "    <tr>\n",
       "      <th>black</th>\n",
       "      <td>0.0</td>\n",
       "      <td>0.114565</td>\n",
       "    </tr>\n",
       "    <tr>\n",
       "      <th>white</th>\n",
       "      <td>0.0</td>\n",
       "      <td>0.372916</td>\n",
       "    </tr>\n",
       "  </tbody>\n",
       "</table>\n",
       "</div>"
      ],
      "text/plain": [
       "       median      mean\n",
       "race                   \n",
       "black     0.0  0.114565\n",
       "white     0.0  0.372916"
      ]
     },
     "metadata": {},
     "output_type": "display_data"
    },
    {
     "data": {
      "text/html": [
       "<div>\n",
       "<style scoped>\n",
       "    .dataframe tbody tr th:only-of-type {\n",
       "        vertical-align: middle;\n",
       "    }\n",
       "\n",
       "    .dataframe tbody tr th {\n",
       "        vertical-align: top;\n",
       "    }\n",
       "\n",
       "    .dataframe thead th {\n",
       "        text-align: right;\n",
       "    }\n",
       "</style>\n",
       "<table border=\"1\" class=\"dataframe\">\n",
       "  <thead>\n",
       "    <tr style=\"text-align: right;\">\n",
       "      <th></th>\n",
       "      <th>ratio</th>\n",
       "      <th>difference</th>\n",
       "    </tr>\n",
       "  </thead>\n",
       "  <tbody>\n",
       "    <tr>\n",
       "      <th>median</th>\n",
       "      <td>NaN</td>\n",
       "      <td>0</td>\n",
       "    </tr>\n",
       "    <tr>\n",
       "      <th>mean</th>\n",
       "      <td>3.26</td>\n",
       "      <td>0</td>\n",
       "    </tr>\n",
       "  </tbody>\n",
       "</table>\n",
       "</div>"
      ],
      "text/plain": [
       "        ratio  difference\n",
       "median    NaN           0\n",
       "mean     3.26           0"
      ]
     },
     "execution_count": 14,
     "metadata": {},
     "output_type": "execute_result"
    }
   ],
   "source": [
    "a = dfs.groupby('race').networthpc.median().to_frame('median')\n",
    "c = dfs.groupby('race').networthpc.mean().to_frame('mean')\n",
    "t = a.join(c)\n",
    "display(t)\n",
    "(t.loc['white']/t.loc['black']).to_frame('ratio').round(2)\\\n",
    "    .join((t.loc['white']-t.loc['black']).to_frame('difference').round(-3).astype(int))"
   ]
  },
  {
   "cell_type": "code",
   "execution_count": 22,
   "metadata": {},
   "outputs": [
    {
     "data": {
      "text/plain": [
       "3    291502\n",
       "2    139554\n",
       "1     68944\n",
       "Name: nincpctle, dtype: Int64"
      ]
     },
     "execution_count": 22,
     "metadata": {},
     "output_type": "execute_result"
    }
   ],
   "source": [
    "dfs.nincpctle.value_counts()"
   ]
  },
  {
   "cell_type": "code",
   "execution_count": 15,
   "metadata": {},
   "outputs": [
    {
     "data": {
      "image/png": "[encoded data removed]",
      "text/plain": [
       "<Figure size 720x576 with 1 Axes>"
      ]
     },
     "metadata": {
      "needs_background": "light"
     },
     "output_type": "display_data"
    }
   ],
   "source": [
    "\n",
    "with new_plot('Median Normal Income By Income Decile', source,\n",
    "             xlabel='Normal Income Decile', ylabel='Normal Income Amount') as (fig,ax):\n",
    "    t = dfs.groupby('nincpctle').norminc.mean()\n",
    "    t.plot.bar(ax=ax);\n"
   ]
  },
  {
   "cell_type": "code",
   "execution_count": 16,
   "metadata": {},
   "outputs": [
    {
     "data": {
      "text/plain": [
       "race\n",
       "black    40724.716063\n",
       "white    67195.781504\n",
       "Name: norminc, dtype: float64"
      ]
     },
     "execution_count": 16,
     "metadata": {},
     "output_type": "execute_result"
    }
   ],
   "source": [
    "dfs.groupby('race').norminc.median()"
   ]
  },
  {
   "cell_type": "code",
   "execution_count": 17,
   "metadata": {},
   "outputs": [
    {
     "data": {
      "text/plain": [
       "(7131, 500000)"
      ]
     },
     "execution_count": 17,
     "metadata": {},
     "output_type": "execute_result"
    }
   ],
   "source": [
    "dfs.hhsize.sum(), len(dfs)"
   ]
  },
  {
   "cell_type": "code",
   "execution_count": 18,
   "metadata": {},
   "outputs": [
    {
     "data": {
      "text/plain": [
       "0.0"
      ]
     },
     "execution_count": 18,
     "metadata": {},
     "output_type": "execute_result"
    }
   ],
   "source": [
    "a = dfs[dfs.nincpctle>=90].networth.sum()\n",
    "b = dfs[dfs.nincpctle<90].networth.sum()\n",
    "a/(a+b)\n"
   ]
  },
  {
   "cell_type": "code",
   "execution_count": 19,
   "metadata": {},
   "outputs": [
    {
     "data": {
      "text/plain": [
       "0.0"
      ]
     },
     "execution_count": 19,
     "metadata": {},
     "output_type": "execute_result"
    }
   ],
   "source": [
    "a = dfs[dfs.nincpctle>=99].networth.sum()\n",
    "b = dfs[dfs.nincpctle<99].networth.sum()\n",
    "a/(a+b)"
   ]
  },
  {
   "cell_type": "markdown",
   "metadata": {},
   "source": [
    "Wealth inequality is primarily non-racial; the top earners have a disproportionate share of the income and the wealth."
   ]
  },
  {
   "cell_type": "code",
   "execution_count": 20,
   "metadata": {},
   "outputs": [
    {
     "data": {
      "image/png": "[encoded data removed]",
      "text/plain": [
       "<Figure size 864x504 with 1 Axes>"
      ]
     },
     "metadata": {
      "needs_background": "light"
     },
     "output_type": "display_data"
    },
    {
     "data": {
      "text/html": [
       "<div>\n",
       "<style scoped>\n",
       "    .dataframe tbody tr th:only-of-type {\n",
       "        vertical-align: middle;\n",
       "    }\n",
       "\n",
       "    .dataframe tbody tr th {\n",
       "        vertical-align: top;\n",
       "    }\n",
       "\n",
       "    .dataframe thead th {\n",
       "        text-align: right;\n",
       "    }\n",
       "</style>\n",
       "<table border=\"1\" class=\"dataframe\">\n",
       "  <thead>\n",
       "    <tr style=\"text-align: right;\">\n",
       "      <th></th>\n",
       "      <th>ratio</th>\n",
       "      <th>ratio_inv</th>\n",
       "      <th>rel_a</th>\n",
       "      <th>rel_mean</th>\n",
       "    </tr>\n",
       "  </thead>\n",
       "  <tbody>\n",
       "    <tr>\n",
       "      <th>1</th>\n",
       "      <td>0.02300</td>\n",
       "      <td>43.93100</td>\n",
       "      <td>0.977000</td>\n",
       "      <td>1.9110</td>\n",
       "    </tr>\n",
       "    <tr>\n",
       "      <th>2</th>\n",
       "      <td>0.12000</td>\n",
       "      <td>8.36000</td>\n",
       "      <td>0.880000</td>\n",
       "      <td>1.5730</td>\n",
       "    </tr>\n",
       "    <tr>\n",
       "      <th>3</th>\n",
       "      <td>0.23500</td>\n",
       "      <td>4.24600</td>\n",
       "      <td>0.765000</td>\n",
       "      <td>1.2380</td>\n",
       "    </tr>\n",
       "    <tr>\n",
       "      <th>rms</th>\n",
       "      <td>0.15292</td>\n",
       "      <td>25.93486</td>\n",
       "      <td>0.878285</td>\n",
       "      <td>1.5978</td>\n",
       "    </tr>\n",
       "  </tbody>\n",
       "</table>\n",
       "</div>"
      ],
      "text/plain": [
       "       ratio  ratio_inv     rel_a  rel_mean\n",
       "1    0.02300   43.93100  0.977000    1.9110\n",
       "2    0.12000    8.36000  0.880000    1.5730\n",
       "3    0.23500    4.24600  0.765000    1.2380\n",
       "rms  0.15292   25.93486  0.878285    1.5978"
      ]
     },
     "execution_count": 20,
     "metadata": {},
     "output_type": "execute_result"
    }
   ],
   "source": [
    "with new_plot('Net Worth by Income Percentile and Race', source, figsize=(12,7),\n",
    "             xlabel='Normal Annual Income, decile', ylabel='Median Net Worth') as (fig,ax):\n",
    "    t = dfs.groupby(['nincpctle', 'race']).networth.median().unstack()\n",
    "    t.plot.bar(ax=ax)\n",
    "\n",
    "diffrpt(t)"
   ]
  },
  {
   "cell_type": "code",
   "execution_count": 21,
   "metadata": {},
   "outputs": [
    {
     "ename": "TypeError",
     "evalue": "no numeric data to plot",
     "output_type": "error",
     "traceback": [
      "\u001b[0;31m---------------------------------------------------------------------------\u001b[0m",
      "\u001b[0;31mTypeError\u001b[0m                                 Traceback (most recent call last)",
      "\u001b[0;32m<ipython-input-21-9c9d0fc9fc63>\u001b[0m in \u001b[0;36m<module>\u001b[0;34m()\u001b[0m\n\u001b[1;32m      6\u001b[0m \u001b[0;34m\u001b[0m\u001b[0m\n\u001b[1;32m      7\u001b[0m     \u001b[0mt\u001b[0m \u001b[0;34m=\u001b[0m \u001b[0mt\u001b[0m\u001b[0;34m.\u001b[0m\u001b[0mgroupby\u001b[0m\u001b[0;34m(\u001b[0m\u001b[0;34m[\u001b[0m\u001b[0;34m'nincpctle'\u001b[0m\u001b[0;34m,\u001b[0m \u001b[0;34m'race'\u001b[0m\u001b[0;34m]\u001b[0m\u001b[0;34m)\u001b[0m\u001b[0;34m.\u001b[0m\u001b[0mnetworth\u001b[0m\u001b[0;34m.\u001b[0m\u001b[0mmedian\u001b[0m\u001b[0;34m(\u001b[0m\u001b[0;34m)\u001b[0m\u001b[0;34m.\u001b[0m\u001b[0munstack\u001b[0m\u001b[0;34m(\u001b[0m\u001b[0;34m)\u001b[0m\u001b[0;34m\u001b[0m\u001b[0;34m\u001b[0m\u001b[0m\n\u001b[0;32m----> 8\u001b[0;31m     \u001b[0mt\u001b[0m\u001b[0;34m.\u001b[0m\u001b[0mplot\u001b[0m\u001b[0;34m.\u001b[0m\u001b[0mbar\u001b[0m\u001b[0;34m(\u001b[0m\u001b[0max\u001b[0m\u001b[0;34m=\u001b[0m\u001b[0max\u001b[0m\u001b[0;34m)\u001b[0m\u001b[0;34m\u001b[0m\u001b[0;34m\u001b[0m\u001b[0m\n\u001b[0m\u001b[1;32m      9\u001b[0m \u001b[0;34m\u001b[0m\u001b[0m\n\u001b[1;32m     10\u001b[0m \u001b[0mdiffrpt\u001b[0m\u001b[0;34m(\u001b[0m\u001b[0mt\u001b[0m\u001b[0;34m)\u001b[0m\u001b[0;34m\u001b[0m\u001b[0;34m\u001b[0m\u001b[0m\n",
      "\u001b[0;32m~/opt/anaconda3/envs/data/lib/python3.7/site-packages/pandas/plotting/_core.py\u001b[0m in \u001b[0;36mbar\u001b[0;34m(self, x, y, **kwargs)\u001b[0m\n\u001b[1;32m   1105\u001b[0m         \u001b[0mother\u001b[0m \u001b[0maxis\u001b[0m \u001b[0mrepresents\u001b[0m \u001b[0ma\u001b[0m \u001b[0mmeasured\u001b[0m \u001b[0mvalue\u001b[0m\u001b[0;34m.\u001b[0m\u001b[0;34m\u001b[0m\u001b[0;34m\u001b[0m\u001b[0m\n\u001b[1;32m   1106\u001b[0m         \"\"\"\n\u001b[0;32m-> 1107\u001b[0;31m         \u001b[0;32mreturn\u001b[0m \u001b[0mself\u001b[0m\u001b[0;34m(\u001b[0m\u001b[0mkind\u001b[0m\u001b[0;34m=\u001b[0m\u001b[0;34m\"bar\"\u001b[0m\u001b[0;34m,\u001b[0m \u001b[0mx\u001b[0m\u001b[0;34m=\u001b[0m\u001b[0mx\u001b[0m\u001b[0;34m,\u001b[0m \u001b[0my\u001b[0m\u001b[0;34m=\u001b[0m\u001b[0my\u001b[0m\u001b[0;34m,\u001b[0m \u001b[0;34m**\u001b[0m\u001b[0mkwargs\u001b[0m\u001b[0;34m)\u001b[0m\u001b[0;34m\u001b[0m\u001b[0;34m\u001b[0m\u001b[0m\n\u001b[0m\u001b[1;32m   1108\u001b[0m \u001b[0;34m\u001b[0m\u001b[0m\n\u001b[1;32m   1109\u001b[0m     @Appender(\n",
      "\u001b[0;32m~/opt/anaconda3/envs/data/lib/python3.7/site-packages/pandas/plotting/_core.py\u001b[0m in \u001b[0;36m__call__\u001b[0;34m(self, *args, **kwargs)\u001b[0m\n\u001b[1;32m    947\u001b[0m                     \u001b[0mdata\u001b[0m\u001b[0;34m.\u001b[0m\u001b[0mcolumns\u001b[0m \u001b[0;34m=\u001b[0m \u001b[0mlabel_name\u001b[0m\u001b[0;34m\u001b[0m\u001b[0;34m\u001b[0m\u001b[0m\n\u001b[1;32m    948\u001b[0m \u001b[0;34m\u001b[0m\u001b[0m\n\u001b[0;32m--> 949\u001b[0;31m         \u001b[0;32mreturn\u001b[0m \u001b[0mplot_backend\u001b[0m\u001b[0;34m.\u001b[0m\u001b[0mplot\u001b[0m\u001b[0;34m(\u001b[0m\u001b[0mdata\u001b[0m\u001b[0;34m,\u001b[0m \u001b[0mkind\u001b[0m\u001b[0;34m=\u001b[0m\u001b[0mkind\u001b[0m\u001b[0;34m,\u001b[0m \u001b[0;34m**\u001b[0m\u001b[0mkwargs\u001b[0m\u001b[0;34m)\u001b[0m\u001b[0;34m\u001b[0m\u001b[0;34m\u001b[0m\u001b[0m\n\u001b[0m\u001b[1;32m    950\u001b[0m \u001b[0;34m\u001b[0m\u001b[0m\n\u001b[1;32m    951\u001b[0m     \u001b[0m__call__\u001b[0m\u001b[0;34m.\u001b[0m\u001b[0m__doc__\u001b[0m \u001b[0;34m=\u001b[0m \u001b[0m__doc__\u001b[0m\u001b[0;34m\u001b[0m\u001b[0;34m\u001b[0m\u001b[0m\n",
      "\u001b[0;32m~/opt/anaconda3/envs/data/lib/python3.7/site-packages/pandas/plotting/_matplotlib/__init__.py\u001b[0m in \u001b[0;36mplot\u001b[0;34m(data, kind, **kwargs)\u001b[0m\n\u001b[1;32m     59\u001b[0m             \u001b[0mkwargs\u001b[0m\u001b[0;34m[\u001b[0m\u001b[0;34m\"ax\"\u001b[0m\u001b[0;34m]\u001b[0m \u001b[0;34m=\u001b[0m \u001b[0mgetattr\u001b[0m\u001b[0;34m(\u001b[0m\u001b[0max\u001b[0m\u001b[0;34m,\u001b[0m \u001b[0;34m\"left_ax\"\u001b[0m\u001b[0;34m,\u001b[0m \u001b[0max\u001b[0m\u001b[0;34m)\u001b[0m\u001b[0;34m\u001b[0m\u001b[0;34m\u001b[0m\u001b[0m\n\u001b[1;32m     60\u001b[0m     \u001b[0mplot_obj\u001b[0m \u001b[0;34m=\u001b[0m \u001b[0mPLOT_CLASSES\u001b[0m\u001b[0;34m[\u001b[0m\u001b[0mkind\u001b[0m\u001b[0;34m]\u001b[0m\u001b[0;34m(\u001b[0m\u001b[0mdata\u001b[0m\u001b[0;34m,\u001b[0m \u001b[0;34m**\u001b[0m\u001b[0mkwargs\u001b[0m\u001b[0;34m)\u001b[0m\u001b[0;34m\u001b[0m\u001b[0;34m\u001b[0m\u001b[0m\n\u001b[0;32m---> 61\u001b[0;31m     \u001b[0mplot_obj\u001b[0m\u001b[0;34m.\u001b[0m\u001b[0mgenerate\u001b[0m\u001b[0;34m(\u001b[0m\u001b[0;34m)\u001b[0m\u001b[0;34m\u001b[0m\u001b[0;34m\u001b[0m\u001b[0m\n\u001b[0m\u001b[1;32m     62\u001b[0m     \u001b[0mplot_obj\u001b[0m\u001b[0;34m.\u001b[0m\u001b[0mdraw\u001b[0m\u001b[0;34m(\u001b[0m\u001b[0;34m)\u001b[0m\u001b[0;34m\u001b[0m\u001b[0;34m\u001b[0m\u001b[0m\n\u001b[1;32m     63\u001b[0m     \u001b[0;32mreturn\u001b[0m \u001b[0mplot_obj\u001b[0m\u001b[0;34m.\u001b[0m\u001b[0mresult\u001b[0m\u001b[0;34m\u001b[0m\u001b[0;34m\u001b[0m\u001b[0m\n",
      "\u001b[0;32m~/opt/anaconda3/envs/data/lib/python3.7/site-packages/pandas/plotting/_matplotlib/core.py\u001b[0m in \u001b[0;36mgenerate\u001b[0;34m(self)\u001b[0m\n\u001b[1;32m    267\u001b[0m     \u001b[0;32mdef\u001b[0m \u001b[0mgenerate\u001b[0m\u001b[0;34m(\u001b[0m\u001b[0mself\u001b[0m\u001b[0;34m)\u001b[0m\u001b[0;34m:\u001b[0m\u001b[0;34m\u001b[0m\u001b[0;34m\u001b[0m\u001b[0m\n\u001b[1;32m    268\u001b[0m         \u001b[0mself\u001b[0m\u001b[0;34m.\u001b[0m\u001b[0m_args_adjust\u001b[0m\u001b[0;34m(\u001b[0m\u001b[0;34m)\u001b[0m\u001b[0;34m\u001b[0m\u001b[0;34m\u001b[0m\u001b[0m\n\u001b[0;32m--> 269\u001b[0;31m         \u001b[0mself\u001b[0m\u001b[0;34m.\u001b[0m\u001b[0m_compute_plot_data\u001b[0m\u001b[0;34m(\u001b[0m\u001b[0;34m)\u001b[0m\u001b[0;34m\u001b[0m\u001b[0;34m\u001b[0m\u001b[0m\n\u001b[0m\u001b[1;32m    270\u001b[0m         \u001b[0mself\u001b[0m\u001b[0;34m.\u001b[0m\u001b[0m_setup_subplots\u001b[0m\u001b[0;34m(\u001b[0m\u001b[0;34m)\u001b[0m\u001b[0;34m\u001b[0m\u001b[0;34m\u001b[0m\u001b[0m\n\u001b[1;32m    271\u001b[0m         \u001b[0mself\u001b[0m\u001b[0;34m.\u001b[0m\u001b[0m_make_plot\u001b[0m\u001b[0;34m(\u001b[0m\u001b[0;34m)\u001b[0m\u001b[0;34m\u001b[0m\u001b[0;34m\u001b[0m\u001b[0m\n",
      "\u001b[0;32m~/opt/anaconda3/envs/data/lib/python3.7/site-packages/pandas/plotting/_matplotlib/core.py\u001b[0m in \u001b[0;36m_compute_plot_data\u001b[0;34m(self)\u001b[0m\n\u001b[1;32m    416\u001b[0m         \u001b[0;31m# no non-numeric frames or series allowed\u001b[0m\u001b[0;34m\u001b[0m\u001b[0;34m\u001b[0m\u001b[0;34m\u001b[0m\u001b[0m\n\u001b[1;32m    417\u001b[0m         \u001b[0;32mif\u001b[0m \u001b[0mis_empty\u001b[0m\u001b[0;34m:\u001b[0m\u001b[0;34m\u001b[0m\u001b[0;34m\u001b[0m\u001b[0m\n\u001b[0;32m--> 418\u001b[0;31m             \u001b[0;32mraise\u001b[0m \u001b[0mTypeError\u001b[0m\u001b[0;34m(\u001b[0m\u001b[0;34m\"no numeric data to plot\"\u001b[0m\u001b[0;34m)\u001b[0m\u001b[0;34m\u001b[0m\u001b[0;34m\u001b[0m\u001b[0m\n\u001b[0m\u001b[1;32m    419\u001b[0m \u001b[0;34m\u001b[0m\u001b[0m\n\u001b[1;32m    420\u001b[0m         \u001b[0;31m# GH25587: cast ExtensionArray of pandas (IntegerArray, etc.) to\u001b[0m\u001b[0;34m\u001b[0m\u001b[0;34m\u001b[0m\u001b[0;34m\u001b[0m\u001b[0m\n",
      "\u001b[0;31mTypeError\u001b[0m: no numeric data to plot"
     ]
    },
    {
     "data": {
      "image/png": "[encoded data removed]",
      "text/plain": [
       "<Figure size 864x504 with 1 Axes>"
      ]
     },
     "metadata": {
      "needs_background": "light"
     },
     "output_type": "display_data"
    }
   ],
   "source": [
    "with new_plot('Meidan Net Worth by Income Group and Race, Married, 45-64 years old', \n",
    "              source, figsize=(12,7),\n",
    "             xlabel='Normal Annual Income, Percentile', ylabel='Median Net Worth') as (fig,ax):\n",
    "    t = dfs90\n",
    "    t = t[(t.hhsize == 2) & (t.agecl.isin(['45-54','55-64']))  ]\n",
    "\n",
    "    t = t.groupby(['nincpctle', 'race']).networth.median().unstack()\n",
    "    t.plot.bar(ax=ax)\n",
    "    \n",
    "diffrpt(t)"
   ]
  },
  {
   "cell_type": "code",
   "execution_count": null,
   "metadata": {},
   "outputs": [],
   "source": [
    "with new_plot('Portion of Housholds Recieving Transfers by Age Class and Race',\n",
    "              source, figsize=(12,7),\n",
    "             xlabel='Normal Annual Income, decile', ylabel='Portion with Any Transfer') as (fig,ax):\n",
    "    \n",
    "    t = dfs.groupby(['agecl','race']).any_transfer.mean().unstack()\n",
    "    t.plot.bar(ax=ax)\n",
    "    \n",
    "diffrpt(t)\n"
   ]
  },
  {
   "cell_type": "code",
   "execution_count": null,
   "metadata": {},
   "outputs": [],
   "source": [
    "with new_plot('Net Worth by Income Percentile and Race\\nHouseholds with  gifts, transfers or inheritances',\n",
    "              source, figsize=(12,7),\n",
    "             xlabel='Normal Annual Income, decile', ylabel='Median Net Worth') as (fig,ax):\n",
    "    \n",
    "    nh = dfs[dfs.gi_sum == 0]  # \"no help\"\n",
    "    yh = dfs[dfs.gi_sum != 0] # \" Yes help\"\n",
    "    \n",
    "    t = yh[yh.nincpctle<95].groupby(['nincpctle','race']).networth.median().unstack()\n",
    "\n",
    "    t.rename(columns={'white':'White, Transfers', 'black':'Black, Transfers'}).plot.bar(ax=ax)\n",
    "    \n",
    "diffrpt(t)"
   ]
  },
  {
   "cell_type": "code",
   "execution_count": null,
   "metadata": {},
   "outputs": [],
   "source": [
    "with new_plot('Net Worth by Income Percentile and Race, No gifts, transfers or inheritances',\n",
    "              source, figsize=(12,7),\n",
    "             xlabel='Normal Annual Income, decile', ylabel='Median Net Worth') as (fig,ax):\n",
    "    \n",
    "    nh = dfs[dfs.gi_sum == 0]  # \"no help\"\n",
    "    yh = dfs[dfs.gi_sum != 0] # \" Yes help\"\n",
    "    \n",
    "    t = nh[nh.nincpctle<95].groupby(['nincpctle','race']).networth.median().unstack()\n",
    "\n",
    "    t.rename(columns={'white':'White, No Transfers', 'black':'Black, No Transfers'}).plot.bar(ax=ax)\n",
    "\n",
    "diffrpt(t)"
   ]
  },
  {
   "cell_type": "code",
   "execution_count": null,
   "metadata": {},
   "outputs": [],
   "source": [
    "fig, ax = plt.subplots(figsize=(12,8))\n",
    "\n",
    "fig.suptitle('Net Worth by Educational Accomplishment and Race\\nHouseholds without '\n",
    "             'gifts, transfers or inheritances, 50th income percentile', fontsize=20)\n",
    "t = dfs90[ (dfs90.nincpctle == 60) & (dfs90.gi_sum == 0) ]\n",
    "t = t.groupby(['edcl','race']).networthpc.median().unstack()\n",
    "\n",
    "display(diffrpt(t))\n",
    "\n",
    "t = t.rename(columns={'white':'White', 'black':'Black'})\n",
    "t.plot.bar(ax=ax)\n",
    "plt.gcf().text(0,0, f\"Source: Survey of Consumer Finances, 2016, 2019\", fontsize=14) \n",
    "ax.set_xlabel('Normal Annual Income, percentile')\n",
    "ax.set_ylabel('Median Net Worth');\n",
    "\n"
   ]
  },
  {
   "cell_type": "code",
   "execution_count": null,
   "metadata": {},
   "outputs": [],
   "source": [
    "\n",
    "with new_plot('Present Value of Gifts and Transfers, By Networth Decile', source, figsize=(12,7),\n",
    "             xlabel='Networth Decile', ylabel='Mean Transfer Value') as (fig,ax):\n",
    "    t = dfs[(dfs.hhsize == 2) & \n",
    "            (dfs.agecl.isin(['45-54','55-64'])) &\n",
    "            (dfs.edcl=='College') &\n",
    "            (dfs.nincpctle<95) & \n",
    "            (dfs.nwpctlecat<10)]\n",
    "    #t.groupby('nwpctle').gi_value_cd.mean().plot.bar(ax=ax)\n",
    "    t.groupby('gi_value_cd_decile').networth.mean().plot.bar(ax=ax)\n"
   ]
  },
  {
   "cell_type": "code",
   "execution_count": null,
   "metadata": {},
   "outputs": [],
   "source": []
  },
  {
   "cell_type": "code",
   "execution_count": null,
   "metadata": {},
   "outputs": [],
   "source": [
    "sns.scatterplot(data=dfs90, x='networth_pctle', y='gi_value_cd_pctle');\n",
    "\n",
    "t=dfs[['networth_pctle','gi_value_cd_pctle']].dropna()\n",
    "t.corr()"
   ]
  },
  {
   "cell_type": "code",
   "execution_count": null,
   "metadata": {},
   "outputs": [],
   "source": [
    "t = df.groupby(['ninccat','edcl','race']).networth.median().unstack()\n",
    "t = t.black/t.white\n",
    "t.unstack().plot()"
   ]
  },
  {
   "cell_type": "markdown",
   "metadata": {},
   "source": [
    "# Role of Stocks and Home Equity"
   ]
  },
  {
   "cell_type": "code",
   "execution_count": null,
   "metadata": {},
   "outputs": [],
   "source": [
    "t = dfs[dfs.n_transfer==0].copy()\n",
    "t['house_r'] = t.homeeq/t.asset\n",
    "t['eq_r'] = t.equity/t.asset\n",
    "t['other_r'] = (t.asset-t.equity-t.homeeq)/t.asset\n",
    "t['nfin_r'] = t.nfin/t.asset\n",
    "t[['asset','networth','house_r', 'eq_r','other_r', 'nfin_r']].corr()\n",
    "\n",
    "fig, ax = plt.subplots(2,2, figsize=(15,10))\n",
    "ax = list(ax.flat)\n",
    "\n",
    "g = t[t.nincpctle<99].groupby(['race','nincpctle'])\n",
    "\n",
    "g.eq_r.mean().unstack().T.plot.bar(ax=ax[0]); ax[0].set_title('Equities', fontsize=16)\n",
    "g.house_r.mean().unstack().T.plot.bar(ax=ax[1]); ax[1].set_title('Home Equity', fontsize=16)\n",
    "g.other_r.mean().unstack().T.plot.bar(ax=ax[2]); ax[2].set_title('Other Assets ( Excl home and equities )', fontsize=16)\n",
    "g.nfin_r.mean().unstack().T.plot.bar(ax=ax[3]); ax[3].set_title('Non Financial', fontsize=16)\n",
    "fig.suptitle(\"Portion of Assets in Type of Asset, by Race and Income Percentile\\nNo Transfers \", fontsize=20)\n",
    "\n",
    "plt.tight_layout()\n",
    "plt.subplots_adjust(top=0.90)"
   ]
  },
  {
   "cell_type": "code",
   "execution_count": null,
   "metadata": {},
   "outputs": [],
   "source": [
    "t = nh.copy()\n",
    "t['he_nfin_r'] = (t.homeeq+t.equity)/ (t.homeeq+t.equity+t.nfin)\n",
    "g = t[t.nincpctle<95].groupby(['race','nincpctle'])\n",
    "g.homeeq.mean().unstack().T.plot.bar()"
   ]
  },
  {
   "cell_type": "code",
   "execution_count": null,
   "metadata": {},
   "outputs": [],
   "source": []
  },
  {
   "cell_type": "code",
   "execution_count": null,
   "metadata": {},
   "outputs": [],
   "source": [
    "t = nh.copy()\n",
    "t = t[ (t.nincpctle < 90) & (t.homeeq > 0) & (t.gi_sum == 0) & (t.married==2)]\n",
    "g = t[t.nincpctle<95].groupby(['race','nincpctle'])\n",
    "t = g.networth.median().unstack().T\n",
    "t.plot.bar()"
   ]
  },
  {
   "cell_type": "code",
   "execution_count": null,
   "metadata": {},
   "outputs": [],
   "source": [
    "(t.black/t.white).plot.bar()"
   ]
  },
  {
   "cell_type": "code",
   "execution_count": null,
   "metadata": {},
   "outputs": [],
   "source": [
    "t = nh.copy()\n",
    "#t = t[ (t.nincpctle < 90) & (t.homeeq > 0) & (t.gi_sum == 0) & (t.married==2)]\n",
    "g = t[t.nincpctle<95].groupby(['race','nincpctle'])\n",
    "t = g.networth.median().unstack().T\n",
    "\n",
    "(t.black/t.white).plot.bar()"
   ]
  },
  {
   "cell_type": "code",
   "execution_count": null,
   "metadata": {},
   "outputs": [],
   "source": [
    "t = dfs[dfs.age_1 <45].groupby(['nincpctle','race']).any_transfer.mean().unstack() \n",
    "t"
   ]
  },
  {
   "cell_type": "code",
   "execution_count": null,
   "metadata": {},
   "outputs": [],
   "source": [
    "fig, ax = plt.subplots(figsize=(12,8))\n",
    "\n",
    "fig.suptitle('Percentage recieving a Transfer, By Age and Race', fontsize=20)\n",
    "\n",
    "t = (dfs.groupby(['race', 'agecl']).any_transfer.mean()*100).round(0).unstack().T\n",
    "\n",
    "t.plot.bar(ax=ax)\n",
    "plt.gcf().text(0,0, f\"Source: Survey of Consumer Finances, 2016\", fontsize=14) \n",
    "ax.set_xlabel('Age range')\n",
    "ax.set_ylabel('Percentage that have recieved a transfer');\n",
    "\n"
   ]
  },
  {
   "cell_type": "code",
   "execution_count": null,
   "metadata": {},
   "outputs": [],
   "source": [
    "t = dfs[(dfs.networth > 0) & (dfs.networth_pctle < 90) & (dfs.n_transfer > 0)]\n",
    "s =(t.gi_value_cd/t.networth).replace(np.inf,np.nan)\n",
    "s.groupby(t.race).describe()"
   ]
  },
  {
   "cell_type": "code",
   "execution_count": null,
   "metadata": {},
   "outputs": [],
   "source": [
    "(s[(s > 0) & (s<10)]).hist(bins=20)"
   ]
  },
  {
   "cell_type": "code",
   "execution_count": null,
   "metadata": {},
   "outputs": [],
   "source": [
    "\n",
    "\n",
    "dfs.groupby('race').case_id.count() / len(dfs)"
   ]
  },
  {
   "cell_type": "code",
   "execution_count": null,
   "metadata": {},
   "outputs": [],
   "source": [
    "inherit_scf_16_19 = pkg.resource('inherit_scf_16_19').dataframe()\n",
    "dfi = inherit_scf_16_19.sample(1_000_000, replace=True, weights=inherit_scf_16_19.wt0)\n",
    "dfi.groupby('race').case_id.count() / len(dfi)"
   ]
  },
  {
   "cell_type": "code",
   "execution_count": null,
   "metadata": {},
   "outputs": [],
   "source": [
    "dfi.groupby('race').norminc.median()"
   ]
  },
  {
   "cell_type": "markdown",
   "metadata": {},
   "source": [
    "# Share of Wealth of the Wealthy"
   ]
  },
  {
   "cell_type": "code",
   "execution_count": null,
   "metadata": {},
   "outputs": [],
   "source": [
    "# What portions of wealth are held by those above and below $1M in networth?\n",
    "t = df[(df.year == 2019) ].sort_values('networth')\n",
    "\n",
    "min_idx = np.abs(t.networth-1e6).argmin()+1\n",
    "\n",
    "# Row label of the first record with networth over $1M\n",
    "min_label = t.iloc[min_idx].name\n",
    "\n",
    "t.loc[:min_label,'nw_class']  = 'lt1m'\n",
    "t.loc[min_label:,'nw_class']  = 'gt1m'\n",
    "\n",
    "t['w_networth'] = t.networth * t.wt0\n",
    "t['w_asset'] = t.asset * t.wt0\n",
    "\n",
    "t.groupby('nw_class').w_networth.sum()/t.w_networth.sum()\n"
   ]
  },
  {
   "cell_type": "code",
   "execution_count": null,
   "metadata": {},
   "outputs": [],
   "source": [
    "t.groupby('nw_class').w_asset.sum()/t.w_asset.sum()\n"
   ]
  },
  {
   "cell_type": "code",
   "execution_count": null,
   "metadata": {},
   "outputs": [],
   "source": [
    "t.groupby('nw_class').apply(wmedian, 'norminc')"
   ]
  },
  {
   "cell_type": "code",
   "execution_count": null,
   "metadata": {},
   "outputs": [],
   "source": []
  }
 ],
 "metadata": {
  "kernelspec": {
   "display_name": "Python 3",
   "language": "python",
   "name": "python3"
  },
  "language_info": {
   "codemirror_mode": {
    "name": "ipython",
    "version": 3
   },
   "file_extension": ".py",
   "mimetype": "text/x-python",
   "name": "python",
   "nbconvert_exporter": "python",
   "pygments_lexer": "ipython3",
   "version": "3.7.6"
  }
 },
 "nbformat": 4,
 "nbformat_minor": 4
}
